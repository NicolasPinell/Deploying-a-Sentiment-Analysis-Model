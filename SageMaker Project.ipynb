{
 "cells": [
  {
   "cell_type": "markdown",
   "metadata": {},
   "source": [
    "# Creating a Sentiment Analysis Web App\n",
    "## Using PyTorch and SageMaker\n",
    "\n",
    "_Deep Learning Nanodegree Program | Deployment_\n",
    "\n",
    "---\n",
    "\n",
    "Now that we have a basic understanding of how SageMaker works we will try to use it to construct a complete project from end to end. Our goal will be to have a simple web page which a user can use to enter a movie review. The web page will then send the review off to our deployed model which will predict the sentiment of the entered review.\n",
    "\n",
    "## Instructions\n",
    "\n",
    "Some template code has already been provided for you, and you will need to implement additional functionality to successfully complete this notebook. You will not need to modify the included code beyond what is requested. Sections that begin with '**TODO**' in the header indicate that you need to complete or implement some portion within them. Instructions will be provided for each section and the specifics of the implementation are marked in the code block with a `# TODO: ...` comment. Please be sure to read the instructions carefully!\n",
    "\n",
    "In addition to implementing code, there will be questions for you to answer which relate to the task and your implementation. Each section where you will answer a question is preceded by a '**Question:**' header. Carefully read each question and provide your answer below the '**Answer:**' header by editing the Markdown cell.\n",
    "\n",
    "> **Note**: Code and Markdown cells can be executed using the **Shift+Enter** keyboard shortcut. In addition, a cell can be edited by typically clicking it (double-click for Markdown cells) or by pressing **Enter** while it is highlighted.\n",
    "\n",
    "## General Outline\n",
    "\n",
    "Recall the general outline for SageMaker projects using a notebook instance.\n",
    "\n",
    "1. Download or otherwise retrieve the data.\n",
    "2. Process / Prepare the data.\n",
    "3. Upload the processed data to S3.\n",
    "4. Train a chosen model.\n",
    "5. Test the trained model (typically using a batch transform job).\n",
    "6. Deploy the trained model.\n",
    "7. Use the deployed model.\n",
    "\n",
    "For this project, you will be following the steps in the general outline with some modifications. \n",
    "\n",
    "First, you will not be testing the model in its own step. You will still be testing the model, however, you will do it by deploying your model and then using the deployed model by sending the test data to it. One of the reasons for doing this is so that you can make sure that your deployed model is working correctly before moving forward.\n",
    "\n",
    "In addition, you will deploy and use your trained model a second time. In the second iteration you will customize the way that your trained model is deployed by including some of your own code. In addition, your newly deployed model will be used in the sentiment analysis web app."
   ]
  },
  {
   "cell_type": "markdown",
   "metadata": {},
   "source": [
    "## Step 1: Downloading the data\n",
    "\n",
    "As in the XGBoost in SageMaker notebook, we will be using the [IMDb dataset](http://ai.stanford.edu/~amaas/data/sentiment/)\n",
    "\n",
    "> Maas, Andrew L., et al. [Learning Word Vectors for Sentiment Analysis](http://ai.stanford.edu/~amaas/data/sentiment/). In _Proceedings of the 49th Annual Meeting of the Association for Computational Linguistics: Human Language Technologies_. Association for Computational Linguistics, 2011."
   ]
  },
  {
   "cell_type": "code",
   "execution_count": 1,
   "metadata": {},
   "outputs": [
    {
     "name": "stdout",
     "output_type": "stream",
     "text": [
      "mkdir: cannot create directory ‘../data’: File exists\n",
      "--2019-03-22 02:03:06--  http://ai.stanford.edu/~amaas/data/sentiment/aclImdb_v1.tar.gz\n",
      "Resolving ai.stanford.edu (ai.stanford.edu)... 171.64.68.10\n",
      "Connecting to ai.stanford.edu (ai.stanford.edu)|171.64.68.10|:80... connected.\n",
      "HTTP request sent, awaiting response... 200 OK\n",
      "Length: 84125825 (80M) [application/x-gzip]\n",
      "Saving to: ‘../data/aclImdb_v1.tar.gz’\n",
      "\n",
      "../data/aclImdb_v1. 100%[===================>]  80.23M  20.7MB/s    in 5.8s    \n",
      "\n",
      "2019-03-22 02:03:12 (13.9 MB/s) - ‘../data/aclImdb_v1.tar.gz’ saved [84125825/84125825]\n",
      "\n"
     ]
    }
   ],
   "source": [
    "%mkdir ../data\n",
    "!wget -O ../data/aclImdb_v1.tar.gz http://ai.stanford.edu/~amaas/data/sentiment/aclImdb_v1.tar.gz\n",
    "!tar -zxf ../data/aclImdb_v1.tar.gz -C ../data"
   ]
  },
  {
   "cell_type": "markdown",
   "metadata": {},
   "source": [
    "## Step 2: Preparing and Processing the data\n",
    "\n",
    "Also, as in the XGBoost notebook, we will be doing some initial data processing. The first few steps are the same as in the XGBoost example. To begin with, we will read in each of the reviews and combine them into a single input structure. Then, we will split the dataset into a training set and a testing set."
   ]
  },
  {
   "cell_type": "code",
   "execution_count": 2,
   "metadata": {},
   "outputs": [],
   "source": [
    "import os\n",
    "import glob\n",
    "\n",
    "def read_imdb_data(data_dir='../data/aclImdb'):\n",
    "    data = {}\n",
    "    labels = {}\n",
    "    \n",
    "    for data_type in ['train', 'test']:\n",
    "        data[data_type] = {}\n",
    "        labels[data_type] = {}\n",
    "        \n",
    "        for sentiment in ['pos', 'neg']:\n",
    "            data[data_type][sentiment] = []\n",
    "            labels[data_type][sentiment] = []\n",
    "            \n",
    "            path = os.path.join(data_dir, data_type, sentiment, '*.txt')\n",
    "            files = glob.glob(path)\n",
    "            \n",
    "            for f in files:\n",
    "                with open(f) as review:\n",
    "                    data[data_type][sentiment].append(review.read())\n",
    "                    # Here we represent a positive review by '1' and a negative review by '0'\n",
    "                    labels[data_type][sentiment].append(1 if sentiment == 'pos' else 0)\n",
    "                    \n",
    "            assert len(data[data_type][sentiment]) == len(labels[data_type][sentiment]), \\\n",
    "                    \"{}/{} data size does not match labels size\".format(data_type, sentiment)\n",
    "                \n",
    "    return data, labels"
   ]
  },
  {
   "cell_type": "code",
   "execution_count": 3,
   "metadata": {},
   "outputs": [
    {
     "name": "stdout",
     "output_type": "stream",
     "text": [
      "IMDB reviews: train = 12500 pos / 12500 neg, test = 12500 pos / 12500 neg\n"
     ]
    }
   ],
   "source": [
    "data, labels = read_imdb_data()\n",
    "print(\"IMDB reviews: train = {} pos / {} neg, test = {} pos / {} neg\".format(\n",
    "            len(data['train']['pos']), len(data['train']['neg']),\n",
    "            len(data['test']['pos']), len(data['test']['neg'])))"
   ]
  },
  {
   "cell_type": "markdown",
   "metadata": {},
   "source": [
    "Now that we've read the raw training and testing data from the downloaded dataset, we will combine the positive and negative reviews and shuffle the resulting records."
   ]
  },
  {
   "cell_type": "code",
   "execution_count": 4,
   "metadata": {},
   "outputs": [],
   "source": [
    "from sklearn.utils import shuffle\n",
    "\n",
    "def prepare_imdb_data(data, labels):\n",
    "    \"\"\"Prepare training and test sets from IMDb movie reviews.\"\"\"\n",
    "    \n",
    "    #Combine positive and negative reviews and labels\n",
    "    data_train = data['train']['pos'] + data['train']['neg']\n",
    "    data_test = data['test']['pos'] + data['test']['neg']\n",
    "    labels_train = labels['train']['pos'] + labels['train']['neg']\n",
    "    labels_test = labels['test']['pos'] + labels['test']['neg']\n",
    "    \n",
    "    #Shuffle reviews and corresponding labels within training and test sets\n",
    "    data_train, labels_train = shuffle(data_train, labels_train)\n",
    "    data_test, labels_test = shuffle(data_test, labels_test)\n",
    "    \n",
    "    # Return a unified training data, test data, training labels, test labets\n",
    "    return data_train, data_test, labels_train, labels_test"
   ]
  },
  {
   "cell_type": "code",
   "execution_count": 5,
   "metadata": {},
   "outputs": [
    {
     "name": "stdout",
     "output_type": "stream",
     "text": [
      "IMDb reviews (combined): train = 25000, test = 25000\n"
     ]
    }
   ],
   "source": [
    "train_X, test_X, train_y, test_y = prepare_imdb_data(data, labels)\n",
    "print(\"IMDb reviews (combined): train = {}, test = {}\".format(len(train_X), len(test_X)))"
   ]
  },
  {
   "cell_type": "markdown",
   "metadata": {},
   "source": [
    "Now that we have our training and testing sets unified and prepared, we should do a quick check and see an example of the data our model will be trained on. This is generally a good idea as it allows you to see how each of the further processing steps affects the reviews and it also ensures that the data has been loaded correctly."
   ]
  },
  {
   "cell_type": "code",
   "execution_count": 6,
   "metadata": {},
   "outputs": [
    {
     "name": "stdout",
     "output_type": "stream",
     "text": [
      "From the creators of Shrek",
      "",
      "",
      "",
      ".. OK, that grabbed my attention.<br /><br />Well the creators of Shrek also made Madagascar. Madagascar was half as good as Shrek.<br /><br />And now Flushed Away is half as good as Madagascar.<br /><br />That means Flushed Away isn't good. The animation and all that special effects were extremely good but the movie wasn't.<br /><br />The story of this movie was only meant for kids. It's seriously not possible for adults to actually love this flick.<br /><br />But there were many jokes meant for adults. I bet kids dint understand the jokes.<br /><br />Despite that I dint like this flick.<br /><br />I am completely disappointed. 4/10\n",
      "0\n"
     ]
    }
   ],
   "source": [
    "print(train_X[100])\n",
    "print(train_y[100])"
   ]
  },
  {
   "cell_type": "markdown",
   "metadata": {},
   "source": [
    "The first step in processing the reviews is to make sure that any html tags that appear should be removed. In addition we wish to tokenize our input, that way words such as *entertained* and *entertaining* are considered the same with regard to sentiment analysis."
   ]
  },
  {
   "cell_type": "code",
   "execution_count": 7,
   "metadata": {},
   "outputs": [],
   "source": [
    "import nltk\n",
    "from nltk.corpus import stopwords\n",
    "from nltk.stem.porter import *\n",
    "\n",
    "import re\n",
    "from bs4 import BeautifulSoup\n",
    "\n",
    "def review_to_words(review):\n",
    "    nltk.download(\"stopwords\", quiet=True)\n",
    "    stemmer = PorterStemmer()\n",
    "    \n",
    "    text = BeautifulSoup(review, \"html.parser\").get_text() # Remove HTML tags\n",
    "    text = re.sub(r\"[^a-zA-Z0-9]\", \" \", text.lower()) # Convert to lower case\n",
    "    words = text.split() # Split string into words\n",
    "    words = [w for w in words if w not in stopwords.words(\"english\")] # Remove stopwords\n",
    "    words = [PorterStemmer().stem(w) for w in words] # stem\n",
    "    \n",
    "    return words"
   ]
  },
  {
   "cell_type": "markdown",
   "metadata": {},
   "source": [
    "The `review_to_words` method defined above uses `BeautifulSoup` to remove any html tags that appear and uses the `nltk` package to tokenize the reviews. As a check to ensure we know how everything is working, try applying `review_to_words` to one of the reviews in the training set."
   ]
  },
  {
   "cell_type": "code",
   "execution_count": 8,
   "metadata": {},
   "outputs": [
    {
     "data": {
      "text/plain": [
       "['creator',\n",
       " 'shrek',\n",
       " 'ok',\n",
       " 'grab',\n",
       " 'attent',\n",
       " 'well',\n",
       " 'creator',\n",
       " 'shrek',\n",
       " 'also',\n",
       " 'made',\n",
       " 'madagascar',\n",
       " 'madagascar',\n",
       " 'half',\n",
       " 'good',\n",
       " 'shrek',\n",
       " 'flush',\n",
       " 'away',\n",
       " 'half',\n",
       " 'good',\n",
       " 'madagascar',\n",
       " 'mean',\n",
       " 'flush',\n",
       " 'away',\n",
       " 'good',\n",
       " 'anim',\n",
       " 'special',\n",
       " 'effect',\n",
       " 'extrem',\n",
       " 'good',\n",
       " 'movi',\n",
       " 'stori',\n",
       " 'movi',\n",
       " 'meant',\n",
       " 'kid',\n",
       " 'serious',\n",
       " 'possibl',\n",
       " 'adult',\n",
       " 'actual',\n",
       " 'love',\n",
       " 'flick',\n",
       " 'mani',\n",
       " 'joke',\n",
       " 'meant',\n",
       " 'adult',\n",
       " 'bet',\n",
       " 'kid',\n",
       " 'dint',\n",
       " 'understand',\n",
       " 'joke',\n",
       " 'despit',\n",
       " 'dint',\n",
       " 'like',\n",
       " 'flick',\n",
       " 'complet',\n",
       " 'disappoint',\n",
       " '4',\n",
       " '10']"
      ]
     },
     "execution_count": 8,
     "metadata": {},
     "output_type": "execute_result"
    }
   ],
   "source": [
    "# TODO: Apply review_to_words to a review (train_X[100] or any other review)\n",
    "review_to_words(train_X[100])"
   ]
  },
  {
   "cell_type": "markdown",
   "metadata": {},
   "source": [
    "**Question:** Above we mentioned that `review_to_words` method removes html formatting and allows us to tokenize the words found in a review, for example, converting *entertained* and *entertaining* into *entertain* so that they are treated as though they are the same word. What else, if anything, does this method do to the input?"
   ]
  },
  {
   "cell_type": "markdown",
   "metadata": {},
   "source": [
    "**Answer:** It removes the neutral words (and, a, to, the)"
   ]
  },
  {
   "cell_type": "markdown",
   "metadata": {},
   "source": [
    "The method below applies the `review_to_words` method to each of the reviews in the training and testing datasets. In addition it caches the results. This is because performing this processing step can take a long time. This way if you are unable to complete the notebook in the current session, you can come back without needing to process the data a second time."
   ]
  },
  {
   "cell_type": "code",
   "execution_count": 9,
   "metadata": {},
   "outputs": [],
   "source": [
    "import pickle\n",
    "\n",
    "cache_dir = os.path.join(\"../cache\", \"sentiment_analysis\")  # where to store cache files\n",
    "os.makedirs(cache_dir, exist_ok=True)  # ensure cache directory exists\n",
    "\n",
    "def preprocess_data(data_train, data_test, labels_train, labels_test,\n",
    "                    cache_dir=cache_dir, cache_file=\"preprocessed_data.pkl\"):\n",
    "    \"\"\"Convert each review to words; read from cache if available.\"\"\"\n",
    "\n",
    "    # If cache_file is not None, try to read from it first\n",
    "    cache_data = None\n",
    "    if cache_file is not None:\n",
    "        try:\n",
    "            with open(os.path.join(cache_dir, cache_file), \"rb\") as f:\n",
    "                cache_data = pickle.load(f)\n",
    "            print(\"Read preprocessed data from cache file:\", cache_file)\n",
    "        except:\n",
    "            pass  # unable to read from cache, but that's okay\n",
    "    \n",
    "    # If cache is missing, then do the heavy lifting\n",
    "    if cache_data is None:\n",
    "        # Preprocess training and test data to obtain words for each review\n",
    "        #words_train = list(map(review_to_words, data_train))\n",
    "        #words_test = list(map(review_to_words, data_test))\n",
    "        words_train = [review_to_words(review) for review in data_train]\n",
    "        words_test = [review_to_words(review) for review in data_test]\n",
    "        \n",
    "        # Write to cache file for future runs\n",
    "        if cache_file is not None:\n",
    "            cache_data = dict(words_train=words_train, words_test=words_test,\n",
    "                              labels_train=labels_train, labels_test=labels_test)\n",
    "            with open(os.path.join(cache_dir, cache_file), \"wb\") as f:\n",
    "                pickle.dump(cache_data, f)\n",
    "            print(\"Wrote preprocessed data to cache file:\", cache_file)\n",
    "    else:\n",
    "        # Unpack data loaded from cache file\n",
    "        words_train, words_test, labels_train, labels_test = (cache_data['words_train'],\n",
    "                cache_data['words_test'], cache_data['labels_train'], cache_data['labels_test'])\n",
    "    \n",
    "    return words_train, words_test, labels_train, labels_test"
   ]
  },
  {
   "cell_type": "code",
   "execution_count": 10,
   "metadata": {},
   "outputs": [
    {
     "name": "stdout",
     "output_type": "stream",
     "text": [
      "Read preprocessed data from cache file: preprocessed_data.pkl\n"
     ]
    }
   ],
   "source": [
    "# Preprocess data\n",
    "train_X, test_X, train_y, test_y = preprocess_data(train_X, test_X, train_y, test_y)"
   ]
  },
  {
   "cell_type": "code",
   "execution_count": 11,
   "metadata": {},
   "outputs": [
    {
     "data": {
      "text/plain": [
       "(25000,)"
      ]
     },
     "execution_count": 11,
     "metadata": {},
     "output_type": "execute_result"
    }
   ],
   "source": [
    "#train_X[0][0]\n",
    "#range(5)\n",
    "import numpy as np\n",
    "np.shape(train_X[0:])"
   ]
  },
  {
   "cell_type": "markdown",
   "metadata": {},
   "source": [
    "## Transform the data\n",
    "\n",
    "In the XGBoost notebook we transformed the data from its word representation to a bag-of-words feature representation. For the model we are going to construct in this notebook we will construct a feature representation which is very similar. To start, we will represent each word as an integer. Of course, some of the words that appear in the reviews occur very infrequently and so likely don't contain much information for the purposes of sentiment analysis. The way we will deal with this problem is that we will fix the size of our working vocabulary and we will only include the words that appear most frequently. We will then combine all of the infrequent words into a single category and, in our case, we will label it as `1`.\n",
    "\n",
    "Since we will be using a recurrent neural network, it will be convenient if the length of each review is the same. To do this, we will fix a size for our reviews and then pad short reviews with the category 'no word' (which we will label `0`) and truncate long reviews."
   ]
  },
  {
   "cell_type": "markdown",
   "metadata": {},
   "source": [
    "### (TODO) Create a word dictionary\n",
    "\n",
    "To begin with, we need to construct a way to map words that appear in the reviews to integers. Here we fix the size of our vocabulary (including the 'no word' and 'infrequent' categories) to be `5000` but you may wish to change this to see how it affects the model.\n",
    "\n",
    "> **TODO:** Complete the implementation for the `build_dict()` method below. Note that even though the vocab_size is set to `5000`, we only want to construct a mapping for the most frequently appearing `4998` words. This is because we want to reserve the special labels `0` for 'no word' and `1` for 'infrequent word'."
   ]
  },
  {
   "cell_type": "code",
   "execution_count": 12,
   "metadata": {},
   "outputs": [
    {
     "name": "stdout",
     "output_type": "stream",
     "text": [
      "[['comment', 'movi', 'delet', 'twice', 'find', 'pretti', 'offend', 'sinc', 'make', 'effort', 'judg', 'movi', 'peopl', 'pleas', 'toler', 'peopl', 'opinion', 'obvious', 'write', 'spirit', 'nietzsch', 'work', 'understood', 'ill', 'chang', 'comment', 'complet', 'think', 'realli', 'bad', 'movi', 'sever', 'reason', 'subject', 'one', 'care', 'make', 'movi', 'philosoph', 'even', 'today', 'understood', 'mass', 'amongst', 'peer', 'bring', 'passion', 'discuss', 'one', 'thing', 'philosoph', 'agre', 'nietzsch', 'great', 'thinker', 'make', 'movi', 'life', 'obvious', 'includ', 'idea', 'thing', 'one', 'extrem', 'care', 'prefer', 'wisdom', 'start', 'know', 'know', 'one', 'might', 'think', 'review', 'movi', 'movi', 'imaginari', 'charact', 'life', 'someon', 'actual', 'live', 'great', 'influenc', 'world', 'yesterday', 'today', 'tomorrow', 'someon', 'tell', 'stori', 'tomato', 'express', 'thought', 'stori', 'also', 'chosen', 'subject', 'tomato', 'respons', 'produc', 'make', 'movi', 'actual', 'fact', 'special', 'case', 'like', 'respons', 'taken', 'screenplay', 'one', 'first', 'thing', 'notic', 'ridicul', 'accent', 'distract', 'nietzsch', 'truth', 'found', 'help', 'put', 'thing', 'right', 'geograph', 'perspect', 'time', 'come', 'make', 'proper', 'english', 'better', 'yet', 'german', 'even', 'mel', 'gibson', 'got', 'part', 'right', 'let', 'charact', 'speak', 'gibberish', 'arama', 'passion', 'secondli', 'well', 'act', '3d', 'assant', 'actor', 'depict', 'nietzsch', 'bad', 'cast', '4th', 'fact', 'way', 'wast', 'celluloid'], ['gave', 'ridicul', 'titl', 'comedi', 'horror', 'flick', '2', 'sever', 'famou', 'porn', 'star', 'past', 'appear', 'group', 'tourist', 'supposedli', 'vacat', 'ireland', 'actual', 'canada', 'run', 'afoul', 'cannibalist', 'inbr', 'mutant', 'someth', 'plot', 'less', 'right', 'hill', 'eye', 'and', 'wrong', 'turn', 'problem', 'unless', 'miscount', 'one', 'mutant', 'display', 'impress', 'sort', 'like', 'potbelli', 'mummi', 'homemad', 'film', 'five', 'year', 'ago', 'gori', 'silli', 'death', 'help', 'film', 'strictli', 'amateur', 'night', 'bore', 'beyond', 'belief', 'end', 'predict', 'done', 'death', 'pun', 'intend'], ['watch', '14', 'minut', 'great', 'combin', 'realli', 'bad', 'act', 'realli', 'bad', 'direct', 'shot', 'use', 'disgust', 'broke', '180', 'degre', 'angl', 'time', 'head', 'hurt', 'tri', 'watch', 'load', 'know', 'dirt', 'mysteri', 'machin', 'window', 'make', 'see', 'light', 'light', 'window', 'annoy', 'els', 'badli', 'frame', 'time', 'make', 'want', 'scream', 'ladi', 'direct', 'direct', 'short', 'film', 'pretti', 'sure', 'way', 'better', 'direct', 'featur', 'film', 'stori', 'unbeliev', 'long', 'french', 'kiss', 'scene', 'begin', 'tell', 'gonna', 'pretti', 'aw', 'pretti', 'much', 'tri', 'avoid', 'realli', 'bad', 'movi', 'cost', 'save', '5', 'buck', 'rental', '1h30', 'hour', 'life', 'never', 'get', 'back'], ['well', 'blow', 'woodi', 'allen', 'film', 'walk', 'half', 'hour', 'awar', 'moral', 'fragil', 'comment', 'film', 'seen', 'less', 'half', 'hope', 'understand', 'basic', 'becam', 'appar', 'earli', 'go', 'patronis', 'screen', 'script', 'set', 'conceit', 'bullet', 'point', 'cast', 'tri', 'charact', 'hannah', 'sister', 'except', 'chloe', 'sevigni', 'badli', 'direct', 'camera', 'sat', 'around', 'portent', 'noth', 'film', 'chat', 'actor', 'deliv', 'drama', 'none', 'partial', 'pre', 'narrat', 'action', 'noth', 'develop', 'dramat', 'situat', 'mayb', 'leav', 'earli', 'case', 'decid', 'anoth', 'hour', 'half', 'one', 'liner', 'allen', 'clone', 'script', 'funni', 'moment', 'went', 'almost', 'entir', 'back', 'ferrel', 'excerpt', 'trailer', 'trailer', 'hook', 'doh', 'littl', 'pace', 'let', 'fli', 'nonchalantli', 'best', 'wors', 'fluiditi', 'say', 'film', 'wooden', 'make', 'forest', 'look', 'like', 'jelli', 'open', 'caf', 'bound', 'discuss', 'abject', 'case', 'point', 'thing', 'done', 'number', 'pot', 'review', '2', '10'], ['great', 'opportun', 'indi', 'director', 'make', 'interest', 'film', 'rock', 'musician', 'brink', 'stardom', 'could', 'decent', 'film', 'would', 'dealt', 'john', 'livien', 'traumat', 'past', 'tortur', 'psych', 'instead', 'ridicul', 'attempt', 'identifi', 'john', 'livien', 'life', 'john', 'lennon', 'john', 'livien', 'suicida', 'mother', 'hero', 'john', 'lennon', 'wish', 'becom', 'power', 'prolif', 'lennon', 'instead', 'focus', 'john', 'lennon', 'music', 'brillianc', 'wonder', 'abil', 'bare', 'other', 'learn', 'someth', 'life', 'show', 'lennon', 'legaci', 'confus', 'drug', 'addict', 'soul', 'look', 'upon', 'god', 'instead', 'man', 'huge', 'john', 'lennon', 'fan', 'movi', 'remind', 'anoth', 'crazi', 'person', 'obsess', 'lennon', 'lennon', 'killer', 'mark', 'david', 'chapman', 'lennon', 'man', 'brutal', 'murder', 'someon', 'els', 'ident', 'crisi', 'lennon', 'need', 'remind', 'john', 'lennon', 'gave', 'much', 'world', 'music', 'honesti', 'repuls', 'see', 'anoth', 'disturb', 'person', 'main', 'charact', 'movi', 'obsess', 'lennon', 'show', 'beauti', 'contribut', 'world', 'yoko', 'ono', 'gracious', 'honor', 'john', 'lennon', 'memori', 'make', 'memori', 'central', 'park', 'give', 'fan', 'chanc', 'pay', 'respect', 'rememb', 'john', 'instead', 'director', 'movi', 'chose', 'use', 'site', 'killer', 'attempt', 'commit', 'suicid', 'found', 'disturb', 'disrespect', 'lennon', 'memori', 'man', 'peac', 'die', 'brutal', 'senseless', 'death', 'see', 'violenc', 'near', 'site', 'felt', 'like', 'revisit', 'terribl', 'wound', 'lennon', 'fan', 'ruin', 'movi', 'complet', 'could', 'decent', 'movi', 'left', 'bitter', 'tast', 'mouth', 'let', 'john', 'lennon', 'famili', 'rest', 'peac', 'remind', 'viciou', 'murder', 'irrespons', 'movi'], ['parker', 'stone', 'transplant', 'paci', 'explet', 'ridden', 'humour', 'anim', 'masterpiec', 'featur', 'length', 'live', 'action', 'film', 'gener', 'good', 'result', 'much', 'film', 'trey', 'matt', 'run', 'amok', 'new', 'toy', 'box', 'plot', 'simplic', 'two', 'averag', 'guy', 'invent', 'new', 'sport', 'blend', 'driveway', 'basketbal', 'basebal', 'score', 'becom', 'nation', 'craze', 'along', 'way', 'encount', 'numer', 'sport', 'movi', 'clich', 'send', 'along', 'bit', 'popular', 'cultur', 'come', 'sight', 'run', 'like', 'stretch', 'south', 'park', 'episod', 'usual', 'machin', 'gun', 'dialogu', 'toilet', 'humour', 'homili', 'heart', 'film', 'weak', 'associ', 'team', 'gave', 'us', 'airplan', 'nake', 'gun', 'seri', 'influenc', 'clearli', 'seen', 'heavi', 'use', 'lame', 'sight', 'gag', 'presenc', 'glossi', 'rather', 'two', 'dimension', 'yasmin', 'bleeth', 'role', 'usual', 'given', 'priscilla', 'presley', 'robert', 'vaughn', 'littl', 'better', 'play', 'corpor', 'b', 'tard', 'parti', 'piec', 'ever', 'sinc', 'bullitt', 'ernest', 'borgnin', 'overact', 'one', 'must', 'admit', 'perfect', 'role', 'lunat', 'team', 'owner', 'notic', 'yet', 'parker', 'stone', 'seem', 'comfort', 'rock', 'star', 'wannab', 'comic', 'manifest', 'promin', 'given', 'soundtrack', 'everyth', 'creat', 'usual', 'give', 'good', 'select', 'includ', 'obligatori', 'track', 'ultra', 'non', 'pc', 'vehicl', 'dvda', 'special', 'mention', 'must', 'go', 'dian', 'bachar', 'deserv', 'sort', 'award', 'endur', 'difficult', 'job', 'play', 'stan', 'parker', 'stone', 'rampag', 'pair', 'cartman', 'summari', 'entertain', 'comedi', 'held', 'back', 'full', 'potenti', 'much', 'relianc', 'nake', 'gun', 'airplan', 'formula', 'parker', 'stone', 'could', 'someth', 'truli', 'brilliant', 'absolut', 'aw', 'given', 'full', 'control', 'futur', 'film', 'america', 'either', 'lock', 'guy', 'put', 'charg'], ['recent', 'watch', '54', 'version', 'film', 'judi', 'appreci', 'stori', 'music', 'found', 'film', 'fail', 'hold', 'attent', 'expect', '76', 'remak', 'stori', 'except', 'barbra', 'twist', 'pleasantli', 'surpris', 'much', 'realist', 'modern', 'look', 'fame', 'money', 'love', 'price', 'version', 'much', 'real', '54', 'one', 'arguabl', 'better', 'music', 'better', 'act', 'grip', 'plot', 'line', 'cours', 'deeper', 'love', 'understand', 'previou', 'film', 'american', 'film', 'institut', 'top', '100', 'list', 'grip', 'remak', 'fail', 'make', 'mark', 'critic', 'list'], ['note', 'georg', 'litman', 'other', 'mysteri', 'scienc', 'theater', '3000', 'riff', 'think', 'breeder', 'favorit', 'riff', 'look', 'like', 'simpli', 'complet', 'absurd', 'right', 'well', 'would', 'say', 'must', 'give', 'credit', 'mst3k', 'crew', 'tri', 'ridicul', 'tv', 'movi', 'realli', 'make', 'much', 'fun', 'dialog', 'bill', 'good', 'playwright', 'hand', 'product', 'bad', 'even', 'would', 'disown', 'junior', 'high', 'school', 'drama', 'club', 'could', 'better', 'would', 'recommend', 'buy', 'book', 'read', 'hamlet'], ['film', 'begin', 'peopl', 'earth', 'discov', 'rocket', 'mar', 'lost', 'drift', 'space', 'near', 'planet', 'retriev', 'one', 'crew', 'member', 'ill', 'one', 'aliv', 'two', 'miss', 'happen', 'told', 'flashback', 'surviv', 'member', 'mar', 'crew', 'appar', 'attack', 'whole', 'host', 'silli', 'bug', 'eye', 'monster', 'oddli', 'set', 'pretti', 'good', 'monster', 'among', 'silliest', 'seen', 'film', 'plu', 'odd', 'attempt', 'realism', 'product', 'use', 'process', 'call', 'cinemag', 'unfortun', 'wonder', 'innov', 'made', 'film', 'look', 'pretti', 'cheap', 'surfac', 'mar', 'intens', 'red', 'practic', 'made', 'eye', 'bleed', 'bad', 'despit', 'chees', 'film', 'somewhat', 'interest', 'plot', 'well', 'good', 'messag', 'space', 'travel', 'lover', 'genr', 'well', 'worth', 'see', 'other', 'may', 'find', 'whole', 'thing', 'rather', 'silli', 'see', 'decid', 'today', 'standard', 'especi', 'good', 'sci', 'fi', 'film', 'compar', 'film', 'made', 'time', 'stack', 'pretti', 'well', 'ps', 'watch', 'film', 'pay', 'care', 'attent', 'dr', 'tremayn', 'look', 'like', 'spit', 'imag', 'dr', 'quest', 'jonni', 'quest', 'cartoon', 'plu', 'sound', 'act', 'lot', 'like'], ['plot', 'kurt', 'harri', 'jeff', 'wincott', 'bitter', 'ex', 'cop', 'goe', 'undercov', 'peacemak', 'friend', 'kill', 'leader', 'discov', 'woman', 'want', 'run', 'mayor', 'anyth', 'achiev', 'goal', 'even', 'murder', 'cast', 'good', 'jeff', 'wincott', 'good', 'martial', 'artist', 'good', 'actor', 'brigitt', 'nielsen', 'play', 'sexi', 'antagonist', 'togeth', 'anoth', 'bad', 'guy', 'play', 'matthia', 'hue', 'also', 'good', 'martial', 'artist', 'direct', 'good', 'fight', 'scene', 'also', 'rest', 'ok', 'toni', 'burton', 'play', 'friend', 'kurt', 'kill', 'nilsen', 'cyndi', 'pass', 'play', 'bad', 'girl', 'produc', 'anoth', 'action', 'martial', 'art', 'film', 'bounti', 'tracker', 'lorenzo', 'lama', 'good', 'action', 'film', 'best', 'film', 'martial', 'law', 'seri'], ['caught', 'movi', 'sci', 'fi', 'head', 'work', 'interest', 'see', 'dean', 'cain', 'dive', 'avoid', 'envelop', 'flame', 'least', 'dozen', 'time', 'movi', 'peak', 'interest', 'well', 'afraid', 'wish', 'one', 'envelop', 'flame', 'movi', 'pretti', 'bad', 'act', 'begin', 'aw', 'aw', 'aw', 'charact', 'complet', 'obnoxi', 'dialogu', 'wors', 'typic', 'z', 'grade', 'sci', 'fi', 'movi', 'toward', 'end', 'movi', 'began', 'remind', 'hollow', 'man', 'complet', 'escap', 'via', 'elev', 'shaft', 'except', 'dragon', 'nake', 'invis', 'man', 'unlik', 'similar', 'flick', 'howev', 'one', 'even', 'awesom', 'bad', 'plain', 'bad'], ['anyon', 'wonder', 'one', 'make', 'movi', 'like', 'use', 'convers', 'charact', 'simpl', 'theme', 'friendship', 'struggl', 'evolv', 'someth', 'new', 'better', 'differ', 'folk', 'need', 'take', 'film', 'see', 'top', 'notch', 'write', 'direct', 'act', 'meld', 'wonder', 'even', 'observ', 'thing', 'use', 'itali', 'england', 'day', 'time', 'funnel', 'terrif', 'comedi', 'entertain', 'made', '1992', 'alfr', 'molina', 'joan', 'plowright', 'polli', 'walker', 'josi', 'lawrenc', 'jim', 'broadbent', 'miranda', 'richardson', 'michael', 'kitchen', 'major', 'role', 'brush', 'stroke', 'direct', 'mike', 'newel', 'actor', 'accomplish', 'vividli', 'memor', 'perform', 'photograph', 'sublim', 'subtl', 'painter', 'eye', 'reminisc', 'theatric', 'bedroom', 'farc', 'turn', 'centuri', 'film', 'might', 'call', 'friendship', 'farc', 'becom', 'worthwhil', 'experi', 'growth', 'romant', 'natur', 'within', 'charact', 'viewer', 'artist', 'telegram', 'import', 'care', 'around', 'us'], ['oliv', 'hardi', 'bedevil', 'sound', 'horn', 'bell', 'phone', 'trombon', 'doctor', 'finlayson', 'advis', 'peac', 'quiet', 'diet', 'goat', 'milk', 'partner', 'stan', 'laurel', 'come', 'great', 'solut', 'live', 'dock', 'boat', 'salt', 'sea', 'air', 'help', 'olli', 'get', 'rest', 'need', 'great', 'premis', 'mad', 'cap', 'hijink', 'ensu', 'boat', 'set', 'adrift', 'hungri', 'goat', 'escap', 'convict', 'richard', 'cramer', 'stow', 'along', 'ride', 'got', 'kick', 'gag', 'film', 'start', 'sign', 'horn', 'test', 'factori', 'silenc', 'men', 'work', 'earli', 'stori', 'boy', 'apart', 'featur', 'number', 'mix', 'plumb', 'applianc', 'mishap', 'stan', 'banana', 'within', 'banana', 'bit', 'laurel', 'coupl', 'great', 'line', 'pictur', 'like', 'must', 'di', 'unconnect', 'one', 'roll', 'respons', 'crimin', 'board', 'ship', 'self', 'preserv', 'last', 'law', 'averag', 'precis', 'great', 'student', 'laurel', 'hardi', 'film', 'mani', 'board', 'know', 'enjoy', 'kid', 'find', 'entertain', 'today', 'back', 'youth', 'count', 'sap', 'sea', 'provid', 'decent', 'hour', 'hornophob', 'fun', 'well', 'way', 'hornomania'], ['cecil', 'b', 'demil', 'realli', 'knew', 'creat', 'classic', '7', 'decad', 'western', 'come', 'across', 'real', 'mccoy', 'engross', 'entertain', 'spectacular', 'way', 'outdat', 'real', 'fan', 'tv', 'deadwood', 'tell', 'perform', 'gari', 'cooper', 'wild', 'bill', 'hickock', 'jean', 'arthor', 'calam', 'jane', 'far', 'target', 'giant', 'hollywood', 'anymor', 'plainsman', 'one', 'dozen', 'classic', '1936', '1945', 'decad', 'seen', 'endur', 'commerci', 'life', 'decad', 'decad', 'releas', 'issu', 'issu', 'filmmak', 'like', 'today', 'spielberg', 'jackson', 'bruckheim', 'like', 'kid', 'play', 'sandbox', 'none', 'today', 'movi', 'sought', '7', 'month', 'let', 'alon', '70', 'year'], ['far', 'know', 'real', 'guy', 'main', 'actor', 'play', 'saw', 'perform', 'said', 'outstand', 'portray', 'agre', 'fantast', 'film', 'quit', 'gift', 'boy', 'man', 'special', 'bodi', 'part', 'help', 'oscar', 'bafta', 'win', 'golden', 'globe', 'nomin', 'daniel', 'day', 'lewi', 'play', 'christi', 'browna', 'crippl', 'man', 'cerebr', 'palsi', 'spend', 'life', 'floor', 'wheelchair', 'carri', 'famili', 'special', 'left', 'foot', 'though', 'write', 'paint', 'hold', 'thing', 'learn', 'speak', 'later', 'film', 'good', 'guy', 'like', 'also', 'star', 'home', 'alon', '2', 'oscar', 'win', 'golden', 'globe', 'nomin', 'brenda', 'fricker', 'mr', 'brown', 'bafta', 'win', 'ray', 'mcanal', 'mr', 'brown', 'nomin', 'oscar', 'best', 'director', 'jim', 'sheridan', 'best', 'write', 'screenplay', 'base', 'materi', 'anoth', 'medium', 'best', 'pictur', 'nomin', 'bafta', 'best', 'film', 'best', 'make', 'artist', 'best', 'adapt', 'screenplay', 'daniel', 'day', 'lewi', 'number', '85', '100', 'greatest', 'movi', 'star', 'number', '20', '50', 'greatest', 'british', 'actor', 'number', '9', 'britain', 'finest', 'actor', 'number', '15', 'world', 'greatest', 'actor', 'film', 'number', '28', '50', 'greatest', 'british', 'film', 'outstand'], ['cure', 'amaz', 'film', 'suspens', 'real', 'lucki', 'enough', 'catch', 'screen', 'cure', 'nyc', 'premier', 'complet', 'blew', 'away', 'also', 'heard', 'award', 'particular', 'festiv', 'definit', 'deserv', 'first', 'thing', 'struck', 'cinematographi', 'eric', 'giovon', 'amaz', 'job', 'shoot', 'style', 'love', 'scene', 'halfway', 'film', 'amaz', 'love', 'scene', 'necessari', 'film', 'jafri', 'got', 'point', 'across', 'also', 'kept', 'scene', 'tast', 'giovon', 'jafri', 'make', 'excel', 'creativ', 'team', 'definit', 'work', 'togeth', 'futur', 'project', 'judi', 'maier', 'narrat', 'surreal', 'simultan', 'heart', 'wrench', 'made', 'feel', 'main', 'charact', 'felt', 'tough', 'critic', 'must', 'say', 'cure', 'one', 'favorit', 'film', 'love', 'seen', 'yet', 'check'], ['got', 'al', 'pacino', 'play', 'movi', 'beyond', 'movi', 'absolut', 'terribl', 'discov', 'read', 'review', 'coupl', 'peopl', 'actual', 'enjoy', 'film', 'deepli', 'puzzl', 'see', 'anyon', 'right', 'mind', 'could', 'possibl', 'enjoy', 'movi', 'aw', 'revolut', 'bad', 'movi', 'lame', 'plot', 'overal', 'strang', 'extrem', 'unpleas', 'seem', 'filmmak', 'either', 'mental', 'retard', 'possibl', 'explan', 'movi', 'suck', 'like', 'though', 'probabl', 'still', 'suck', 'even', 'compar', 'film', 'made', 'retard', 'deliber', 'made', 'everi', 'illog', 'decis', 'make', 'movi', 'suck', 'much', 'possibl', 'exampl', 'see', 'donald', 'sutherland', 'run', 'around', 'huge', 'fat', 'ugli', 'mole', 'face', 'normal', 'mole', 'mole', 'add', 'charact', 'extrem', 'ugli', 'distract', 'like', 'robert', 'de', 'niro', 'mole', 'much', 'wors', 'hell', 'got', 'mole', 'filmmak', 'said', 'let', 'see', 'could', 'make', 'movi', 'even', 'wors', 'alreadi', 'know', 'let', 'give', 'mr', 'sutherland', 'giant', 'ugli', 'ass', 'mole', 'right', 'face', 'anoth', 'exampl', 'filmmak', 'stupid', 'charact', 'ned', 'see', 'first', 'three', 'quarter', 'movi', 'young', 'ned', 'one', 'point', 'six', 'month', 'later', 'appear', 'screen', 'see', 'ned', 'cours', 'actor', 'play', 'boy', 'five', 'minut', 'later', 'three', 'week', 'later', 'appear', 'screen', 'sudden', 'got', 'differ', 'actor', 'play', 'older', 'ned', 'think', 'idiot', 'good', 'god', 'like', 'filmmak', 'say', 'possibl', 'make', 'wors', 'think', 'oh', 'wait', 'terribl', 'idea', 'know', 'kid', 'grow', 'much', 'half', 'year', 'fine', 'least', 'grow', 'three', 'week', 'get', 'anoth', 'actor', 'play', 'ned', 'least', 'get', 'play', 'five', 'minut', 'three', 'week', 'younger', 'furthermor', 'kid', 'play', 'older', 'ned', 'look', 'older', 'young', 'ned', 'matter', 'fact', 'look', 'complet', 'differ', 'much', 'skinnier', 'taller', 'older', 'origin', 'actor', 'confus', 'like', 'ration', 'human', 'thought', 'first', 'new', 'differ', 'charact', 'first', 'kid', 'die', 'film', 'movi', 'first', 'hour', 'half', 'sudden', 'three', 'week', 'later', 'guy', 'lock', 'stock', 'two', 'smoke', 'barrel', 'play', 'ned', 'last', 'five', 'minut', 'movi', 'even', 'origin', 'actor', 'die', 'filmmak', 'least', 'gotten', 'actor', 'look', 'like', 'play', 'remaind', 'role', 'shoot', 'measli', 'five', 'minut', 'six', 'month', 'later', 'scene', 'better', 'yet', 'scrap', 'movi', 'complet', 'never', 'finish', 'never', 'releas', 'never', 'even', 'tell', 'anybodi', 'point', 'realiz', 'movi', 'suck', 'finish', 'would', 'wast', 'money', 'time', 'succeed', 'make', 'one', 'worst', 'movi', 'time', 'say', 'movi', 'bad', 'watch', 'bad', 'watch', 'see', 'badli', 'suck', 'terribl', 'terribl'], ['think', 'realli', 'let', 'qualiti', 'dvd', 'product', 'get', 'away', 'rent', 'dvd', '2', 'movi', 'store', 'second', 'time', 'final', 'got', 'play', '3rd', 'dvd', 'player', 'tri', 'anyon', 'els', 'issu', 'realli', 'hard', 'give', 'film', 'un', 'bias', 'review', 'go', 'hassl', 'play', 'one', 'never', 'seen', 'finnish', 'horror', 'film', 'sort', 'bum', 'movi', 'done', 'english', 'also', 'sinc', 'never', 'made', 'clear', 'wrong', 'sarah', 'came', 'retard', 'therefor', 'realli', 'hope', 'someon', 'would', 'shoot', 'face', 'make', 'horrif', 'happen', 'go', 'away'], ['legendari', 'movi', 'produc', 'walt', 'disney', 'brought', 'three', 'world', 'greatest', 'fairi', 'tale', 'screen', 'remain', 'among', 'popular', 'anim', 'film', 'time', 'first', 'groundbreak', 'classic', 'snow', 'white', 'seven', 'dwarf', 'releas', '1937', 'last', 'appreci', 'sleep', 'beauti', 'made', 'debut', '1959', 'two', 'perhap', 'satisfi', 'adapt', 'classic', 'fairi', 'tale', 'cinderella', '1950', 'three', 'film', 'cinderella', 'one', 'faith', 'origin', 'iron', 'unlik', 'snow', 'white', 'better', 'wors', 'becam', 'mani', 'definit', 'version', 'stori', 'cinderella', 'follow', 'path', 'although', 'hit', 'like', 'snow', 'white', 'respons', 'restor', 'dwindl', 'disney', 'fortun', 'never', 'achiev', 'audienc', 'recognit', 'certainli', 'deserv', 'disney', 'proud', 'elect', 'tamper', 'classic', 'instead', 'elabor', 'ad', 'substanc', 'tale', 'rather', 'rewrit', 'screen', 'result', 'enchant', 'combin', 'superb', 'anim', 'beauti', 'soft', 'technicolor', 'perfect', 'voic', 'talent', 'brought', 'stori', 'life', 'radianc', 'endur', 'day', 'ilen', 'wood', 'radio', 'perform', 'record', 'demonstr', 'disc', 'song', 'favor', 'author', 'materi', 'al', 'hoffman', 'mack', 'david', 'jerri', 'livingston', 'disney', 'heard', 'knew', 'found', 'cinderella', 'inde', 'wood', 'heartfelt', 'rendit', 'dream', 'wish', 'heart', 'make', 'love', 'oh', 'sing', 'sweet', 'nightingal', 'perfect', 'eleanor', 'audley', 'would', 'go', 'voic', 'malefic', 'sleep', 'beauti', 'master', 'captur', 'ici', 'cruelti', 'stepmoth', 'rhoda', 'william', 'lucil', 'bliss', 'convincingli', 'nasti', 'stepsist', 'lui', 'van', 'rooten', 'admir', 'perform', 'king', 'grand', 'duke', 'jame', 'macdonald', 'endear', 'jaq', 'gu', 'cinderella', 'devot', 'mice', 'william', 'phipp', 'littl', 'dialog', 'princ', 'futur', 'talk', 'show', 'host', 'mike', 'dougla', 'provid', 'sing', 'voic', 'film', 'disney', 'veteran', 'verna', 'felton', 'born', 'play', 'fairi', 'godmoth', 'made', 'best', 'number', 'oscar', 'nomin', 'bibbidi', 'bobbidi', 'boo', 'show', 'stopper', 'among', 'artist', 'respons', 'look', 'film', 'mari', 'blair', 'whose', 'inspir', 'use', 'color', 'greatli', 'admir', 'disney', 'eleg', 'french', 'period', 'background', 'add', 'tremend', 'qualiti', 'movi', 'import', 'believ', 'charact', 'cinderella', 'right', 'lucif', 'stepmoth', 'delici', 'evil', 'cat', 'bring', 'life', 'vibranc', 'often', 'told', 'stori', 'someth', 'difficult', 'creat', 'anim', 'film', 'conjunct', 'film', '55', 'year', 'anniversari', 'coincident', 'come', 'holiday', 'season', 'cinderella', 'releas', 'special', 'edit', 'dvd', 'simpli', 'never', 'look', 'better', 'fulli', 'restor', 'film', 'must', 'seen', 'appreci', 'suffic', 'say', 'look', 'wonder', 'enhanc', 'stereo', 'soundtrack', 'ad', 'serv', 'music', 'well', 'dvd', 'extra', 'standard', 'part', 'disney', 'platinum', 'edit', 'numer', 'list', 'usual', 'direct', 'toward', 'children', 'slant', 'adult', 'rest', 'fall', 'somewher', 'real', 'fan', 'want', 'get', 'delux', 'gift', 'set', 'along', 'actual', 'cell', 'film', 'eight', 'charact', 'sketch', 'includ', '160', 'page', 'hardback', 'book', 'incorpor', 'materi', 'found', 'book', '1995', 'special', 'edit', 'home', 'video', 'releas', 'much', 'well', 'usual', 'disney', 'cinderella', 'avail', 'limit', 'time', 'like', 'cinderella', 'lover', 'get', 'edit', 'truli', 'dream', 'come', 'true'], ['movi', 'feel', 'bit', 'long', 'time', 'well', 'worth', 'gordon', 'direct', 'style', 'remind', 'vonnegut', 'write', 'style', 'merciless', 'thought', 'iron', 'quirki', 'dark', 'film', 'stay', 'quit', 'beg', 'answer', 'imposs', 'question', 'nolt', 'goodman', 'arkin', 'incred', 'sheryl', 'lee', 'wonder', 'well', 'role', 'remind', 'us', 'lynch', 'fan', 'laura', 'maddi', 'day', 'miss', 'one'], ['sorri', 'go', 'flow', 'thought', 'film', 'unrealist', 'bore', 'way', 'long', 'got', 'tire', 'watch', 'gena', 'rowland', 'long', 'arduou', 'battl', 'crisi', 'experienc', 'mayb', 'film', 'cinemat', 'valu', 'repres', 'import', 'step', 'director', 'pure', 'entertain', 'valu', 'wish', 'would', 'skip'], ['first', 'love', 'desper', 'difficult', 'subject', 'pull', 'convincingli', 'cinema', 'encompass', 'passion', 'involv', 'gener', 'end', 'pale', 'imit', 'wors', 'slightli', 'ridicul', 'lifshitz', 'manag', 'avoid', 'pitfal', 'deliv', 'move', 'sexi', 'thoroughli', 'engross', 'tale', 'love', 'disast', 'possibl', 'redempt', 'tangenti', 'touch', 'deeper', 'theme', 'human', 'exist', 'core', 'stori', 'mathieu', '18', 'solitari', 'introvert', 'boy', 'meet', 'c', 'dric', 'brasher', 'outgo', 'lone', 'holiday', 'famili', 'summer', 'warm', 'fall', 'love', 'holiday', 'end', 'decid', 'live', 'togeth', 'year', 'later', 'relationship', 'end', 'catastroph', 'c', 'dric', 'cheat', 'mathieu', 'distraught', 'tri', 'take', 'life', 'surviv', 'order', 'get', 'perspect', 'back', 'life', 'return', 'seasid', 'town', 'first', 'met', 'time', 'cloak', 'chill', 'winter', 'tale', 'told', 'like', 'would', 'never', 'impact', 'much', 'impli', 'happen', 'non', 'sequenti', 'intric', 'narr', 'essenti', 'get', 'deeper', 'feel', 'passion', 'experienc', 'use', 'counterpoint', 'tempor', 'perspect', 'fortun', 'three', 'time', 'line', 'use', 'summer', 'love', 'post', 'suicid', 'psychiatr', 'hospit', 'winter', 'reconstruct', 'colour', 'code', 'warm', 'yellow', 'orang', 'summer', 'almost', 'frighteningli', 'chill', 'blue', 'hospit', 'scene', 'warm', 'brown', 'blue', 'winter', 'seasid', 'main', 'actor', 'put', 'excel', 'perform', 'though', 'whilst', 'delight', 'see', 'st', 'phane', 'rideau', 'c', 'dric', 'use', 'full', 'capac', 'use', 'see', 'stretch', 'gael', 'morel', 'rather', 'limp', 'drama', 'j', 'r', 'mie', 'elkaim', 'mathieu', 'singl', 'special', 'mention', 'feel', 'loneli', 'almost', 'incredul', 'passion', 'charact', 'crumbl', 'behind', 'wall', 'aphasia', 'beauti', 'craft', 'gestur', 'get', 'across', 'far', 'dialogu', 'ever', 'could', 'theme', 'touch', 'upon', 'almost', 'classic', 'french', 'cinema', 'difficulti', 'realli', 'understand', 'anoth', 'feel', 'difficulti', 'commun', 'fulli', 'shift', 'sand', 'mean', 'film', 'titl', 'presqu', 'rien', 'almost', 'noth', 'point', 'inde', 'one', 'key', 'scene', 'film', 'tri', 'understand', 'mathieu', 'attempt', 'kill', 'psychiatrist', 'ask', 'c', 'dric', 'ever', 'cheat', 'non', 'enfin', 'oui', 'une', 'foi', 'mai', 'ce', 'n', 'tait', 'rien', 'well', 'ye', 'noth', 'c', 'dric', 'still', 'love', 'mathieu', 'brought', 'hospit', 'suicid', 'attempt', 'none', 'see', 'tri', 'desper', 'contact', 'leav', 'cannot', 'understand', 'lost', 'forev', 'someth', 'seem', 'noth', 'meaningless', 'affair', 'everyth', 'mathieu', 'whilst', 'film', 'darker', 'rather', 'unfortun', 'pierr', 'et', 'gill', 'poster', 'would', 'suggest', 'without', 'hope', 'get', 'see', 'c', 'dric', 'slow', 'pain', 'attempt', 'get', 'back', 'touch', 'life', 'first', 'cat', 'adopt', 'work', 'local', 'bar', 'final', 'contact', 'pierr', 'may', 'next', 'love', 'stori', 'end', 'teenag', 'passion', 'within', 'year', 'anoth', 'perhap', 'begin', 'almost', 'noth', 'certainli', 'live'], ['first', 'went', 'watch', 'shine', 'expect', 'decent', 'film', 'heard', 'like', 'lot', 'stanley', 'kubrick', 'work', 'start', 'watch', 'much', 'better', 'thought', 'would', 'time', 'serious', 'felt', 'ridicul', 'uneasi', 'take', 'eye', 'screen', 'still', 'someth', 'disturb', 'everyth', 'film', 'peopl', 'like', 'kubrick', 'version', 'shine', 'sinc', 'entir', 'follow', 'stephen', 'king', 'book', 'opinion', 'kubrick', 'version', 'mini', 'seri', 'book', 'great', 'jack', 'nicholson', 'give', 'awesom', 'perform', 'look', 'good', 'origin', 'movi', 'keep', 'think', 'even', 'movi', 'watch', 'shine'], ['bug', 'life', 'good', 'film', 'realli', 'compar', 'movi', 'like', 'toy', 'stori', 'stuff', 'get', 'wrong', 'like', 'movi', 'good', 'toy', 'stori', 'film', 'visual', 'laugh', 'other', 'toy', 'stori', 'film', 'feel', 'quit', 'know', 'thought', 'still', 'pretti', 'good', 'film', 'bug', 'life', 'want', 'say', 'film', 'rememb', 'saw', 'year', 'ago', 'cours', 'seen', 'toy', 'stori', 'year', 'still', 'rememb', 'review', 'film', 'give', 'thumb', 'though', 'exactli', 'best', 'work', 'pixar', 'done', 'bug', 'life'], ['spoiler', 'alert', 'love', 'tim', 'roth', 'realli', 'best', 'unbeliev', 'role', 'see', 'movi', 'might', 'look', 'good', 'script', 'convolut', 'unlik', 'ultim', 'silli', 'saw', 'fake', 'death', 'end', 'come', 'mile', 'away', 'rene', 'z', 'tri', 'hard', 'underwritten', 'part', 'patricia', 'arquett', 'detect', 'whose', 'name', 'rememb', 'one', 'chri', 'penn', 'big', 'sweati', 'actor', 'see', 'smart', 'enough', 'differenti', 'movi', 'clever', 'follow', 'confus', 'understand', 'see', 'like', 'cheesi', 'camera', 'work', 'make', 'seasick', 'see', 'love', 'watch', 'tim', 'roth', 'work', 'unwieldi', 'script', 'see', 'come', 'late', 'night', 'free', 'otherwis', 'rent', 'usual', 'suspect'], ['earth', 'destin', 'thank', 'father', 'pergado', 'bunch', 'nun', 'christoph', 'lee', 'sinc', 'said', 'dupe', 'appear', 'produc', 'told', 'load', 'great', 'actor', 'involv', 'father', 'pergado', 'get', 'usual', 'seriou', 'scari', 'routin', 'cast', 'bad', 'though', 'retir', 'act', 'film', 'terribl', 'sound', 'effect', 'mainli', 'creat', 'press', 'key', 'old', 'comput', 'seem', 'ridicul', 'ponder', 'time', 'show', 'scene', 'sky', 'instanc', 'feel', 'like', 'hour', 'time', 'despit', 'stori', 'pretti', 'humor', 'world', 'doom', 'sort', 'way', 'product', 'adequ', 'interestingli', 'one', 'scene', 'featur', 'albert', 'band', 'wife', 'jacki', 'meda', 'band', 'writer', 'frank', 'ray', 'perilli', 'charl', 'band', 'assist', 'bennah', 'burton', 'despit', 'plod', 'natur', 'genuin', 'want', 'see', 'work', 'thu', 'quit', 'like'], ['thing', 'knew', 'film', 'prior', 'see', 'robbi', 'robot', 'preconcept', 'anoth', 'long', 'line', 'cheesi', 'sci', 'fi', 'flick', '1950', 'note', 'wrong', 'big', 'studio', 'big', 'budget', 'big', 'product', 'valu', 'make', 'strong', 'contend', 'least', 'visual', 'best', 'sci', 'fi', 'film', 'come', 'era', 'qualifi', 'word', 'visual', 'war', 'world', 'lot', 'darker', 'scarier', 'forbidden', 'planet', 'probabl', 'fit', 'mold', 'better', 'foray', 'alien', 'territori', 'impress', 'immedi', 'color', 'rendit', 'cinematographi', 'follow', 'intricaci', 'scope', 'detail', 'involv', 'dr', 'morbiu', 'walter', 'pidgeon', 'home', 'laboratori', 'prelud', 'ice', 'cake', 'labyrinthin', 'underground', 'serv', 'krell', 'stronghold', 'appear', 'krell', 'technolog', 'even', 'advanc', 'say', 'star', 'war', 'made', 'consid', 'audienc', 'movi', 'back', 'releas', 'probabl', 'sat', 'kind', 'awe', 'theater', 'goer', 'experienc', '1977', 'sw', '1986', 'alien', 'watch', 'larg', 'screen', 'tv', 'live', 'room', 'offer', 'effect', 'fairli', 'resist', 'hyperbol', 'much', 'stretch', 'imagin', 'forbidden', 'planet', 'direct', 'anteced', 'star', 'trek', 'tv', 'seri', 'gene', 'roddenberri', 'state', 'movi', 'great', 'impact', 'vision', 'show', 'follow', 'short', 'live', 'seri', 'readili', 'recogn', 'plot', 'element', 'use', 'turn', 'star', 'trek', 'doubl', 'take', 'men', 'unit', 'planet', 'cruiser', 'c57', 'v', 'head', 'transport', 'room', 'conundrum', 'present', 'robbi', 'creat', 'imposs', 'respond', 'element', 'use', 'least', 'two', 'three', 'time', 'st', 'seri', 'movi', 'definit', 'took', 'cerebr', 'turn', 'whole', 'idea', 'monster', 'id', 'morbiu', 'use', 'subconsci', 'mind', 'defend', 'altair', 'iv', 'certainli', 'uniqu', 'concept', '1956', 'everi', 'sci', 'fi', 'flick', 'time', 'deal', 'martian', 'grotesqu', 'space', 'creatur', 'film', 'work', 'subtl', 'magic', 'viewer', 'help', 'understand', 'morbiu', 'protector', 'altair', 'iv', 'time', 'command', 'adam', 'lesli', 'nielsen', 'explain', 'know', 'look', 'calendar', 'year', '2200', 'far', 'movi', 'may', 'one', 'actual', 'get', 'right', 'rel', 'explor', 'live', 'planet', 'think', 'though', 'come', 'sleeker', 'look', 'version', 'robbi'], ['could', 'better', 'direct', 'someon', 'experi', 'shumlin', 'bad', 'job', 'great', 'work', 'cinemat', 'art', 'howev', 'beauti', 'movi', 'love', 'sinc', 'local', 'channel', 'use', 'show', 'graham', 'green', 'one', 'favorit', 'writer', 'last', 'centuri', 'pretti', 'bad', 'movi', 'made', 'novel', 'stori', 'mani', 'love', 'fallen', 'idol', 'among', 'think', 'saw', 'brighton', 'rock', 'mani', 'year', 'ago', 'like', 'mayb', 'simpli', 'think', 'fondli', 'novel', 'superbl', 'cast', 'charl', 'boyer', 'true', 'come', 'across', 'spanish', 'seem', 'perfect', 'tempera', 'charact', 'tire', 'wari', 'care', 'lauren', 'bacal', 'appeal', 'british', 'girl', 'fall', 'support', 'player', 'best', 'katina', 'paxin', 'excel', 'perform', 'littl', 'grand', 'guignol', 'attribut', 'director', 'peter', 'lorr', 'first', 'meet', 'give', 'boyer', 'lesson', 'esperanto', 'like', 'univers', 'languag', 'excel', 'alway', 'wanda', 'hendrix', 'could', 'break', 'hardest', 'heart', 'come', 'across', 'precoci', 'earli', 'teenag', 'charact', 'want', 'help', 'best', 'recommend', 'movi', 'highli', 'without', 'reserv', 'reserv', 'primarili', 'littl', 'stolid', 'stori', 'act', 'scarc', 'better'], ['movi', 'slew', 'great', 'adult', 'star', 'fail', 'get', 'interest', 'way', 'adult', 'film', 'among', 'star', 'get', 'kick', 'scene', 'movi', 'shot', 'dream', 'like', 'middl', 'age', 'set', 'embarrassingli', 'cheesi', 'act', 'wors', 'keanu', 'reev', 'sex', 'scene', 'excit', 'listen', 'neighbor', 'talk', 'kid', 'colleg', 'dialogu', 'wors', 'seen', 'movi', 'plot', 'also', 'wors', 'ten', 'fold', 'stick', 'amateur', 'rout', 'audio', 'commentari', 'useless', 'sinc', 'skin', 'flick', 'even', 'bad', 'unless', 'diehard', 'jenna', 'jameson', 'fan', 'littl', '4', '10'], ['unforgett', 'masterpiec', 'creator', 'secret', 'nimh', 'land', 'time', 'touch', 'bittersweet', 'cartoon', 'rememb', 'well', 'childhood', 'funni', 'sad', 'beauti', 'well', 'start', 'bit', 'dark', 'dog', 'escap', 'pound', 'get', 'kill', 'old', 'friend', 'end', 'heaven', 'come', 'back', 'becom', 'sweet', 'befriend', 'orphan', 'girl', 'talk', 'anim', 'scene', 'bit', 'scari', 'contrari', 'cartoon', 'like', 'dream', 'sequenc', 'charli', 'everyth', 'els', 'okay', 'song', 'fair', 'memor', 'role', 'burt', 'reynold', 'dom', 'deluis', 'love', 'guy', 'aheheh', 'judith', 'barsi', 'jaw', 'reveng', 'may', 'god', 'rest', 'soul', 'poor', 'girl', 'deserv', 'die', 'heaven', 'good', 'peopl', 'go', 'heaven', 'overal', 'good', 'anim', 'movi', 'bluth', 'classic', 'enough', 'put', 'anim', 'disney', 'shame', 'recommend', 'whole', 'famili', 'know', 'origin', 'video', 'find', 'movi', 'dom', 'deluis', 'import', 'special', 'messag', 'gotta', 'love', 'guy', 'aheheh'], ['movi', 'dirti', 'harri', 'movi', 'clint', 'eastwood', 'star', 'produc', 'direct', 'well', 'know', 'got', 'good', 'although', 'say', 'enforc', 'best', 'seri', 'complet', 'disagre', 'opinion', 'apart', 'origin', 'dirti', 'harri', 'sudden', 'impact', 'magnum', 'forc', 'two', 'worthi', 'seri', 'although', 'enforc', 'alright', 'film', 'coupl', 'good', 'action', 'sequenc', 'get', 'dirti', 'gritti', 'impact', 'three', 'film', 'film', 'captur', 'excit', 'make', 'clint', 'eastwood', 'film', 'good', 'got', 'quot', 'make', 'dirti', 'harri', 'film', 'good', 'diri', 'harri', 'well', 'ya', 'punk', 'magnum', 'forc', 'man', 'got', 'know', 'limit', 'go', 'ahead', 'make', 'day', 'also', 'film', 'nice', 'see', 'chang', 'sceneri', 'get', 'bit', 'tire', 'see', 'old', 'san', 'fransisco', 'street', 'film', 'seri', 'great', 'act', 'clint', 'eastwood', 'co', 'star', 'sandra', 'lock', 'good', 'direct', 'clint', 'opinion', 'best', 'dirti', 'harri', 'sequel', 'ever'], ['japanes', 'film', 'quit', 'bit', 'english', 'also', 'spoken', 'pretti', 'film', 'nice', 'visual', 'featur', 'scenic', 'beauti', 'hawaii', 'howev', 'redeem', 'qualiti', 'stori', 'gener', 'bore', 'want', 'watch', 'young', 'woman', 'sulk', '90', 'percent', 'film', 'pictur', 'husband', 'lot', 'older', 'advertis', 'grant', 'could', 'bummer', 'get', 'last', '10', 'minut', 'face', 'becom', 'fond', 'viewer', 'littl', 'late', 'fallen', 'asleep'], ['like', 'music', 'dicken', 'fan', 'hate', 'one', 'mild', 'spoiler', 'starv', 'boy', 'enough', 'energi', 'sing', 'danc', 'workhous', 'poor', 'london', 'come', 'sing', 'fagin', 'dodger', 'walk', 'sunset', 'exactli', 'faith', 'novel', 'recal', 'dodger', 'publicli', 'hang', 'fagin', 'went', 'crazi', 'prison', 'end', 'spoiler', 'oliv', 'reed', 'weak', 'syke', 'littl', 'growl', 'indic', 'evil', 'worst', 'howev', 'mark', 'lester', 'oliv', 'often', 'come', 'across', 'awkward', 'passiv', 'wonder', 'realli', 'main', 'charact', 'portray', 'way', 'help', 'fact', 'best', 'could', 'sing', 'dub', 'voic', 'girl', 'guess', 'realiz', 'boy', 'trebl', 'found', 'almost', 'everi', 'church', 'england', 'self', 'respect', 'dicken', 'fan', 'stick', 'david', 'lean', 'amaz', '1948', 'film', 'bbc', '6', 'hour', 'adapt', 'mid', '80', 'avoid', 'bloat', 'whitewash', 'music'], ['one', 'line', 'summari', 'say', 'two', 'movi', 'left', 'remark', 'walk', 'theater', 'one', 'stir', 'echo', 'kevin', 'bacon', 'second', 'vanilla', 'sky', 'one', 'movi', 'sit', 'deep', 'theater', 'seat', 'stop', 'think', 'anyon', 'around', 'stop', 'wonder', 'end', 'movi', 'leav', 'movi', 'swift', 'want', 'walk', 'cinema', 'bit', 'weird', 'like', 'feel', 'get', 'sick', 'cant', 'think', 'anyth', 'one', 'movi', 'becom', 'one', 'guy', 'feel', 'noth', 'els', 'move', 'around', 'thing', 'movi', 'one', 'thing', 'certain', 'actor', 'awesom', 'sound', 'track', 'excel', 'everyth', 'movi', '9', 'sure', 'one', 'best', 'movi', 'ever', 'saw', 'movi', 'made', 'best', 'shock', 'awak', 'life', 'purpos', 'world'], ['found', 'surprisingli', 'light', 'hand', 'touch', '1950', 'cultur', 'clash', 'movi', 'john', 'wayn', 'would', 'hardli', 'one', 'first', 'choic', 'cultur', 'attach', 'diplomat', 'good', 'intent', 'bull', 'run', 'harrod', 'time', 'left', 'play', 'part', 'far', 'passiv', 'usual', 'bluff', 'persona', 'accomplish', 'task', 'style', 'duke', 'guy', 'realli', 'could', 'act', 'well', 'facial', 'express', 'bodi', 'languag', 'could', 'extrem', 'subtl', 'despit', 'consider', 'presenc', 'actor', 'term', 'screen', 'time', 'fail', 'domin', 'movi', 'mani', 'good', 'intent', 'came', 'cropper', 'author', 'nobodi', 'intermitt', 'narr', 'provid', 'titular', 'geisha', 'barbarian', 'stori', 'american', 'attempt', 'curri', 'favour', 'isolationist', 'japan', 'one', 'polit', 'intrigu', 'rather', 'swashbuckl', 'hell', 'leather', 'battl', 'cannot', 'comment', 'accuraci', 'research', 'strang', 'orient', 'cultur', 'western', 'sensibl', 'demonstr', 'well', 'great', 'deal', 'minut', 'choreograph', 'ceremoni', 'entail', 'look', 'observ', 'like', 'authent', 'costum', 'prop', 'set', 'piec', 'complex', 'detail', 'lot', 'money', 'thought', 'appli', 'fractur', 'romanc', 'wayn', 'geisha', 'ad', 'littl', 'extra', 'element', 'stop', 'movi', 'becom', 'polit', 'flag', 'wave', 'effort', 'script', 'good', 'without', 'wordi', 'great', 'deal', 'japanes', 'dialogu', 'lengthi', 'period', 'translat', 'interfer', 'narr', 'nice', 'see', 'plenti', 'genuin', 'orient', 'set', 'whether', 'japanes', 'say', 'anyway', 'look', 'part', 'least', 'lead', 'play', 'cross', 'dress', 'caucasian', 'unlik', 'effort', 'blood', 'alley', 'ye', 'know', 'chines', 'inn', 'sixth', 'happi', 'even', 'king', 'frankli', 'enjoy', 'movi', 'script', 'better', 'start', 'never', 'like', 'song', 'king', 'impress', 'heavi', 'laden', 'anti', 'communist', 'subtext', 'blood', 'alley', 'confess', 'never', 'seen', 'work', 'found', 'compar', 'favour', 'mani', 'duke', 'popular', 'outing', 'recommend'], ['without', 'question', 'one', 'embarrass', 'product', '1970', 'gaot', 'seem', 'realli', 'realli', 'want', 'someth', 'import', 'tragic', 'truth', 'entir', 'valueless', 'everi', 'level', 'one', 'help', 'laugh', 'reach', 'desper', 'earthi', 'element', 'ingmar', 'bergman', 'film', 'follow', 'citi', 'coupl', 'day', 'wilder', 'walk', 'along', 'shadi', 'path', 'allthewhil', 'pontif', 'like', 'u', 'c', 'berkeley', 'coffe', 'clatch', 'almost', 'everi', 'line', 'tarradiddl', 'dialog', 'deliv', 'uproari', 'bad', 'feel', 'life', 'made', 'mani', 'tini', 'compart', 'pomegran', 'beauti', 'seem', 'like', 'etern', 'absolut', 'noth', 'happen', 'well', 'ok', 'treat', 'nuditi', 'tepid', 'soft', 'sex', 'scene', 'final', 'anticlimact', 'confront', 'involv', 'pair', 'nam', 'vet', 'make', 'natur', 'scene', 'perform', 'pretti', 'harsh', 'folk', 'ballad', 'acoust', 'guitar', 'noth', 'event', 'interest', 'happen', 'entir', 'film', 'thought', 'larri', 'buchanan', 'pictur', 'strawberri', 'need', 'rain', 'weak', 'exampl', 'bergman', 'homag', 'golden', 'appl', 'everi', 'bit', 'bad', 'ceaseless', 'random', 'verbiag', 'present', 'make', 'memor', 'aw', '1', '10'], ['clint', 'eastwood', 'would', 'star', 'battl', 'weari', 'detect', 'harri', 'callahan', 'would', 'also', 'direct', 'fourth', 'entri', 'dirti', 'harri', 'seri', 'sudden', 'impact', 'like', 'addit', 'bring', 'distinguish', 'style', 'tone', 'anyth', 'probabl', 'similar', 'origin', 'darker', 'seedi', 'moment', 'bestow', 'classic', 'line', 'go', 'ahead', 'make', 'day', 'humor', 'seen', 'believ', 'bulldog', 'name', 'meathead', 'piss', 'fart', 'oh', 'yeah', 'howev', 'interest', 'fact', 'entri', 'one', 'seri', 'set', 'entir', 'san', 'francisco', 'stori', 'follow', 'detect', 'callahan', 'tri', 'put', 'piec', 'togeth', 'murder', 'victim', 'shot', 'groin', 'eye', 'get', 'troubl', 'offic', 'superior', 'caus', 'stir', 'crime', 'lord', 'thug', 'blood', 'order', 'take', 'leav', 'fall', 'work', 'one', 'head', 'coastal', 'town', 'san', 'paulo', 'murder', 'occur', 'similar', 'vein', 'bullet', 'groin', 'eye', 'case', 'begin', 'dig', 'dirt', 'lead', 'idea', 'someon', 'look', 'reveng', 'honest', 'crash', 'hot', 'eastwood', 'take', 'mani', 'repeat', 'view', 'virtual', 'grown', 'point', 'probabl', 'par', 'first', 'sequel', 'magnum', 'forc', 'well', 'assembl', 'plot', 'actual', 'give', 'eastwood', 'anoth', 'angl', 'work', 'upon', 'even', 'though', 'feel', 'like', 'sophist', 'take', 'vigilant', 'featur', 'run', 'rampant', 'time', 'quit', 'liter', 'someth', 'punish', 'luridli', 'damag', 'like', 'experi', 'noir', 'thriller', 'touch', 'charact', 'driven', 'trait', 'help', 'develop', 'emot', 'bubbl', 'eventu', 'moral', 'framework', 'use', 'imag', 'last', 'due', 'slickli', 'forebod', 'atmospher', 'dark', 'tone', 'brood', 'light', 'like', 'scene', 'toward', 'end', 'akin', 'western', 'showdown', 'silhouett', 'figur', 'harri', 'new', '44', 'automag', 'handgun', 'move', 'way', 'toward', 'stun', 'prey', 'fish', 'dock', 'strike', 'sight', 'build', 'fear', 'mix', 'hauntingli', 'cold', 'plain', 'brutal', 'dash', 'humor', 'seem', 'come', 'major', 'plu', 'film', 'dialogu', 'call', 'sudden', 'impact', 'first', 'rate', 'provid', 'ampl', 'bite', 'exchang', 'memor', 'credit', 'line', 'legend', 'mind', 'love', 'hear', 'harri', 'spark', 'amus', 'quip', 'pull', 'piec', 'beat', 'action', 'occur', 'excitingli', 'jar', 'intens', 'way', 'go', 'pace', 'fli', 'littl', 'way', 'flat', 'passag', 'lalo', 'schfrin', 'would', 'return', 'compos', 'enforc', 'jerri', 'field', 'score', 'bring', 'method', 'funki', 'kick', 'still', 'breath', 'gloomi', 'cue', 'textur', 'breezi', 'score', 'click', 'get', 'go', 'bruce', 'surte', 'eastwood', 'regular', 'get', 'job', 'behind', 'camera', 'piec', 'job', 'dirti', 'harri', 'give', 'film', 'plenti', 'scope', 'wonder', 'frame', 'backdrop', 'impecc', 'track', 'scene', 'also', 'instrument', 'edgi', 'angl', 'within', 'dramat', 'moment', 'eastwood', 'dinosaur', 'callahan', 'still', 'pack', 'punch', 'go', 'beyond', 'steeli', 'glare', 'get', 'job', 'done', 'probabl', 'show', 'littl', 'heart', 'one', 'would', 'expect', 'younger', 'callahan', 'go', 'sudden', 'shift', 'plot', 'turn', 'harri', 'quest', 'justic', 'badg', 'even', 'though', 'alway', 'agre', 'found', 'odd', 'real', 'chang', 'heart', 'across', 'stupend', 'perform', 'beau', 'time', 'sondra', 'lock', 'turn', 'traumat', 'torment', 'senselessli', 'rape', 'along', 'younger', 'sister', 'hidden', 'glassili', 'quiet', 'intens', 'anger', 'releas', 'tactic', 'accur', 'outcom', 'paul', 'drake', 'perfectli', 'menac', 'filthi', 'one', 'target', 'thug', 'audri', 'j', 'neenan', 'nail', 'repel', 'scummi', 'big', 'mouth', 'perform', 'peopl', 'truli', 'ugli', 'bunch', 'sap', 'pat', 'hingl', 'sturdi', 'chief', 'small', 'coastal', 'town', 'smaller', 'part', 'bradford', 'dillman', 'agreeabl', 'potent', 'albert', 'popwel', 'regular', 'seri', '1', '4', 'differ', 'charact', 'forget', 'dirti', 'harri', 'ye', 'bank', 'robber', 'end', 'trademark', 'quot', 'feel', 'lucki', 'well', 'ya', 'punk'], ['first', 'child', 'born', 'year', 'program', 'came', 'play', 'record', 'album', 'boy', 'everi', 'christma', 'thereaft', 'cd', 'came', 'bought', 'ten', 'copi', 'still', 'give', 'friend', 'rel', 'start', 'famili', 'invari', 'becom', 'favorit', 'christma', 'album', 'recent', 'found', 'sever', 'dvd', 'made', 'dvd', 'r', 'video', 'tape', 'probabl', 'sale', 'ebay', 'one', 'bought', 'excel', 'copi', 'great', 'see', 'show', '25', 'year', 'song', 'show', 'album', 'song', 'album', 'studio', 'version', 'song', 'show', 'cd', 'dvd', 'stay', 'librari', 'best', 'christma', 'entertain', 'ever'], ['first', 'let', 'agre', 'lorenzo', 'lama', 'could', 'never', 'consid', 'skill', 'actor', 'bare', 'even', 'decent', 'sometim', 'plain', 'lousi', 'howev', 'piec', 'call', 'snakeeat', 'film', 'industri', 'whole', 'sank', 'first', 'let', 'start', 'plot', 'vietnam', 'vet', 'name', 'jack', 'kelli', 'aka', 'soldier', 'suppos', 'tough', 'strap', 'leather', 'believ', 'shove', 'palat', 'nail', '2', 'guy', 'feet', 'pin', 'floor', 'get', 'word', 'famili', 'kill', 'sister', 'kidnap', 'therefor', 'goe', 'solo', 'mission', 'save', 'sister', 'potenti', 'still', 'pretti', 'thin', 'begin', 'act', 'actor', 'qualifi', 'say', 'worst', 'act', 'histori', 'art', 'lama', 'well', 'jackass', 'play', 'clampet', 'deliver', 'reject', 'strung', 'shot', 'call', 'perform', 'insult', 'actor', 'everywher', 'especi', 'talent', 'one', 'never', 'get', 'big', 'break', 'final', 'action', 'gunfight', 'best', 'fist', 'fight', 'deplor', 'seen', 'real', 'look', 'fight', 'renaiss', 'festiv', 'pretti', 'fake', 'look', 'reader', 'listen', 'avoid', 'piec', 'caca', 'cost', 'film', 'exist', 'still', 'would', 'want', 'avoid', 'sake', 'brain', 'cell', 'count', 'watch', 'thing'], ['actual', 'crime', 'stori', 'core', 'cold', 'blood', 'might', 'seem', 'littl', 'tame', 'ween', 'classic', 'serial', 'killer', 'stori', 'gein', 'bundi', 'dahmer', 'notori', 'case', 'hollywood', 'oj', 'manson', 'essenti', 'fact', 'case', 'amount', 'anyth', 'terribl', 'convolut', 'perri', 'smith', 'dick', 'hickock', 'play', 'robert', 'blake', 'scott', 'wilson', 'respect', 'met', 'luck', 'conspir', 'rob', 'man', 'farmhous', 'safe', 'kansa', 'kill', 'famili', 'four', 'shotgun', 'dagger', 'came', 'away', '43', 'dollar', 'asid', 'return', 'us', 'flee', 'briefli', 'mexico', 'whole', 'lot', 'mysteri', 'resolut', 'either', 'caught', 'stroke', 'iron', 'chanc', 'cop', 'follow', 'stop', 'stolen', 'car', 'smith', 'hickcock', 'help', 'boy', 'old', 'man', 'collect', 'bottl', 'chang', 'sentenc', 'hang', 'neck', 'dead', 'stori', 'end', '1965', 'handl', 'stori', 'moment', 'moot', 'perform', 'pure', 'cinemat', 'touch', 'brook', 'absolut', 'marvel', 'late', 'great', 'dp', 'conrad', 'hall', 'provid', 'crisp', 'widescreen', 'black', 'white', 'storytel', 'style', 'feel', 'realist', 'without', 'go', 'much', 'natur', 'much', 'melodrama', 'save', 'perhap', 'near', 'end', 'pitch', 'perfect', 'air', 'tragedi', 'hang', 'stori', 'much', 'kill', 'matter', 'brutal', 'third', 'man', 'conjur', 'narrat', 'observ', 'smith', 'hickcock', 'team', 'inevit', 'stori', 'feel', 'somehow', 'crimin', 'hand', 'would', 'convent', 'figur', 'someth', 'b', 'movi', 'good', 'peopl', 'necessarili', 'monster', 'either', 'least', 'way', 'also', 'excel', 'road', 'movi', 'see', 'smith', 'hickcock', 'road', 'clutter', 'resid', 'actual', 'night', 'time', 'scene', 'crime', 'take', 'place', 'late', 'film', 'mexico', 'back', 'america', 'toward', 'la', 'vega', 'get', 'soak', 'person', 'two', 'probabl', 'even', 'polic', 'detect', 'first', 'lead', 'final', 'get', 'break', 'inmat', 'actual', 'kind', 'disturb', 'get', 'close', 'two', 'sort', 'akin', 'aimless', 'qualiti', 'malick', 'badland', 'charact', 'also', 'sign', 'dare', 'period', 'sermon', 'like', 'see', 'smith', 'abus', 'psychot', 'father', 'smith', 'love', 'hate', 'complex', 'much', 'movi', 'mayb', 'even', 'much', 'capot', 'book', 'confess', 'still', 'yet', 'read', 'though', 'plan', 'see', 'hickcock', 'creatur', 'slick', 'confid', 'e', 'get', 'suit', 'thing', 'bad', 'check', 'without', 'deep', 'root', 'explan', 'streak', 'fatal', 'cold', 'blood', 'starkest', '60', 'luck', 'brook', 'star', 'blake', 'top', 'pop', 'perform', 'lost', 'highway', 'oddli', 'enough', 'consid', 'real', 'life', 'saga', 'recent', 'year', 'quintessenti', 'piec', 'work', 'wilson', 'breakthrough', 'becom', 'charact', 'actor', 'surround', 'fine', 'support', 'work', 'eerili', 'absorb', 'driven', 'less', 'greed', 'fantasi', 'escap', 'treasur', 'stay', 'pretti', 'much', 'ground', 'situat', 'death', 'row', 'end', 'moral', 'stori', 'could', 'one', 'horrifi', 'confront', 'possibl', 'kill', 'classifi', 'good', 'vs', 'evil', 'get', 'smudg', 'smith', 'apolog', 'crime', 'hung', 'point', 'stori', 'bound', 'give', 'harden', 'fan', 'true', 'crime', 'bonafid', 'chill', 'quit', 'possibl', 'best', 'american', 'film', '1967'], ['enjoy', 'version', 'stori', 'one', 'time', 'favorit', 'georg', 'c', 'scott', 'give', 'depth', 'scroog', 'charact', 'other', 'give', 'movi', 'show', 'becom', 'bitter', 'chang', 'scroog', 'appear', 'gradual', 'encount', 'differ', 'ghost', 'incid', 'show', 'movi', 'best', 'tini', 'tim', 'far', 'right', 'age', 'rather', 'play', 'someon', 'almost', 'teenag', 'film', 'anthoni', 'walter', 'still', 'babi', 'teeth', 'david', 'warner', 'wonder', 'bob', 'cratchit', 'versatil', 'actor', 'portray', 'man', 'clearli', 'love', 'famili', 'play', 'role', 'digniti', 'neither', 'wimpi', 'man', 'cower', 'scroog', 'thumb', 'man', 'grace', 'put', 'famili', 'provid', 'susannah', 'york', 'actor', 'fine', 'job', 'bring', 'charact', 'life', 'edward', 'woodward', 'best', 'ghost', 'christma', 'present', 'ever', 'seen', 'often', 'play', 'jolli', 'santa', 'type', 'charact', 'show', 'anger', 'scroog', 'attitud', 'realli', 'make', 'scroog', 'reconsid', 'costum', 'set', 'realli', 'bring', 'london', 'dicken', 'time', 'life', 'wonder', 'movi'], ['horror', 'movi', 'lot', 'fun', 'low', 'budget', 'bad', 'act', 'bit', 'panach', 'think', 'film', 'miss', 'panach', 'one', 'thuddingli', 'dull', 'scene', 'anoth', 'peopl', 'make', 'laughabl', 'harmless', 'claw', 'hand', 'grab', 'air', 'bore', 'might', 'funni', 'horror', 'film', 'go', 'long', 'way', 'tire', 'concept', 'like', 'colleg', 'kid', 'haunt', 'hous', 'much', 'way', 'evil', 'dead', 'movi', 'lot', 'fun', 'similar', 'standard', 'plotlin', 'hallow', 'end', 'unfortun', 'go', 'long', 'way', 'actual', 'go', 'anywher', 'spend', 'better', 'part', 'hour', 'set', 'faceless', 'anonym', 'charact', 'seem', 'like', 'endless', 'interperson', 'drama', 'noth', 'charact', 'develop', 'even', 'horror', 'movi', 'strictli', 'one', 'dimension', 'charact', 'alpha', 'male', 'milquetoast', 'um', 'throwaway', 'charact', 'exist', 'mostli', 'sex', 'scene', 'spend', 'forti', 'plu', 'bloodless', 'drone', 'minut', 'horrif', 'bloodsh', 'start', 'well', 'impli', 'bloodsh', 'anyway', 'colleg', 'kid', 'turn', 'whatev', 'dress', 'haunt', 'hous', 'one', 'vampir', 'one', 'wear', 'r', 'scrub', 'white', 'pancak', 'look', 'pretti', 'much', 'way', 'amateur', 'haunt', 'hous', 'costum', 'dead', 'hate', 'live', 'use', 'similar', 'theme', 'masterwork', 'comparison', 'realli', 'gore', 'speak', 'real', 'scare', 'thought', 'one', 'almost', 'everi', 'approach', 'suppos', 'tight', 'suspens', 'horror', 'movi', 'would', 'explain', 'thing', 'move', 'slowli', 'pathet', 'sex', 'scene', 'cheap', 'monster', 'would', 'invalid', 'suppos', 'genuin', 'blood', 'gut', 'horror', 'movi', 'would', 'explain', 'schlock', 'blood', 'gut', 'anticlimax', 'one', 'unexcit', 'end', 'movi', 'ever', 'seen', 'kind', 'movi', 'though', 'narrat', 'film', 'bookend', 'voic', 'over', 'meaningless', 'dialogu', 'enough', 'hard', 'one', 'come', 'wonder', 'sat', 'christian', 'horror', 'film', 'mayb', 'know', 'hell', 'exist', 'open', 'meant', 'way', 'hint', 'misdirect', 'sure', 'profan', 'film', 'line', 'like', 'gosh', 'darnit', 'come', 'littl', 'absurd', 'crucifix', 'worship', 'god', 'fear', 'satan', 'dread', 'especi', 'lecher', 'sex', 'scene', 'one', 'heterosexu', 'one', 'lesbian', 'christian', 'compani', 'highland', 'myst', 'logo', 'even', 'bit', 'crucifix', 'resembl', 'film', 'weigh', 'heavili', 'atheist', 'camp', 'omnipot', 'bad', 'filmmak'], ['first', 'thing', 'first', 'genr', 'movi', 'first', 'thing', 'need', 'good', 'music', 'that', 'mr', 'shankar', 'parti', 'fail', 'music', 'complet', 'pale', 'uneffect', 'hand', 'ajay', 'devgan', 'remov', 'letter', 'spell', 'done', 'good', 'job', 'use', 'bad', 'cast', 'movi', 'like', 'asin', 'like', 'doll', 'use', 'amus', 'public', 'even', 'though', 'good', 'look', 'role', 'movi', 'danc', 'actual', 'danc', 'member', 'rock', 'band', 'think', 'rock', 'band', 'dancer', 'member', 'band', 'nut', 'shell', 'movi', 'piec', 'crap', 'piec', 'watch', 'wanna', 'get', 'fool'], ['possibl', 'spoiler', 'adam', 'sandler', 'usual', 'typecast', 'comedi', 'reign', 'give', 'deepli', 'move', 'perform', 'peopl', 'show', 'courag', 'face', 'post', 'septemb', '11', '2001', 'sandler', 'play', 'fineman', 'widow', 'lone', 'lost', 'world', 'johnson', 'cheadl', 'practic', 'dentist', 'encount', 'old', 'colleg', 'buddi', 'sandler', 'want', 'catch', 'old', 'time', 'see', 'rain', 'man', 'dustin', 'hoffman', 'fineman', 'also', 'get', 'emot', 'withdrawn', 'stress', 'situat', 'oldi', 'music', 'appear', 'comfort', 'psycholog', 'crutch', 'lean', 'johnson', 'look', 'fineman', 'certain', 'pleasur', 'eas', 'miss', 'famili', 'also', 'feel', 'unhappi', 'unsatisfi', 'job', 'instanc', 'also', 'want', 'make', 'sure', 'friend', 'fall', 'social', 'crack', 'came', 'away', 'movi', 'differ', 'outlook', 'sympathet', 'compass', 'griev', 'famili'], ['read', 'review', 'tv', 'movi', 'said', 'film', 'drag', 'long', 'basic', 'sensationalist', 'entertain', 'agre', 'perhap', 'film', 'goe', 'bit', 'long', '2h30', 'would', 'enough', 'certainli', 'think', 'sensation', 'subject', 'matter', 'jim', 'jone', 'expans', 'power', 'trip', 'slow', 'degrad', 'mental', 'ill', 'paranoia', 'drug', 'abus', 'never', 'treat', 'voyeurist', 'manner', 'movi', 'take', 'time', 'show', 'jone', 'recruit', 'follow', 'brenda', 'vaccaro', 'brad', 'dourif', 'charact', 'stand', 'out', 'matter', 'also', 'observ', 'uncanni', 'shift', 'jone', 'percept', 'realiti', 'mind', 'boggl', 'see', 'egalitarian', 'left', 'wing', 'compassionn', 'preacher', 'becom', 'destruct', 'cruel', 'dictat', 'perhap', 'movi', 'explor', 'jone', 'motiv', 'enough', 'make', 'whole', 'ordeal', 'bit', 'superfici', 'time', 'may', 'censorship', 'well', 'power', 'booth', 'mesmer', 'perform', 'make', 'come', 'true', 'familiar', 'detail', 'real', 'jim', 'jone', 'life', 'booth', 'sure', 'make', 'monster', 'play', 'believ', 'real', 'movi', 'featur', 'mani', 'strong', 'scene', 'among', 'preach', 'mess', 'jone', 'jone', 'meet', 'father', 'divin', 'remarqu', 'jame', 'earl', 'jone', 'congressman', 'leo', 'ryan', 'ned', 'beatti', 'visit', 'guyana', 'camp', 'cours', 'suicid', 'scene', 'quit', 'gloomi', 'spectabl', 'watch', 'booth', 'quit', 'command', 'last', 'moment', 'madg', 'sinclair', 'shine', 'scene', 'one', 'suddenli', 'sceptic', 'follow', 'veronica', 'cartwright', 'jone', 'wife', 'brad', 'dourif', 'especi', 'time', 'come', 'drink', 'murder', 'potion', 'rel', 'calm', 'end', 'scene', 'tast', 'direct', 'contrast', 'beauti', 'natur', 'surround', 'work', 'make', 'imag', 'quit', 'imposs', 'eras', 'one', 'mind', 'disturb', 'reflect', 'human', 'natur', 'weak', 'worth', 'watch', 'keep', 'mind', 'one', 'truli', 'horrif', 'event', '20th', 'centuri', 'let', 'repeat', 'like', 'iron', 'inscript', 'jim', 'jone', 'camp', 'know', 'past', 'bound', 'repeat'], ['act', 'direct', 'scriptwrit', 'art', 'direct', 'film', 'entir', 'ill', 'conceiv', 'money', 'would', 'better', 'spent', 'shoe', 'land', 'mine', 'victim', 'get', 'sad', 'fill', 'children', 'movi', 'sexual', 'innuendo', 'keep', 'parent', 'attent', 'dr', 'suess', 'roll', 'grave', 'right', 'dirti', 'ho', 'h', 'fake', 'erect', 'scene', 'etc', 'etc', 'etc', 'shame', 'trade', 'name', 'suess', 'get', 'parent', 'bring', 'kid', 'throw', 'profan', 'tri', 'teen', 'sad', 'parent', 'watch', 'film', 'child', 'greed', 'greed', 'greed', 'compar', 'classic', 'children', 'film', 'get', 'disturb', 'view', 'world', 'turn', 'guy', 'stick', 'make', 'mtv', 'video', 'earth', 'movi', 'got', '400', 'vote', 'perfect', '10', 'beyond', 'unless', 'director', 'famili'], ['doctor', 'policeman', 'new', 'orlean', '48', 'hour', 'locat', 'killer', 'infect', 'pneumon', 'plagu', 'effect', 'classi', 'littl', 'thriller', 'direct', 'elia', 'kazan', 'blend', 'documentari', 'realism', 'race', 'time', 'pulpi', 'heartbeat', 'set', 'film', 'around', 'new', 'orlean', 'panic', 'street', 'taken', 'stori', 'quarantin', 'like', 'em', 'cold', 'edna', 'edward', 'anhalt', 'oscar', 'origin', 'stori', 'also', 'boast', 'fine', 'ensembl', 'cast', 'deliv', 'top', 'rate', 'perform', 'director', 'turn', 'richard', 'widmark', 'bring', 'method', 'year', 'marlon', 'kazan', 'streetcar', 'name', 'desir', 'paul', 'dougla', 'jack', 'palanc', 'walter', 'jack', 'palanc', 'wonder', 'name', 'zero', 'mostel', 'get', 'sweatili', 'moodi', 'pursuer', 'chase', 'pursu', 'halt', 'onset', 'potenti', 'black', 'death', 'epidem', 'film', 'score', 'main', 'suspens', 'point', 'kazan', 'astut', 'abil', 'cut', 'back', 'forth', 'protagonist', 'without', 'alter', 'flow', 'mood', 'piec', 'widmark', 'public', 'health', 'doctor', 'hypoderm', 'needl', 'hand', 'run', 'around', 'tri', 'locat', 'bad', 'guy', 'good', 'bad', 'guy', 'bemus', 'wide', 'scale', 'hunt', 'tension', 'stack', 'fever', 'break', 'point', 'thank', 'final', 'thirti', 'minut', 'becom', 'crack', 'piec', 'cinema', 'palanc', 'excel', 'nasti', 'villain', 'iron', 'put', 'one', 'mind', 'widmark', 'tommi', 'udo', 'kiss', 'death', 'three', 'year', 'prior', 'imagin', 'intellig', 'written', 'stori', 'one', 'cunningli', 'link', 'rat', 'crimin', 'carrier', 'diseas', 'blight', 'societi', 'noirish', 'element', 'paranoia', 'blend', 'nice', 'basic', 'procedur', 'thriller', 'memor', 'scene', 'suitabl', 'cloak', 'stifl', 'atmospher', 'kazan', 'creat', 'although', 'earli', 'charact', 'psycholog', 'threaten', 'steer', 'film', 'talki', 'base', 'alleyway', 'definit', 'film', 'worth', 'stay', 'end', 'essenti', 'film', 'noir', 'mayb', 'even', 'essenti', 'kazan', 'certainli', 'highli', 'recommend', 'film', 'beg', 'discov', 'new', 'gener', 'film', 'lover', 'reapprais', 'old', 'guard', 'may', 'miss', 'back', 'day', '7', '5', '10'], ['first', 'film', 'walk', 'cast', 'crew', 'pre', 'screen', 'involv', 'hasten', 'add', 'made', 'first', 'hour', 'reckon', 'qualifi', 'comment', 'limit', 'like', 'comment', 'get', 'kind', 'qa', 'accumul', 'worst', 'dialogu', 'epitom', 'wooden', 'act', 'aw', 'cast', 'wrap', 'togeth', 'without', 'plot', 'tara', 'fitzgerald', 'cast', 'bizarr', 'almost', 'comic', 'possess', 'worst', 'russian', 'accent', 'movi', 'histori', 'left', 'screen', 'director', 'produc', 'drink', 'bar', 'outsid', 'cinema', 'obvious', 'sit', 'either'], ['simon', 'pegg', 'play', 'part', 'sidney', 'young', 'young', 'entertain', 'writer', 'begun', 'begin', 'career', 'write', 'grassroot', 'magazin', 'special', 'badmouth', 'shallow', 'superfici', 'rich', 'famou', 'make', 'career', 'lampoon', 'celebr', 'although', 'desper', 'wish', 'celebr', 'movi', 'base', 'bizarr', 'career', 'tobi', 'young', 'also', 'ran', 'small', 'magazin', 'britain', 'call', 'modern', 'review', 'offer', 'scath', 'critic', 'pretti', 'much', 'everyth', 'imagin', 'close', 'magazin', 'hail', 'verbal', 'bullet', 'co', 'editor', 'went', 'spectacularli', 'fail', 'career', 'writer', 'vaniti', 'fair', 'pretti', 'much', 'part', 'life', 'told', 'movi', 'first', 'thrill', 'go', 'work', 'major', 'public', 'call', 'sharp', 'magazin', 'movi', 'despit', 'activ', 'nerv', 'posit', 'beam', 'first', 'day', 'meet', 'chief', 'editor', 'clayton', 'hard', 'play', 'jeff', 'bridg', 'hard', 'nail', 'also', 'exactli', 'kind', 'editor', 'need', 'goof', 'like', 'young', 'keep', 'job', 'magazin', 'offer', 'littl', 'form', 'immedi', 'accept', 'young', 'also', 'describ', 'liber', 'toler', 'young', 'wall', 'antic', 'inappropri', 'behavior', 'much', 'comedi', 'movi', 'deriv', 'young', 'misunderstand', 'indiffer', 'gener', 'accept', 'code', 'public', 'behavior', 'peculiar', 'etiquett', 'involv', 'deal', 'rich', 'famou', 'sidney', 'reason', 'act', 'weird', 'way', 'give', 'outwardli', 'offens', 'interview', 'believ', 'loath', 'entir', 'celebr', 'cultur', 'would', 'seem', 'believ', 'age', 'old', 'say', 'beat', 'em', 'join', 'em', 'beat', 'em', 'complic', 'matter', 'two', 'differ', 'women', 'charm', 'regular', 'girl', 'magazin', 'name', 'alison', 'olsen', 'kirsten', 'dunst', 'first', 'appal', 'sidney', 'obviou', 'arrog', 'woman', 'way', 'stun', 'model', 'name', 'sophi', 'megan', 'fox', 'repres', 'celebr', 'cultur', 'needless', 'say', 'sidney', 'endless', 'attack', 'superfici', 'stardom', 'superfici', 'lust', 'sophi', 'one', 'look', 'star', 'sophi', 'stunningli', 'beauti', 'true', 'also', 'come', 'across', 'singl', 'thought', 'rattl', 'around', 'head', 'alison', 'regular', 'girl', 'interest', 'attract', 'dunst', 'perform', 'make', 'real', 'person', 'relationship', 'would', 'realiti', 'britney', 'spear', 'marriag', 'yet', 'movi', 'retain', 'level', 'believ', 'despit', 'obviou', 'also', 'feel', 'sidney', 'pain', 'pursu', 'felt', 'anyway', 'lose', 'friend', 'alien', 'peopl', 'pretti', 'interest', 'premis', 'full', 'honest', 'satisfactori', 'perform', 'although', 'turn', 'bit', 'standard', 'romant', 'comedi', 'third', 'act', 'varieti', 'well', 'develop', 'interest', 'charact', 'danni', 'huston', 'exampl', 'give', 'us', 'great', 'perform', 'alison', 'love', 'interest', 'pay', 'homag', 'big', 'lebowski', 'also', 'star', 'bridg', 'ever', 'present', 'white', 'russian', 'one', 'person', 'favorit', 'drink', 'buy', 'absolut', 'kahlua', 'china', 'cost', 'equival', '350', 'kitchen', 'never', 'without', 'look', 'forward', 'day', 'simon', 'pegg', 'branch', 'littl', 'bit', 'love', 'film', 'complet', 'unsur', 'rang', 'play', 'seriou', 'charact', 'hot', 'fuzz', 'seriou', 'relat', 'lunaci', 'surround', 'ultim', 'went', 'back', 'pretti', 'much', 'shaun', 'dead', 'run', 'fat', 'boy', 'run', 'lose', 'friend', 'rise', 'star', 'interest', 'see', 'els'], ['like', 'first', 'movi', 'textbook', 'exampl', 'sequel', 'would', 'better', 'left', 'draw', 'board', 'gener', 'idea', 'first', 'movi', 'great', 'least', 'interest', 'sequel', 'tri', 'build', 'upon', 'idea', 'charact', 'first', 'movi', 'though', 'christoph', 'walken', 'still', 'good', 'gabriel', 'whole', 'idea', 'suddenli', 'get', 'bit', 'ridicul', 'seen', 'movi', 'get', 'first', 'movi', 'forget', 'sequel', 'take', 'away', 'joy', 'origin'], ['base', 'actual', 'mine', 'disast', 'earli', 'german', 'talki', 'english', 'subtitl', 'still', 'remain', 'one', 'effect', 'docu', 'drama', 'ever', 'film', 'featur', 'mani', 'non', 'profession', 'actor', 'kameradschaft', 'give', 'chill', 'view', 'friendship', 'bind', 'mine', 'worker', 'regardless', 'side', 'french', 'german', 'border', 'may', 'deadli', 'accid', 'bring', 'best', 'everyon', 'nullifi', 'superior', 'order', 'fellow', 'miner', 'need', 'receiv', 'help', 'comrad', 'even', 'threat', 'great', 'loss', 'includ', 'life', 'film', 'remind', 'self', 'sacrif', 'heroism', 'shown', 'nyfd', 'follow', '9', '11', 'attack', 'put', 'asid', 'formal', 'rule', 'regul', 'men', 'women', 'uniform', 'knew', 'one', 'caus', 'save', 'live', 'find', 'fellow', 'fire', 'fighter', '70', 'year', 'later', 'kameradschaft', 'still', 'strong', 'timeless', 'messag', 'friend', 'need', 'friend', 'deed'], ['watch', 'movi', 'wee', 'hour', 'morn', 'asleep', 'testimoni', 'deliver', 'spell', 'bind', 'movi', 'think', 'boorman', 'wonder', 'job', 'direct', 'film', 'expertli', 'earli', 'scene', 'hill', 'folk', 'duel', 'banjo', 'done', 'show', 'well', 'earli', 'inher', 'reserv', 'simpl', 'peopl', 'area', 'case', 'point', 'near', 'end', 'duel', 'banjo', 'play', 'boy', 'smile', 'love', 'banjo', 'drew', 'tri', 'shake', 'boy', 'hand', 'duel', 'kid', 'reserv', 'respond', 'river', 'trip', 'never', 'left', 'bore', 'sure', 'rape', 'scene', 'brutal', 'necessari', 'show', 'group', 'backwood', 'area', 'georgia', 'think', 'beatti', 'traumat', 'shock', 'afterward', 'well', 'done', 'said', 'pretti', 'unaffect', 'ordeal', 'disagre', 'realli', 'pay', 'attent', 'unrespons', 'entir', 'action', 'immedi', 'follow', 'reynold', 'put', 'arrow', 'attack', 'chase', 'toothless', 'guy', 'confus', 'ed', 'kill', 'guy', 'later', 'top', 'cliff', 'almost', 'appear', 'arrow', 'shot', 'ed', 'curl', 'expect', 'die', 'realiz', 'arrow', 'shot', 'earlier', 'final', 'taken', 'effect', 'anyway', 'great', 'movi', 'waver', '8', '9', 'vote', 'read', 'messag', 'disgruntl', 'voter', 'gave', '1', 'gave', '10', 'individu', 'reason', 'seem', 'base', 'person', 'bia', 'rather', 'object', 'viewpoint', 'vote', 'obvious', 'non', 'correl', 'attempt', 'lower', 'rate'], ['could', 'well', 'worst', 'film', 'ever', 'seen', 'despit', 'mikshelt', 'claim', 'movi', 'even', 'close', 'histor', 'accur', 'start', 'badli', 'downhil', 'hitler', 'father', 'curs', 'bad', 'luck', 'fact', 'marri', 'niec', 'fact', 'second', 'cousin', 'hitler', 'mother', 'klara', 'call', 'father', 'aloi', 'uncl', 'aloi', 'adopt', 'rais', 'klara', 'grandfath', 'brought', 'son', 'realli', 'nephew', 'aloi', 'much', 'older', 'klara', 'child', 'got', 'habit', 'call', 'aloi', 'uncl', 'scene', 'trench', 'hitler', 'mock', 'fellow', 'soldier', 'decid', 'take', 'dog', 'simpli', 'disgrac', 'insult', 'intellig', 'viewer', 'see', 'hitler', 'chase', 'dog', 'trench', 'catch', 'poor', 'thing', 'proce', 'thrash', 'disobey', 'distanc', 'see', 'hear', 'fellow', 'soldier', 'continu', 'mock', 'chastis', 'cowardli', 'littl', 'man', 'shell', 'land', 'directli', 'persecutor', 'everi', 'last', 'one', 'told', 'kill', 'outright', 'hitler', 'person', 'surviv', 'scene', 'tale', 'brutal', 'cowardic', 'come', 'told', 'hitler', 'go', 'around', 'boast', 'think', 'next', 'hitler', 'bulli', 'intimid', 'poor', 'stress', 'war', 'weari', 'jewish', 'offic', 'give', 'iron', 'cross', 'assum', 'jewish', 'offic', 'pawnbrok', 'fight', 'fatherland', 'thought', 'brought', 'along', 'pledg', 'medal', 'shop', 'certain', 'iron', 'cross', 'hand', 'shown', 'comic', 'farc', 'grotesqu', 'clich', 'least', 'calm', 'hypnot', 'effect', 'wagner', 'music', 'upon', 'littl', 'man', 'produc', 'kept', 'ian', 'kershaw', 'side', 'might', 'discov', 'franz', 'lehar', 'merri', 'widow', 'like', 'float', 'fuhrer', 'boat', 'fli', 'dutchman', 'cannon', 'richard', 'wagner', 'hitler', 'may', 'respons', 'death', '60', 'million', 'peopl', 'ever', 'forgiven', 'appal', 'tast', 'music', 'could', 'go', 'hour', 'give', 'miss'], ['titl', 'film', 'taken', 'parti', 'game', 'call', 'seven', 'minut', 'heaven', 'game', 'popular', 'among', 'husband', 'friend', 'junior', 'high', 'school', 'brooklyn', 'ny', 'describ', 'someth', 'like', 'spin', 'bottl', 'lifesav', 'relay', 'preteen', 'kiss', 'game', 'accord', 'rule', 'boy', 'name', 'girl', 'would', 'drawn', 'chosen', 'one', 'order', 'get', 'dark', 'closet', 'togeth', 'stay', 'seven', 'minut', 'meantim', 'would', 'specul', 'among', 'parti', 'guest', 'whether', 'two', 'nerv', 'hold', 'hand', 'embrac', 'kiss', 'privaci', 'closet', 'end', 'seven', 'minut', 'game', 'leader', 'would', 'say', 'time', 'knock', 'closet', 'door', 'coupl', 'would', 'emerg', 'closet', 'quizz', 'guest', 'coupl', 'would', 'admit', 'done', 'seven', 'minut', 'heaven', 'coupl', 'would', 'chosen', 'enter', 'closet', 'guest', 'particip', 'coupl', 'admit', 'would', 'winner', 'game', 'game', 'serv', 'social', 'ice', 'breaker', 'children', 'teen', 'embarrass', 'intimid', 'shi', 'individu', 'film', 'given', 'titl', 'deal', 'teen', 'first', 'experi', 'crush', 'romant', 'love'], ['yeah', 'film', 'top', 'cant', 'recommend', 'gay', 'strait', 'great', 'doco', 'anyon', 'like', 'film', 'funni', 'sad', 'interest', 'never', 'dull', 'great', 'access', 'film', 'made', 'passion', 'interest', 'subject', 'matter', 'perform', 'amaz', 'find', 'film', 'vh', 'still', 'worth', 'watch', 'great', '10', '10', 'got', 'see', 'part', 'doco', 'year', 'ten', 'year', 'ago', 'understand', 'watch', 'interview', 'reveal', 'ego', 'perform', 'like', 'heavi', 'weight', 'boxer', 'tri', 'punch', 'way', 'ghetto', 'filmmak', 'appar', 'first', 'timer', 'achiev', 'cool', 'track'], ['richard', 'attenborough', 'director', 'whose', 'name', 'synonym', 'academi', 'award', 'win', 'gandhi', 'back', '83', 'know', 'work', 'till', 'recent', 'came', 'across', 'cri', 'freedom', 'releas', 'back', '1987', 'may', 'popular', 'gandhi', 'everi', 'bit', 'grip', 'releas', 'south', 'africa', 'still', 'got', 'rid', 'shackl', 'apartheid', 'movi', 'social', 'issu', 'come', 'event', 'happen', 'guess', 'one', 'releas', 'time', 'stori', 'base', 'real', 'life', 'charact', 'event', 'book', 'movi', 'base', 'written', 'donald', 'wood', 'kevin', 'kline', 'journalist', 'use', 'work', 'south', 'africa', 'end', 'seventi', 'trace', 'origin', 'wood', 'friendship', 'charismat', 'black', 'leader', 'steve', 'biko', 'wonder', 'portray', 'denzel', 'washington', 'cannot', 'imagin', 'better', 'choic', 'role', 'washington', 'exud', 'natur', 'charm', 'screen', 'presenc', 'biko', 'charact', 'requir', 'initi', 'wood', 'felt', 'black', 'racism', 'spread', 'biko', 'meet', 'man', 'could', 'help', 'drawn', 'struggl', 'idea', 'bond', 'grow', 'stronger', 'wood', 'famili', 'realis', 'becom', 'sensit', 'plight', 'peopl', 'biko', 'repres', 'howev', 'final', 'tragedi', 'strike', 'wood', 'must', 'concentr', 'escap', 'south', 'africa', 'book', 'get', 'publish', 'let', 'outsid', 'world', 'know', 'go', 'second', 'half', 'movi', 'grip', 'tale', 'escap', 'south', 'africa', 'along', 'famili', 'keep', 'tenterhook', 'delici', 'humor', 'dialogu', 'scene', 'biko', 'lawyer', 'courtroom', 'exampl', 'lawyer', 'advoc', 'violenc', 'biko', 'advoc', 'confront', 'lawyer', 'well', 'violenc', 'mr', 'biko', 'biko', 'necessarili', 'confront', 'see', 'violenc', 'howev', 'moment', 'bring', 'back', 'horror', 'pervad', 'countri', 'better', 'sens', 'prevail', 'scene', 'armi', 'open', 'fire', 'protest', 'school', 'children', 'gut', 'wrench', 'heartbreak', 'definit', 'must', 'watch', 'would', 'suggest', 'familiar', 'attenborough', 'work', 'take', 'time', 'movi', 'make', 'lot', 'money', 'movi', 'make', 'live', 'would', 'day', 'prefer', 'latter'], ['unhing', 'part', 'video', 'nasti', 'censorship', 'film', 'select', 'uk', 'built', '80', 'keep', 'gori', 'stuff', 'hand', 'children', 'know', 'must', 'left', 'mani', 'wonder', 'fuss', 'today', 'standard', 'unhing', 'tame', 'littl', 'fairi', 'tale', '3', 'girl', 'jazz', 'concert', 'right', 'away', 'know', 'bodi', 'count', 'go', 'quit', 'low', 'get', 'lost', 'wood', 'wind', 'get', 'car', 'accid', 'look', 'fake', 'laughabl', 'pick', 'nearbi', 'resid', 'live', 'wood', 'creepi', 'hous', 'one', 'girl', 'serious', 'injur', 'stay', 'upstair', 'talk', 'talk', 'girl', 'must', 'dinner', 'time', 'mother', 'like', 'someon', 'late', 'talk', 'yakkiti', 'yak', 'suspens', 'built', 'crazi', 'guy', 'walk', 'around', 'harass', 'girl', 'someon', 'eyebal', 'look', 'hole', 'wall', 'pretti', 'girl', 'someth', 'look', 'like', 'hitchcock', 'psycho', 'digress', 'much', 'blah', 'blah', 'film', 'wonder', 'kill', 'go', 'start', 'fact', 'one', 'girl', 'get', 'bore', 'mind', 'walk', 'wood', 'alon', 'look', 'town', 'smart', 'move', 'probabl', 'knew', 'lone', 'virgin', 'walk', 'alon', 'wood', 'part', 'care', 'talk', 'continu', 'wait', 'wait', 'wait', 'next', 'girl', 'may', 'may', 'kill', 'twist', 'end', 'expect', 'unexpect', 'viewer', 'other', 'real', 'gotcha', 'quit', 'possibl', 'reason', 'someon', 'would', 'realli', 'want', 'watch', 'care', 'twist', 'noth', 'movi', 'make', 'bore', 'time', 'watch', 'even', 'minor', 'impact', 'end', 'director', 'take', 'realli', 'deliv', 'good', 'stori', 'would', 'made', 'much', 'better', '30', 'minut', '1', 'hour', 'tv', 'episod', 'say', 'tale', 'darksid', 'realli', 'must', 'get', 'reason', 'perhap', 'say', 'watch', 'everi', 'slasher', 'movi', 'favor', 'fast', 'forward', 'button', 'readi', 'sinc', 'movi', 'mani', 'unimport', 'scene', 'zoom', 'time', 'get', 'wow', 'time', 'end', 'oh', 'halfway', 'movi', 'shower', 'scene', '2', 'girl', 'show', 'boo', 'bee', 'horray', 'boo', 'bee', 'beauti', 'buzz', 'honey', 'make', 'boo', 'bee'], ['despair', 'look', 'empti', 'weak', 'disney', 'studio', 'last', 'product', 'come', 'someth', 'heal', 'wound', 'bug', 'life', 'bring', 'proof', 'pure', 'synthet', 'pictur', 'conduct', 'good', 'scenario', 'provid', 'interest', 'fake', 'hand', 'made', 'old', 'disney', 'like', 'draw', 'see', 'lion', 'king', 'pocahonta', 'latest', 'product', 'sadli', 'regret', 'bambi', 'magic', 'background', 'atmospher', 'gone', 'forev', 'bug', 'life', '1001', 'patt', 'fellow', 'french', 'cinemaniak', 'succe', 'avoid', 'imperfect', 'make', 'awaken', 'middl', 'movi', 'say', 'hey', 'thing', 'comput', 'gener', 'weak', 'part', 'tremend', 'effort', 'show', 'effici', 'background', 'gener', 'look', 'set', 'astonish', '3d', 'bird', 'close', 'perfect', 'imit', 'realiti', 'mention', 'technic', 'aspect', 'scenario', 'friend', 'real', 'backbon', 'motion', 'pictur', 'thick', 'curious', 'obvious', 'thank', 'lasset', 'team', 'practic', 'music', 'sequenc', 'bug', 'life', 'mean', 'stori', 'long', 'rich', 'enough', 'free', '3', '4', 'minut', 'kid', 'appreci', 'other', 'dislik', 'thing', 'parent', 'anim', 'fan', 'like', 'movi', 'remind', 'realli', 'old', 'movi', 'featur', 'steve', 'martin', 'chevi', 'chase', '3', 'amigo', 'basic', 'background', 'stori', 'whole', 'mexican', 'villag', 'live', 'fear', 'bad', 'guy', 'hire', 'gunmen', 'final', 'turn', 'actor', 'protect', 'etc', 'simpl', 'effici', 'brilliantli', 'adapt', 'coloni', 'frighten', 'ant', 'face', 'wrath', 'viciou', 'insect', 'sinc', 'microcosmo', 'mani', 'movi', 'tell', 'tale', 'insect', 'live', 'fear', 'hope', 'think', 'bug', 'life', 'funniest', 'best', 'direct', 'humanis', 'process', 'perfectli', 'well', 'achiev', 'whole', 'audienc', 'captiv', 'flik', 'aka', 'tilt', 'franc', 'adventur', 'big', 'thank', 'lasset', 'team', 'especi', 'last', '30', 'second', 'strang', 'great', 'time', 'see', 'whole', 'theater', 'caught', 'laughter', 'bug', 'actor', 'forget', 'line', 'hit', 'camera', 'final', 'especi', 'seen', 'french', 'version', 'congratul', 'go', 'dub', 'actor', 'made', 'great', 'synchro', 'work', 'movi', 'bug', 'life', 'realli', 'good', 'piec', 'entertain', 'think', 'soon', 'becom', 'part', 'collect', 'video', 'privileg', 'grant', 'extrem', 'movi', 'problem', 'storag', 'room', 'go', 'see', 'order'], ['mani', 'state', 'orca', 'killer', 'whale', 'jaw', 'rip', 'realli', 'true', 'though', 'enorm', 'commerci', 'success', 'jaw', 'undoubtedli', 'made', 'man', 'vs', 'beast', 'stori', 'attract', 'proposit', 'film', 'maker', 'second', 'half', '70', 'orca', 'killer', 'whale', 'would', 'better', 'describ', 'modern', 'day', 'retread', 'mobi', 'dick', 'stori', 'obsess', 'one', 'hand', 'whale', 'obsess', 'quest', 'aveng', 'death', 'mate', 'bounti', 'hunter', 'obsess', 'quest', 'kill', 'whale', 'claim', 'live', 'sadli', 'orca', 'killer', 'whale', 'emerg', 'disappoint', 'film', 'fundament', 'interest', 'idea', 'somewhat', 'ruin', 'hammi', 'perform', 'preposter', 'plot', 'shark', 'hunter', 'nolan', 'richard', 'harri', 'encount', 'marin', 'life', 'research', 'rachel', 'bedford', 'charlott', 'rampl', 'dive', 'atlant', 'coast', 'canada', 'meet', 'almost', 'end', 'disast', 'rachel', 'team', 'attack', 'great', 'white', 'shark', 'killer', 'whale', 'arriv', 'nick', 'time', 'stop', 'shark', 'nolan', 'becom', 'increasingli', 'obsess', 'captur', 'killer', 'whale', 'sell', 'aquarium', 'plan', 'backfir', 'accident', 'kill', 'pregnant', 'femal', 'speci', 'distraught', 'male', 'look', 'rachel', 'tell', 'nolan', 'killer', 'whale', 'incred', 'intellig', 'mammal', 'strong', 'memori', 'feel', 'like', 'human', 'wors', 'still', 'nativ', 'umilak', 'sampson', 'warn', 'whale', 'alway', 'rememb', 'grief', 'everyth', 'reveng', 'nolan', 'initi', 'tri', 'forget', 'whole', 'regrett', 'incid', 'whale', 'caus', 'havoc', 'fish', 'town', 'disgruntl', 'local', 'begin', 'demand', 'nolan', 'put', 'sea', 'track', 'destroy', 'eventu', 'nolan', 'forc', 'pursu', 'killer', 'whale', 'hunt', 'lead', 'way', 'desol', 'ice', 'floe', 'arctic', 'ocean', 'man', 'beast', 'play', 'final', 'fatal', 'battl', 'two', 'thing', 'stand', 'film', 'one', 'haunt', 'score', 'ennio', 'morricon', 'perhap', 'greatest', 'compos', 'film', 'music', 'time', 'talent', 'wast', 'variou', 'tenth', 'rate', 'clunker', '70', '80', 'amaz', 'widescreen', 'photographi', 'ted', 'moor', 'make', 'film', 'consist', 'pleas', 'eye', 'everi', 'depart', 'orca', 'killer', 'whale', 'shoddi', 'film', 'noth', 'enhanc', 'reput', 'talent', 'cast', 'crew', 'harri', 'appear', 'extrem', 'ill', 'throughout', 'film', 'hair', 'bedraggl', 'black', 'ring', 'around', 'eye', 'skin', 'deathli', 'pale', 'perform', 'lack', 'usual', 'vital', 'rampl', 'strike', 'lot', 'sexi', 'pose', 'fail', 'convinc', 'long', 'wind', 'ill', 'inform', 'explan', 'way', 'whale', 'rest', 'actor', 'wast', 'brief', 'undevelop', 'role', 'memor', 'see', 'bo', 'derek', 'get', 'leg', 'bitten', 'veng', 'whale', 'plot', 'total', 'nonsens', 'start', 'finish', 'preposter', 'sequenc', 'whale', 'deliber', 'start', 'fire', 'fish', 'villag', 'engulf', 'destroy', 'local', 'refineri', 'although', 'credibl', 'suppos', 'whale', 'intellig', 'creatur', 'genuin', 'emot', 'idea', 'whale', 'could', 'plot', 'reveng', 'singl', 'human', 'adversari', 'carri', 'calculatedli', 'utterli', 'absurd', 'orca', 'killer', 'whale', 'realli', 'one', 'completist', 'man', 'vs', 'beast', 'cycl', 'late', '70', 'come', 'away', 'film', 'shake', 'head', 'disbelief', 'grind', 'teeth', 'despair'], ['realli', 'come', 'movi', 'funni', 'josh', 'kornbluth', 'antithesi', 'funni', 'yet', 'think', 'hilari', 'plot', 'mail', '17', 'letter', 'fine', 'first', 'josh', 'look', 'wacki', 'approach', 'began', 'infest', 'everi', 'scene', 'juda', 'priest', 'joke', 'may', 'least', 'funni', 'thing', 'ever', 'privi', 'say', 'quit', 'bit', 'sinc', 'stiff', 'competit', 'joke', 'movi', 'incred', 'overus', 'pixi', 'debas', 'one', 'thing', 'say', 'pixi', 'ever', 'deserv', 'fate', 'like', 'anyon', 'josh', 'kornbluth', 'caus', 'write', 'direct', 'produc', 'star', 'terribl', 'movi'], ['other', 'note', 'excel', 'hammer', 'style', 'film', 'seem', 'actor', 'instruct', 'play', 'screenplay', 'leaden', 'poorli', 'pace', 'fill', 'lot', 'dull', 'soliloqui', 'poor', 'timothi', 'dalton', 'saddl', 'overblown', 'self', 'import', 'uncharacterist', 'weak', 'perform', 'dalton', 'although', 'quietli', 'nail', 'climact', 'scene', 'dr', 'rock', 'final', 'realiz', 'done', 'actor', 'come', 'realli', 'well', 'patrick', 'stewart', 'welcom', 'sight', 'freddi', 'franci', 'may', 'great', 'cinematograph', 'lousi', 'director'], ['big', 'fan', 'rom', 'com', 'best', 'time', 'quit', 'good', 'check', 'dream', 'insomniac', 'one', 'less', 'run', 'time', '100min', 'expect', '1', 'laugh', 'everi', '30min', 'real', 'belli', 'laugh', 'male', 'stranger', 'friend', 'instinct', 'help', 'lee', 'charact', 'say', 'avoid', 'guarante', 'least', '10', 'movi', 'shelf', 'deserv', '3', '10', 'co', 'big', 'lee', 'fan'], ['horribl', 'peopl', 'ought', 'subtitl', 'horribl', 'film', 'want', 'see', 'ordinari', 'peopl', 'ordinari', 'thing', 'look', 'window', 'real', 'life', 'want', 'see', 'unpleas', 'peopl', 'dull', 'thing', 'watch', 'horribl', 'film', 'mike', 'leigh', 'charact', 'talk', 'length', 'never', 'actual', 'manag', 'commun', 'presum', 'leigh', 'thing', 'us', 'ineffect', 'pathet', 'actor', 'want', 'film', 'real', 'life', 'fail'], ['best', 'adapt', 'seen', 'favourit', 'think', 'stay', 'close', 'book', 'realli', 'make', 'must', 'see', 'though', 'cast', 'two', 'lead', 'actor', 'wonder', 'timothi', 'dalton', 'best', 'rochest', 'seen', 'screen', 'brood', 'tragic', 'zelah', 'clark', 'perfect', 'combin', 'strength', 'courag', 'shyness', 'gentl', 'jane', 'stori', 'sure', 'peopl', 'know', 'young', 'plain', 'jane', 'eyr', 'teacher', 'chariti', 'school', 'girl', '1800', 'advertis', 'servic', 'gover', 'newspap', 'offer', 'post', 'gover', 'big', 'mansion', 'thornfield', 'hall', 'tutor', 'adel', 'young', 'ward', 'hall', 'mysteri', 'respect', 'owner', 'mr', 'rochest', 'month', 'go', 'fall', 'love', 'jane', 'put', 'effect', 'situat', 'tri', 'see', 'jane', 'madli', 'love', 'howev', 'secret', 'still', 'wait', 'discov', 'thornfield', 'hall', 'effect', 'devast', 'move', 'well', 'act', 'drama', 'nice', 'locat', 'gorgeou', 'costum', 'plu', 'said', 'earlier', 'excel', 'act', 'especi', 'zelah', 'timothi'], ['comment', 'contain', 'spoiler', 'bare', 'hold', 'show', 'appoint', 'tv', 'start', 'annoy', 'music', 'everi', 'scene', 'epp', 'averag', 'almost', 'shoot', 'per', 'case', 'nasal', 'dian', 'farr', 'obvious', 'pregnant', 'notic', 'colbi', 'f', 'g', 'tripl', 'agent', 'tonight', 'episod', 'david', 'trap', 'paranoid', 'nut', 'job', 'obviou', 'amateur', 'gun', 'elev', 'disarm', 'train', 'experienc', 'field', 'agent', '1st', 'door', 'mani', 'time', 'experienc', 'hand', 'hand', 'fight', 'take', 'nut', 'job', 'said', 'nut', 'job', 'blink', 'look', 'away', 'drop', 'head', 'close', 'eye', 'even', 'look', 'fiber', 'optic', 'wire', 'wriggl', 'around', 'ceil', 'like', 'stripper', 'pole', '20', 'second', 'scene', 'came', 'let', 'know', 'much', 'enjoy', 'learn', 'chubbi', 'frumpish', 'charm', 'charl', 'epp', 'sexi', 'sidekick', 'love', 'interest', 'amita', 'friday', 'night', 'better', 'spent', 'otherwis', 'engag', 'give', 'david', 'distress', 'word', 'code', 'go', 'david', 'readi', 'kill', 'light', 'drop', 'elev', 'startl', 'nut', 'job', 'david', 'cannot', 'disarm', 'kill', 'beat', 'submiss', 'nut', 'job', 'bad', 'guy', 'end', 'gun', 'david', 'end', 'shot', 'done', 'hope', 'numb3r', 'fun'], ['realli', 'want', 'like', 'movi', 'critic', 'unkindto', 'say', 'least', 'terribl', 'realli', 'terribl', 'badlyact', 'witless', 'script', 'cack', 'hand', 'direct', 'watch', 'film', 'waslik', 'watch', 'car', 'crash', 'want', 'look', 'away', 'keep', 'staringbecaus', 'want', 'see', 'messi', 'go', 'get', 'well', 'car', 'iswreck', 'survivor', 'plu', 'side', 'cinematographywa', 'nice', 'made', 'want', 'go', 'holiday', 'cleans', 'fromthi', 'unholi'], ['crush', 'examin', 'femal', 'friendship', 'part', 'avoid', 'saccharin', 'qualiti', 'spoil', 'mani', 'film', 'theme', 'e', 'g', 'steel', 'magnolia', 'time', 'reveal', 'power', 'sudden', 'passion', 'overwhelm', 'surpris', 'event', 'depict', 'highli', 'improb', 'underli', 'emot', 'truth', 'seem', 'genuin', 'film', 'speed', 'vehicl', 'explos', 'crowd', 'grown', 'women', 'certain', 'respond', 'laughter', 'tear'], ['le', 'locatair', 'tenant', 'without', 'doubt', 'one', 'import', 'horror', 'movi', 'ever', 'made', 'polanski', 'star', 'trelkovski', 'timid', 'file', 'clerk', 'live', 'pari', 'answer', 'advertis', 'apart', 'find', 'previou', 'tenant', 'attempt', 'suicid', 'leap', 'apart', 'window', 'trelkovski', 'compel', 'visit', 'hospit', 'meet', 'stella', 'isabel', 'adjani', 'trelkovski', 'immedi', 'move', 'previou', 'tenant', 'die', 'first', 'quit', 'pleas', 'found', 'nice', 'apart', 'happi', 'soon', 'replac', 'wave', 'paranoia', 'becom', 'increasingli', 'suspici', 'neighbour', 'seem', 'tri', 'provok', 'trelkovski', 'repeat', 'previou', 'tenant', 'suicid', 'film', 'great', 'polanski', 'manag', 'creat', 'surreal', 'atmospher', 'dread', 'paranoia', 'plenti', 'brilliant', 'moment', 'classic', 'scene', 'trelkovski', 'discov', 'previou', 'tenant', 'tooth', 'hole', 'wall', 'fever', 'dream', 'wander', 'build', 'bathroom', 'find', 'wall', 'cover', 'hieroglyph', 'photographi', 'sven', 'nykvist', 'truli', 'beauti', 'tenant', 'neglect', 'gem', 'may', 'difficult', 'track', 'worth', 'effort'], ['heard', 'eddi', 'izzard', 'never', 'seen', 'action', 'knew', 'transvestit', 'saw', 'hbo', 'one', 'night', 'last', 'summer', 'put', 'know', 'husband', 'would', 'react', 'well', 'blew', 'us', 'away', 'better', 'robin', 'william', 'ever', 'total', 'control', 'audienc', 'englebert', 'dead', 'routin', 'audienc', 'know', 'think', 'end', 'god', 'jame', 'mason', 'also', 'inspir', 'touch', 'version', 'python', 'spanish', 'inquisit', 'carri', 'church', 'england', 'cake', 'death', 'priceless', 'jaw', 'ach', 'laughter', 'end', 'show', 'scour', 'tv', 'list', 'month', 'abl', 'see', 'lucki', 'enough', 'tape', 'next', 'time', 'came', 'get', 'chanc', 'see', 'show', 'cancel', 'everyth', 'tape', 'disappoint'], ['one', 'woman', 'hous', '45', 'minut', 'screen', 'time', 'sound', 'like', 'formula', 'hold', 'edg', 'seat', 'futur', 'shock', 'truli', 'thrill', 'come', 'writer', 'star', 'vivian', 'schill', 'take', 'littl', 'fear', 'suppress', 'enlarg', 'terrifi', 'proport', 'watch', 'film', 'alon'], ['use', 'buster', 'keaton', 'twilight', 'career', 'interest', 'choic', 'may', 'talent', 'comedian', 'silent', 'age', 'give', 'chanc', 'display', 'talent', 'littl', 'time', 'travel', 'stori', 'get', 'hook', 'guy', 'live', 'modern', 'time', 'becom', 'obviou', 'best', 'left', 'time', 'keaton', 'abl', 'sight', 'gag', 'well', 'heard', 'voic', 'believ', 'beach', 'parti', 'film', 'play', 'vacuou', 'charact', 'earn', 'buck', 'serl', 'seem', 'respect', 'portray', 'way', 'bad', 'stori', 'show', 'one', 'react', 'wish', 'someth', 'get', 'wish'], ['octob', 'sky', 'highli', 'laud', 'movi', 'easi', 'see', 'stori', 'easi', 'comprehend', 'mani', 'turn', 'point', 'grip', 'actor', 'actress', 'fairli', 'good', 'job', 'especi', 'jake', 'gyllenha', 'chri', 'cooper', 'hero', 'final', 'get', 'want', 'true', 'stori', 'frankli', 'think', 'director', 'achiev', 'compar', 'spark', 'heat', 'origin', 'stori', 'gener', 'see', 'special', 'narr', 'cinematographi', 'power', 'movi', 'reli', 'much', 'rivet', 'plot', 'tough', 'situat', 'young', 'hero', 'trap', 'audienc', 'find', 'identifi', 'charact', 'feel', 'homer', 'desir', 'earn', 'father', 'recognit', 'creat', 'futur', 'resili', 'win', 'respect', 'octob', 'sky', 'remind', 'later', '2001', 'japanes', 'product', 'mini', 'seri', 'rocket', 'boy', 'might', 'owe', 'inspir', 'movi', 'actual', 'two', 'work', 'shot', 'two', 'differ', 'cultur', 'provid', 'interest', 'comparison', 'octob', 'sky', 'unfold', 'stori', 'young', 'man', 'cri', 'loud', 'claim', 'right', 'destini', 'rocket', 'boy', 'offer', 'compromis', 'descript', 'could', 'sometim', 'constitut', 'acrid', 'critic', 'modern', 'societi', 'star', 'outstand', 'actor', 'yuji', 'oda', 'rocket', 'boy', 'focus', 'three', 'men', 'ordinari', 'travel', 'agent', 'dream', 'becom', 'astronaut', 'boast', 'advertis', 'agent', 'brink', 'torn', 'apart', 'inferior', 'complex', 'result', 'extrem', 'success', 'father', 'older', 'brother', 'like', 'homer', 'feel', 'famili', 'food', 'compani', 'employe', 'get', 'marri', 'scare', 'idea', 'collect', 'social', 'conscious', 'superimpos', 'definit', 'success', 'constitu', 'step', 'forc', 'suffoc', 'dream', 'claim', 'imposs', 'compens', 'lost', 'ideal', 'kobayashi', 'yuji', 'work', 'tour', 'oper', 'call', 'galaxi', 'client', 'fail', 'girlfriend', 'decid', 'leav', 'final', 'find', 'strength', 'father', 'word', 'determin', 'sailor', 'later', 'found', 'life', 'sea', 'less', 'attract', 'presum', 'regret', 'father', 'told', 'kobayashi', 'least', 'tri', 'father', 'confess', 'encourag', 'resign', 'job', 'appli', 'astronautship', 'despit', 'fact', 'hurt', 'leg', 'need', 'move', 'around', 'wheelchair', 'kobayashi', 'effort', 'final', 'fail', 'goe', 'back', 'travel', 'agenc', 'crazi', 'courag', 'inspir', 'friend', 'everyon', 'love', 'end', 'seri', 'kobayashi', 'job', 'guid', 'space', 'camp', 'meant', 'let', 'children', 'learn', 'astronaut', 'tour', 'see', 'lean', 'tree', 'unfold', 'sheet', 'poster', 'tear', 'bulletin', 'board', 'say', 'astronaut', 'want', '2004', 'kobayashi', 'look', 'piec', 'paper', 'laugh', 'laugh', 'like', 'kid', 'look', 'ticket', 'disneyland', 'kobayashi', 'may', 'never', 'get', 'want', 'dare', 'destini', 'seri', 'heart', 'grip', 'hero', 'exhibit', 'heroic', 'deed', 'ordinari', 'unstopp', 'urg', 'realiz', 'dream', 'make', 'us', 'wonder', 'envi', 'unlik', 'dilbert', 'sarcast', 'write', 'show', 'enlighten', 'us', 'teach', 'us', 'someth', 'homer', 'kobayashi', 'dream', 'despit', 'peopl', 'opinion', 'recommend', 'imdb', 'user', 'see', 'japanes', 'tv', 'seri', 'nine', 'fiver', 'feel', 'touch', 'feel', 'sorri', 'imdb', 'data', 'mayb', 'ask', 'somebodi', 'japan', 'help'], ['everi', 'movi', 'thirti', 'date', 'watch', 'john', 'ford', 'movi', 'would', 'seem', 'date', 'watch', 'other', 'e', 'grand', 'hotel', 'compar', 'modern', 'melodrama', 'ford', 'alway', 'hard', 'sell', 'someon', 'nobil', 'abe', 'joad', 'alway', 'emphasi', 'heavi', 'bad', 'alway', 'poorli', 'craft', 'awkward', 'obviou', 'script', 'except', 'rather', 'belabor', 'devic', 'deliv', 'sentiment', 'sentiment', 'go', 'ford', 'make', 'appreci', 'lincoln', 'make', 'wonder', 'state', 'ever', 'settl', 'popul', 'complet', 'moron', 'depict', 'ford', 'went', 'make', 'decent', 'movi', 'date', 'anyth', 'bad', 'feel', 'entir', 'fals', 'henri', 'fonda', 'fake', 'nose', 'bizarr', 'one', 'illinoi', 'would', 'pronounc', 'trail', 'say', 'shonuff'], ['take', 'scifi', 'origin', 'movi', 'mix', 'littl', 'altern', 'revisionist', 'histori', 'get', 'aztec', 'rex', 'appar', 'hernand', 'cort', 'conquer', 'aztec', 'empir', 'first', 'conquer', 'tyrannosauru', 'rex', 'mate', 'thrust', 'movi', 'given', 'plot', 'could', 'realli', 'suck', 'fact', 'kind', 'suck', 'tip', 'cap', 'writer', 'problem', 'starter', 'cort', 'play', 'ian', 'zier', 'even', 'black', 'wig', 'zier', 'cort', 'convinc', 'axl', 'rose', 'play', 'gandhi', 'though', 'cort', 'conquer', 'indigen', 'peopl', 'mexico', 'aztec', 'seem', 'play', 'hawaiian', 'ensembl', 'cast', 'asid', 'rex', 'es', 'look', 'reason', 'good', 'though', 'everi', 'time', 'one', 'get', 'shot', 'ooz', 'cgi', 'die', 'easili', 'suppos', 'rex', 'around', 'real', 'life', 'probabl', 'could', 'fell', 'least', 'wound', 'rather', 'rudimentari', '16th', 'centuri', 'weaponri', 'take', 'someth', 'away', 'movi', 'also', 'graphic', 'rex', 'swallow', 'human', 'scene', 'surpris', 'context', 'thought', 'work', 'ok', 'plenti', 'action', 'whole', 'colon', 'angl', 'preval', 'throughout', 'overwhelm', 'dinosaur', 'angl', 'unlik', 'recent', 'scifi', 'origin', 'dinosaur', 'movi', 'warbird', 'overal', 'mediocr', 'decent', 'scifi', 'origin', 'standard', 'movi', 'rate', 'modest', '4'], ['five', 'minut', 'watch', 'log', 'imdb', 'warn', 'bother', 'movi', 'genr', 'horror', 'moment', 'mild', 'suspens', 'throughout', 'whole', 'movi', 'think', 'someth', 'gotta', 'happen', 'soon', 'movi', 'end', 'felt', 'embarrass', 'writer', 'director', 'never', 'biggest', 'fan', 'patrick', 'rea', 'guy', 'know', 'make', 'movi', 'watch', 'sorri', 'excus', 'horror', 'flick', 'gone', 'biggest', 'fan', 'watch', 'anoth', 'work', 'taken', 'plot', 'summari', 'pleas', 'make', 'mistak', 'gave', 'movi', '2', 'actor', 'bad', 'fault', 'got', 'bad', 'direct'], ['third', 'parodi', 'scari', 'movi', 'hope', 'last', 'time', 'spoof', 'mainli', 'ring', 'sign', '8', 'mile', 'weird', 'reason', 'opinion', 'movi', 'pointless', 'unnecessari', 'even', 'funni', 'laugh', 'mayb', 'three', 'time', 'enough', 'comedi', 'realli', 'enjoy', 'first', 'two', 'one', 'plain', 'dumb', 'joke', 'consist', 'corps', 'get', 'beat', 'peopl', 'constantli', 'throw', 'stuff', 'movi', 'opinion', 'smart', 'enough', 'stay', 'home', 'save', 'money', 'pleas', 'stop', 'make', 'kind', 'movi', 'keep', 'get', 'wors', '3', '10'], ['1', 'movi', 'amaz', 'watch', 'town', 'next', 'one', 'grew', 'went', 'saw', 'build', 'stori', 'took', 'place', 'overal', 'love', 'movi', 'one', 'jake', 'gyllenha', 'best', 'also', 'favorit', 'part', 'scienc', 'fair', 'time', 'father', 'sad', 'seem', 'homer', 'want', 'follow', 'dream', 'dad', 'seem', 'care', 'one', 'way', 'anoth', 'tag', 'line', 'true', 'sometim', 'one', 'dream', 'bright', 'enough', 'light', 'sky', '2', 'way', 'movi', 'shot', 'impecc', 'believ', 'could', 'record', '1950', 'dress', 'accur', 'slang', 'definit', 'recommend', 'movi'], ['film', 'amateurish', 'could', 'hardli', 'believ', 'see', 'shot', 'video', 'film', 'seen', 'like', 'sinc', 'earli', '70', 'late', 'night', 'network', 'show', 'movi', 'week', 'horror', 'flick', 'shot', 'video', 'look', 'like', 'bad', 'soap', 'opera', 'pay', 'compliment', 'actor', 'give', 'best', 'shot', 'michael', 'de', 'barr', 'okay', 'given', 'act', 'like', 'sex', 'addict', 'control', 'say', 'pleasant', 'watch', 'nastassja', 'kinski', 'therapist', 'sit', 'chair', 'practic', 'entir', 'film', 'littl', 'variat', 'camera', 'angl', 'fault', 'someon', 'els', 'poor', 'block', 'total', 'unbeliev', 'role', 'littl', 'girl', 'voic', 'work', 'consid', 'nastassja', 'kinski', 'fan', 'certainli', 'ageless', 'exot', 'outsid', 'rang', 'alexandra', 'paul', 'pathet', 'overwrought', 'everi', 'line', 'deliv', 'three', 'exclam', 'point', 'someon', 'must', 'direct', 'scream', 'cost', 'would', 'michael', 'de', 'barr', 'want', 'sex', 'rage', 'shrew', 'final', 'rosanna', 'arquett', 'sweet', 'malign', 'wife', 'come', 'okay', 'probabl', 'believ', 'bunch', 'say', 'much', 'worst', 'film', 'seen', 'year'], ['seen', 'movi', 'today', 'first', 'time', 'never', 'heard', 'probabl', 'poor', 'messag', 'first', 'direct', 'quit', 'good', 'actor', 'play', 'well', 'cgi', 'fan', 'cgi', 'magnific', 'alon', 'make', 'movi', 'stori', 'messag', 'behind', 'beauti', 'exploit', 'talent', 'make', 'peopl', 'rememb', 'art', 'director', 'vision', 'know', 'tell', 'stori', 'miss', 'whole', '7', 'minut', 'simpl', '4', 'rate'], ['hey', 'guy', 'actual', 'movi', 'even', 'know', 'site', 'look', 'year', 'ago', 'surpris', 'play', 'pete', 'main', 'charact', 'son', 'great', 'experi', 'love', 'everi', 'minut', 'film', 'need', 'two', 'place', 'use', 'twin', 'sister', 'bodi', 'doubl', 'finger', 'push', 'radio', 'button', 'car', 'mine', 'still', 'act', 'tv', 'much', 'oh', 'want', 'proof', 'name', 'first', 'one', 'top', 'scroll', 'review', 'thought', 'movi', 'okay', 'one', 'favorit', 'thought', 'act', 'realli', 'good', 'stori', 'line'], ['great', 'see', 'jorja', 'fox', 'role', 'get', 'smile', 'lot', 'also', 'love', 'hear', 'sing', 'nice', 'chang', 'see', 'csi', 'west', 'wing', 'er', 'role', 'movi', 'entertain', 'seem', 'skip', 'explan', 'lot', 'part', 'sever', 'charact', 'seem', 'miser', 'one', 'minut', 'happi', 'next', 'left', 'imagin', 'figur', 'charact', 'quirki', 'though', 'case', 'wait', 'see', 'would', 'next', 'hear', 'would', 'say', 'next', 'movi', 'full', 'squeaki', 'clean', 'peopl', 'rather', 'complic', 'realist', 'peopl', 'could', 'make', 'mistak', 'feel', 'bad', 'find', 'way', 'fix'], ['talk', 'anim', 'big', 'lavish', 'song', 'product', 'number', 'villian', 'half', 'white', 'half', 'black', 'hair', '1', 'thing', 'realist', 'peopl', 'act', 'normal', 'strang', 'circumst', 'walt', 'roy', 'era', 'studio', 'thought', 'think', 'castaway', 'island', 'top', 'world', 'ident', 'hold', 'higher', 'author', 'atlanti', 'ideal', 'whack', 'keep', 'kid', 'till', 'midnight', 'watch', 'friggin', 'cartoon'], ['excel', 'p', 'w', 'adventur', 'adapt', 'eric', 'william', 'book', 'paperback', 'copi', 'form', 'part', 'father', 'librari', 'inspir', 'true', 'event', 'may', 'well', 'first', 'film', 'kind', 'therefor', 'lot', 'answer', 'similarli', 'stiff', 'upper', 'lip', 'exampl', 'albert', 'r', 'n', '1953', 'watch', 'present', 'colditz', 'stori', '1955', 'danger', 'within', '1959', 'higher', 'profil', 'releas', 'side', 'atlant', 'name', 'stalag', '17', '1953', 'great', 'escap', '1963', 'set', 'basi', 'pretti', 'solidli', 'british', 'soldier', 'intern', 'german', 'camp', 'devis', 'ingeni', 'plan', 'escap', 'borrow', 'page', 'greek', 'legend', 'burrow', 'vault', 'hors', 'use', 'physic', 'exercis', 'full', 'view', 'captor', 'actual', 'film', 'neatli', 'split', 'two', 'halv', 'first', 'deal', 'slow', 'process', 'dig', 'tunnel', 'culmin', 'escap', 'latter', 'stage', 'depict', 'fortun', 'outsid', 'camp', 'tri', 'make', 'neutral', 'sweden', 'typic', 'british', 'film', 'cast', 'showcas', 'sever', 'establish', 'leo', 'genn', 'current', 'anthoni', 'steel', 'come', 'peter', 'finch', 'david', 'tomlinson', 'bill', 'traver', 'star', 'say', 'noth', 'innumer', 'reliabl', 'charact', 'actor', 'anthoni', 'dawson', 'bryan', 'forb', 'michael', 'goodliff', 'walter', 'gotel', 'three', 'lead', 'escape', 'genn', 'steel', 'tomlinson', 'first', 'two', 'stick', 'togeth', 'latter', 'goe', 'way', 'run', 'other', 'reach', 'safeti', 'expect', 'narr', 'involv', 'plenti', 'suspens', 'excit', 'male', 'center', 'p', 'w', 'saga', 'femal', 'interest', 'kept', 'barest', 'minimum', 'director', 'lee', 'lengthi', 'career', 'somewhat', 'similar', 'albeit', 'chang', 'set', 'viewpoint', 'town', 'like', 'alic', '1956', 'noteworthi', 'achiev', 'certainli', 'milk', 'everi', 'grip', 'situat', 'case', 'even', 'reportedli', 'delay', 'film', 'saw', 'lee', 'quit', 'post', 'prematur', 'leav', 'produc', 'ian', 'dalrympl', 'task', 'tie', 'loos', 'end', 'anyway', 'worth', 'special', 'mention', 'exquisit', 'light', 'particularli', 'night', 'time', 'sequenc', 'throughout'], ['great', 'ridicul', 'horror', 'movi', 'captur', 'essenc', 'mid', 'late', '80', 'obsess', 'evil', 'metal', 'music', 'supposedli', 'rememb', 'freak', 'metal', 'teen', 'kid', 'help', 'found', 'desecr', 'grave', 'hometown', 'graveyard', 'ten', 'turn', 'weird', 'metal', 'kid', 'dug', 'old', 'bodi', 'use', 'bone', 'weird', 'sacrific', 'satan', 'mayb', 'stuff', 'like', 'deter', 'metal', 'awhil', 'love', '24', 'year', 'old', 'bought', 'dvd', 'use', '6', 'buck', 'expect', 'suck', 'due', 'lame', 'cover', 'surpris', 'rule', 'extrem', 'demon', 'power', 'metal', 'gotta', 'love', 'scene', 'guitar', 'shoot', 'lazer', 'vapor', 'headbang', 'crowd', 'movi', 'awesom', 'love', '80', 'metal', 'bad', 'movi', 'one', '9', '10'], ['first', 'movi', 'start', 'realli', 'dumb', 'note', '10', 'year', 'old', 'girl', 'play', 'around', 'move', 'vehicl', 'decid', 'would', 'funni', 'cover', 'mom', 'eye', 'hand', 'caus', 'horrif', 'accid', 'kill', 'mom', 'duh', 'sorri', 'posit', '10', 'year', 'old', 'dumb', 'rest', 'movi', 'get', 'much', 'better', 'death', 'mother', 'appar', 'dumbest', '10', 'year', 'old', 'planet', 'dad', 'move', 'famili', 'genova', 'itali', 'teach', 'local', 'univers', 'clincher', 'speak', 'word', 'italian', 'littl', 'girl', 'vision', 'mommi', 'kill', 'often', 'subsequ', 'night', 'terror', 'alway', 'alway', 'end', 'father', 'hold', 'coddl', 'forc', 'watch', 'famili', 'continu', 'get', 'lost', 'found', 'hug', 'cri', 'lost', 'found', 'follow', 'cours', 'hug', 'cri', 'point', 'actual', 'wish', 'sort', 'natur', 'disast', 'wipe', 'vapid', 'ignor', 'peopl', 'planet', 'get', 'wrong', 'love', 'indi', 'indi', 'dumb', 'peopl', 'mean', 'realli', 'dumb', 'simpli', 'ridicul', 'pointless', 'realli', 'shame', 'movi', 'base', 'insipid', 'charact', 'wallow', 'retard', 'scenario', 'local', 'interest'], ['son', '7', 'year', 'old', 'saw', 'movi', 'russian', 'fish', 'vessel', 'said', 'movi', 'impress', 'linger', 'mind', '39', 'year', 'movi', 'legend', 'boy', 'eagl', 'ask', 'possibl', 'get', 'sure', 'lot', 'thing', 'go', 'head', '3', 'hour', 'daylight', 'ship', '3', 'month', '3', 'month', 'contract', 'expir', 'sinc', 'indian', 'blood', 'connect', 'movi', 'januari', '27th', 'turn', '47', 'year', 'old', 'would', 'like', 'abl', 'obtain', 'movi', 'live', 'thailand', 'commerci', 'fisherman', 'past', '17', 'year', 'know', 'one', 'danger', 'job', 'help', 'obtain', 'movi', 'thank', 'advanc', 'dolli', 'crout', 'soto', 'deerfield', 'beach', 'fl'], ['figur', 'greenlight', 'thing', 'redeem', 'qualiti', 'none', 'nada', 'zip', 'zilch', 'act', 'bad', 'direct', 'bad', 'write', 'bad', 'plot', 'bad', 'music', 'bad', 'edit', 'bad', 'well', 'least', 'filmmak', 'consist'], ['folk', 'sit', 'say', 'movi', 'weak', 'link', 'ramon', 'would', 'probabl', 'say', 'amadeu', 'ok', 'irrit', 'harpsichordist', 'rock', 'roll', 'high', 'school', 'center', 'around', 'ramon', 'anyon', 'watch', 'get', 'kick', 'joey', 'ramon', 'eat', 'bean', 'sprout', 'backstag', 'attempt', 'keep', 'perform', 'condit', 'obvious', 'wet', 'blanket', 'squar', 'daddi', 'ms', 'trogar', 'explod', 'white', 'mice', 'hall', 'patrol', 'instant', 'classic', 'nevermind', 'riff', 'randel', 'charact', 'like', 'ramon', 'know', 'rock', 'roll', 'deserv', 'watch', 'movi', 'call', 'rock', 'roll', 'high', 'school'], ['inconveni', 'truth', 'entir', 'simplist', 'demagog', 'turgid', 'slop', 'creat', 'rabid', 'idiot', 'republican', 'meander', 'along', 'intang', 'line', 'attempt', 'gorg', 'someth', 'face', 'name', 'dead', 'hundr', 'year', 'alreadi', 'indisput', 'care', 'human', 'selfish', 'destruct', 'creatur', 'frankli', 'wast', 'time', 'care', 'human', 'extinct', 'call', 'natur', 'progress', 'let', 'apocalyps', 'begin', 'meanwhil', 'listen', 'brazen', 'slant', 'politician', 'propos', 'anoth', 'new', 'societi', 'well', 'fool', 'still', 'control', 'wealthi', 'power', 'idiot', 'creat', 'catastroph', 'first', 'place', 'noth', 'ever', 'chang', 'al', 'gore', 'whose', 'hypocrisi', 'quit', 'evid', 'film', 'driven', 'ga', 'guzzl', 'car', 'alon', 'use', 'consumerist', 'comput', 'also', 'live', 'huge', 'acr', 'land', 'rather', 'larg', 'mansion', 'land', 'use', 'destruct', 'eros', 'purpos', 'includ', 'cattl', 'tobacco', 'pig', 'farm', 'account', 'methan', 'ga', 'trace', 'know', 'els', 'wealth', 'predic', 'exploit', 'greed', 'invest', 'includ', 'numer', 'larg', 'compani', 'world', 'disput', 'record', 'hardli', 'think', 'man', 'qualifi', 'lectur', 'less', 'fortun', 'prestig', 'base', 'opposit', 'anoth', 'ludicr', 'polit', 'parti', 'meanwhil', 'emit', 'rancid', 'characterist', 'make', 'polit', 'politician', 'appal', 'bozo', 'happen', 'live', 'comfort', 'life', 'yet', 'lectur', 'poor', 'peopl', 'africa', 'crop', 'farm', 'cut', 'burn', 'techniqu', 'travel', 'across', 'world', 'first', 'class', 'seat', 'fuel', 'wast', 'jet', 'use', 'product', 'place', 'comput', 'documentari', 'yet', 'think', 'everyth', 'moral', 'issu', 'entir', 'absorb', 'delud', 'nightmar', 'say', 'came', 'conclus', 'death', 'sister', 'tobacco', 'induc', 'cancer', 'near', 'death', 'son', 'automobil', 'thing', 'fight', 'tobacco', 'compani', 'propos', 'automobil', 'ban', 'danger', 'hulk', 'machin', 'everyth', 'must', 'serv', 'economi', 'differ', 'answer', 'forlorn', 'exhaust', 'attempt', 'humanist', 'philosophi', 'disastr', 'film', 'forest', 'along', 'littl', 'river', 'eschew', 'stale', 'life', 'affirm', 'quot', 'well', 'mr', 'gore', 'tri', 'live', 'like', 'common', 'peopl', 'politician', 'plain', 'simpl', 'career', 'invest', 'power', 'structur', 'question', 'concentr', 'power', 'industri', 'nation', 'earth', 'blame', 'complic', 'would', 'unwis', 'invest', 'stock', 'corpor', 'al', 'gore', 'give', 'monoton', 'lectur', 'subject', 'documentari', 'name', 'wealthi', 'white', 'peopl', 'audienc', 'clap', 'cue', 'show', 'graph', 'chart', 'number', 'percentag', 'speak', 'dreari', 'tone', 'one', 'without', 'harvard', 'elit', 'control', 'educ', 'make', 'sens', 'tell', 'us', 'everyth', 'go', 'hell', 'kid', 'think', 'fail', 'account', 'problem', 'precis', 'approach', 'capit', 'taken', 'planet', 'name', 'expend', 'wast', 'dump', 'never', 'mention', 'industri', 'creat', 'problem', 'want', 'put', 'mild', 'bandag', 'erad', 'whole', 'oppress', 'system', 'obviou', 'spoil', 'sent', 'school', 'elit', 'basic', 'tempera', 'polit', 'back', 'stab', 'inconsist', 'dullard', 'washington', 'whoever', 'made', 'propaganda', 'way', 'differ', 'republican', 'conceiv', 'goal', 'mind', 'direct', 'capitalist', 'impuls', 'say', 'someon', 'go', 'benefit', 'seem', 'new', 'green', 'politician', 'support', 'ventur', 'capitalist', 'compani', 'buy', 'hord', 'land', 'attempt', 'develop', 'new', 'utopian', 'futur', 'new', 'technolog', 'old', 'stori', 'al', 'gore', 'believ', 'elitist', 'structur', 'actual', 'believ', 'democraci', 'us', 'find', 'naiv', 'pay', 'wage', 'oil', 'compani', 'pay', 'wind', 'solar', 'compani', 'find', 'speech', 'end', 'quit', 'rancid', 'along', 'line', 'someth', 'gw', 'bush', 'would', 'ooz', 'dumb', 'down', 'mass', 'gore', 'speak', 'peopl', 'unit', 'togeth', 'defeat', 'commun', '1990', 'global', 'warm', 'absolut', 'noth', 'attempt', 'get', 'base', 'emot', 'rumin', 'peopl', 'said', 'understand', 'commun', 'never', 'exist', 'world', 'system', 'europ', 'ussr', 'mere', 'tyrann', 'form', 'authoritarian', 'capit', 'less', 'differ', 'control', 'us', 'interest', 'social', 'ecolog', 'even', 'mention', 'realli', 'travesti', 'want', 'chang', 'world', 'one', 'must', 'dispos', 'antiqu', 'system', 'base', 'greed', 'exploit', 'violenc'], ['apart', 'helen', 'bonham', 'carter', 'noth', 'worthi', 'movi', 'surpris', 'end', 'thought', 'sequel', 'even', 'annoy', 'save', 'money', 'wait', 'video', 'ignor'], ['deal', 'cloth', 'dress', 'like', 'someth', 'late', '70', 'earli', '80', 'car', 'even', 'outdat', 'school', 'outdat', 'nun', 'attir', 'outdat', 'hospit', 'look', 'like', 'someth', '40', 'ward', 'wooden', 'staircas', 'thing', 'noth', 'whole', 'movi', 'impli', 'took', 'place', '1991', 'mother', 'laugh', 'say', 'geeeee', 'od', 'movi', 'made', 'press', 'info', 'button', 'remot', 'sure', '1991', 'typo', 'anybodi', 'els', 'notic', 'favorit', 'part', 'though', 'woman', 'tell', 'uppiti', 'muck', 'husband', 'telephon', 'invert', 'cross', 'mirror', 'say', 'well', 'look', 'got', 'congress', 'meet', 'talk', 'later', 'line', 'classic', 'like', 'man', 'mother', 'favorit', 'part', 'gave', 'spawn', 'devil', 'child', 'rottweil', 'mother', 'said', 'spawn', 'devil', 'need', 'rottweil', 'also', 'enjoy', 'peopl', 'collaps', 'church', 'clutch', 'chest', 'favorit', 'part', 'guy', 'school', 'park', 'lot', 'drive', '5', 'mile', 'hour', 'drive', 'right', 'garbag', 'truck', 'dump', 'truck', 'front', 'end', 'loader', 'thinge', '20', 'second', 'stop', 'car', 'kept', 'go', 'real', 'dumb', 'vacant', 'look', 'face', 'mean', 'fast', 'go', 'school', 'park', 'lot', 'whatev'], ['kind', 'fascin', 'mani', 'review', 'consid', 'masterpiec', 'dullard', 'far', 'qualiti', 'film', 'go', 'agre', 'technic', 'film', 'standpoint', 'well', 'sever', 'charact', 'portray', 'film', 'award', 'worthi', 'class', 'sens', 'film', 'actual', 'go', 'anywher', 'mean', 'take', 'viewer', 'anywher', 'seri', 'mood', 'scene', 'perhap', 'remark', 'want', 'film', 'look', 'stori', 'movement', 'fulfil', 'arriv', 'none', 'find', 'film', 'ye', 'might', 'consid', 'poetri', 'film', 'much', 'poetri', 'cannot', 'live', 'reason', 'paint', 'pictur', 'without', 'go', 'anywher', 'one', 'thing', 'said', 'document', 'mid', 'centuri', 'english', 'childhood', 'necessarili', 'limit', 'univers', 'person', 'appal', 'young', 'british', 'boy', 'live', 'time', 'place', 'grown', 'america', 'decad', 'earlier', 'authorit', 'say', 'contrast', 'immens', 'cannot', 'help', 'wonder', 'contrast', 'effect', 'review', 'film', 'favor', 'word', 'could', 'tendenc', 'judg', 'film', 'entir', 'filmic', 'magic', 'acknowledg', 'complet', 'ignor', 'lack', 'relev', 'natur', 'one', 'actual', 'recal', 'experi'], ['contrari', 'comment', 'syriana', 'imdb', 'web', 'site', 'famili', 'found', 'watch', 'film', 'dvd', 'home', 'complet', 'wast', 'time', 'space', 'short', 'film', 'base', 'script', 'whose', 'writer', 'clever', 'far', 'rather', 'tri', 'tell', 'complex', 'stori', 'intellig', 'clear', 'manner', 'assum', 'constantli', 'throw', 'mostli', 'vagu', 'hard', 'connect', '30', 'second', 'vignett', 'differ', 'stori', 'line', 'dozen', 'stori', 'line', 'audienc', 'made', 'great', 'clear', 'view', 'sir', 'make', 'great', 'view', 'total', 'clariti', 'precis', 'plot', 'stori', 'line', 'characteris', 'begin', 'middl', 'end', 'kind', 'cinemat', 'present', 'akin', 'dim', 'sum', 'experi', 'chines', 'restaur', 'pretenti', 'unintellig', 'extrem', 'thank', 'good', 'tv', 'dvd', 'present', 'hollywood', 'british', 'film', 'noir', '1940', '1950', 'whose', 'writer', 'director', 'actor', 'knew', 'valu', 'clear', 'stori', 'tell', 'diction', 'act', 'meant', 'someth', 'one', 'dvd', 'famili', 'sit'], ['ensembl', 'piec', 'adult', 'return', 'formul', 'summer', 'camp', 'youth', 'quiet', 'entrant', 'exit', 'cinema', 'autumn', '1993', 'say', 'shame', 'better', 'movi', 'quiet', 'releas', 'get', 'much', 'hype', 'prais', 'dian', 'lane', 'kevin', 'pollack', 'elizabeth', 'perkin', 'vincent', 'spano', 'juli', 'warner', 'bill', 'paxton', 'kimberli', 'william', 'matt', 'craven', 'alan', 'arkin', 'pain', 'good', 'group', 'actor', 'flesh', 'role', 'peopl', 'grown', 'old', 'good', 'bad', 'funni', 'memori', 'summer', 'gone', 'past', 'film', 'cover', 'gambit', 'emot', 'mostli', 'pleasant', 'film', 'never', 'hammer', 'away', 'viewer', 'feel', 'charact', 'feel', 'prefer', 'allow', 'viewer', 'enter', 'memori', 'sinc', 'movi', 'viewer', 'bristl', 'bluntli', 'brazen', 'manipul', 'film', 'someth', 'appreci', 'writer', 'director', 'mike', 'binder', 'film', 'great', 'cheap', 'rent', 'good', 'main', 'rent', 'even', 'pretti', 'sit', 'theater', 'flick', 'might', 'run', 'across', 'tv', 'would', 'definit', 'suggest', 'look', 'see'], ['wait', 'movi', 'long', 'time', 'especi', 'juhi', 'chawla', 'great', 'actress', 'movi', 'contain', 'six', 'stori', 'new', 'concept', 'flew', 'hollywood', 'new', 'item', '1', 'khamini', 'priyanka', 'chopra', 'dancer', 'want', 'get', 'famou', 'make', 'boyfriend', 'let', 'news', 'report', 'interest', 'rahul', 'salman', 'khan', 'appear', 'claim', 'boyfriend', 'priyanka', 'chopra', 'still', 'good', 'actress', 'yell', 'get', 'annoy', 'salman', 'khan', 'cannot', 'play', 'comic', 'role', 'seriou', 'part', 'marvel', '2', 'vinay', 'anil', 'kapoor', 'marri', 'seema', 'juhi', 'chawla', 'get', 'midlif', 'crisi', 'get', 'attract', 'much', 'younger', 'woman', 'forget', 'realli', 'life', 'wife', 'kid', 'anil', 'kapoor', 'en', 'juhi', 'natur', 'born', 'actor', 'actress', 'great', 'stori', 'thin', '3', 'shiven', 'akshay', 'khanna', 'go', 'get', 'marri', 'gia', 'ayesha', 'takia', 'get', 'cold', 'feet', 'blow', 'wed', '4', 'ashutosh', 'joh', 'abraham', 'marri', 'tehzeeb', 'vidya', 'balan', 'get', 'accid', 'suffer', 'memori', 'loss', 'know', 'love', 'husband', 'anymor', '5', 'raju', 'govinda', 'cab', 'driver', 'meet', 'stephani', 'shannon', 'esrechowitz', 'white', 'woman', 'love', 'indian', 'male', 'get', 'marri', 'indian', 'woman', 'raju', 'bring', 'staphani', 'man', 'fall', 'love', 'never', 'like', 'govinda', 'movi', 'annoy', 'funni', 'movi', 'like', 'much', 'like', 'grow', 'last', 'year', '6', 'oh', 'ye', 'sohail', 'khan', 'play', 'ram', 'dayal', 'marri', 'phoolwati', 'isha', 'koppikar', 'want', 'get', 'seriou', 'action', 'everi', 'time', 'famili', 'come', 'sohail', 'khan', 'handsom', 'actor', 'funni', 'like', 'movi', 'problem', 'stori', 'interest', 'make', 'one', 'stori', 'six', 'interest', 'stori', 'make', 'whole', 'movi', 'interest', 'stori', 'touch', 'signific', 'charact', 'conclus', 'priyanka', 'cannot', 'act', 'loos', 'woman', 'bollywood', 'industri', 'sohail', 'khan', 'make', 'movi', 'role', 'small', 'salman', 'khan', 'cannot', 'act', 'comic', 'role', 'real', 'seriou', 'movi', 'written', 'life', 'actor', 'movi', 'suck', 'wast', 'cast', 'good', 'actor', 'actress', 'like', 'anil', 'kapoor', 'juhi', 'chawla', 'akshaya', 'khanna', 'john', 'abraham', 'like', 'abil', 'make', 'movi', 'amitabh', 'bachchan', 'let', 'sing', 'lullabi'], ['love', 'movi', 'jouvet', 'arletti', 'blier', 'carn', 'almost', 'everyth', 'alreadi', 'said', 'movi', 'one', 'detail', 'like', 'shed', 'light', 'onto', 'footag', 'real', 'still', 'stand', 'h', 'tel', 'du', 'nord', 'still', 'heard', 'demolish', 'use', 'movi', 'whole', 'scene', 'rebuilt', 'set', 'main', 'reason', 'could', 'stop', 'traffic', 'st', 'martin', 'canal', 'sever', 'week'], ['expect', 'funni', 'movi', 'instead', 'got', 'movi', 'funni', 'joke', 'mani', 'work', 'like', 'idea', 'bring', 'sherlock', 'holm', 'moriarti', 'descend', 'confus', 'would', 'funni', 'someon', 'new', 'instead', 'moriarti', 'resurrect', 'thing', 'funni', 'burt', 'kwouk', 'funni', 'alway', 'mccloud', 'hors', 'funni', 'mcgarrett', 'hawaii', '5', '0', 'even', 'mcgarrett', 'like', 'conni', 'booth', 'obvious', 'good', 'accent', 'indiana', 'play', 'english', 'new', 'yorker', 'pretti', 'well', 'unfortun', 'present', 'much', 'script', 'expect', 'funni', 'film', 'instead', 'got', 'rather', 'confus', 'movi', 'poor', 'script', 'rather', 'iron', 'sinc', 'booth', 'clees', 'togeth', 'one', 'mayb', 'break', '77'], ['movi', 'bad', 'basic', 'overdon', 'copi', 'michael', 'jackson', 'thriller', 'video', 'wors', 'special', 'effect', 'consist', 'lot', 'glow', 'dark', 'paint', 'freaki', 'slapstick', 'fastmov', 'camera', 'shot', 'lot', 'growl', 'think', 'dog', 'best', 'actor', 'whole', 'movi'], ['that', 'go', 'world', 'sometim', 'need', 'escap', 'curli', 'sue', 'complic', 'plot', 'deep', 'mean', 'howev', 'devoid', 'substanc', 'furiou', 'action', 'heart', 'pound', 'drama', 'charm', 'littl', 'show', 'watch', 'kid', 'enough', 'substanc', 'enjoy', 'date', 'tri', 'may', 'like', 'think', 'littl', 'girl', 'realli', 'smart', 'cute', 'dad', 'girl', 'go', 'thru', 'slapstick', 'routin', 'jealou', 'boyfriend', 'step', 'troubl', 'brew', 'curli', 'life', 'she', 'known', 'may', 'torn', 'asund', 'fred', 'thompson', 'kelli', 'lynch', 'play', 'good', 'role', 'upper', 'crust', 'alison', 'porter', 'jame', 'belushi', 'interest', 'fabl', 'like', 'duo', 'portray', 'street', 'wise', 'homeless', 'drifter', 'world', 'collid', 'comedi', 'ensu'], ['first', 'time', 'saw', 'movi', 'fell', 'love', 'atmospher', 'caught', 'attent', 'first', 'foremost', 'expect', 'gore', 'fest', 'instead', 'got', 'watch', 'highli', 'intellig', 'killer', 'mess', 'head', 'chill', 'soundtrack', 'actual', 'ringer', 'moment', 'p', 'fact', 'predict', 'kill', 'disappear', 'major', 'plu', 'book', 'predict', 'horror', 'movi', 'bore', 'know', 'storylin', 'discrep', 'like', 'even', 'notic', 'long', 'movi', 'lay', 'bed', 'maul', 'fact', 'wit', 'masterpiec', 'motion', 'final', 'mention', 'soundtrack', 'timeless', 'one', 'time', 'favorit', 'theatric', 'score', 'happi', 'hear', 'rob', 'zombi', 'leav', 'untouch', 'remak', 'speak', 'remak', 'read', 'comprehens', 'articl', 'know', 'mr', 'zombi', 'rever', 'john', 'carpent', 'high', 'hope', 'take', 'classic', 'movi', 'great', 'time', 'crave', 'spine', 'tingl', 'perfect', 'addit', 'open', 'final', 'name', 'hallow', 'eve', 'movi', 'marathon']]\n"
     ]
    }
   ],
   "source": [
    "print(train_X[:100])"
   ]
  },
  {
   "cell_type": "code",
   "execution_count": 13,
   "metadata": {},
   "outputs": [],
   "source": [
    "import numpy as np\n",
    "\n",
    "def build_dict(data, vocab_size = 5000):\n",
    "    \"\"\"Construct and return a dictionary mapping each of the most frequently appearing words to a unique integer.\"\"\"\n",
    "    \n",
    "    # TODO: Determine how often each word appears in `data`. Note that `data` is a list of sentences and that a\n",
    "    #       sentence is a list of words.\n",
    "    from collections import Counter\n",
    "    #lines = data.split('\\n')\n",
    "    words = []\n",
    "    #for i in range(len(data[0:])-1):\n",
    "    #    for j in range(i-1):\n",
    "    #        words = data[i][1]\n",
    "    #sentences = [line.split()[0] for line in data]\n",
    "    #words = [len(line.split()) for word in sentences]\n",
    "    \n",
    "    words = np.hstack(data)\n",
    "    \n",
    "    word_count = {} # A dict storing the words that appear in the reviews along with how often they occur\n",
    "    word_count = Counter(words)\n",
    "    # TODO: Sort the words found in `data` so that sorted_words[0] is the most frequently appearing word and\n",
    "    #       sorted_words[-1] is the least frequently appearing word.\n",
    "    \n",
    "    sorted_words = sorted(word_count, key=word_count.get, reverse=True)\n",
    "    \n",
    "    word_dict = {} # This is what we are building, a dictionary that translates words into integers\n",
    "    for idx, word in enumerate(sorted_words[:vocab_size - 2]): # The -2 is so that we save room for the 'no word'\n",
    "        word_dict[word] = idx + 2                              # 'infrequent' labels\n",
    "        \n",
    "    return word_dict"
   ]
  },
  {
   "cell_type": "code",
   "execution_count": 14,
   "metadata": {},
   "outputs": [
    {
     "name": "stdout",
     "output_type": "stream",
     "text": [
      "<class 'dict'>\n"
     ]
    }
   ],
   "source": [
    "word_dict = build_dict(train_X)\n",
    "print(type(word_dict))"
   ]
  },
  {
   "cell_type": "markdown",
   "metadata": {},
   "source": [
    "**Question:** What are the five most frequently appearing (tokenized) words in the training set? Does it makes sense that these words appear frequently in the training set?"
   ]
  },
  {
   "cell_type": "markdown",
   "metadata": {},
   "source": [
    "**Answer:** The five most frequently appearing in the training dataset are: movie, film, one, like and time.\n",
    "Yes, because most of them can be found in a review."
   ]
  },
  {
   "cell_type": "code",
   "execution_count": 15,
   "metadata": {},
   "outputs": [
    {
     "name": "stdout",
     "output_type": "stream",
     "text": [
      "{'movi': 2, 'film': 3, 'one': 4, 'like': 5, 'time': 6}\n"
     ]
    }
   ],
   "source": [
    "# TODO: Use this space to determine the five most frequently appearing words in the training set.\n",
    "words_5 = {k: word_dict[k] for k in list(word_dict)[:5]}\n",
    "print(words_5)"
   ]
  },
  {
   "cell_type": "markdown",
   "metadata": {},
   "source": [
    "### Save `word_dict`\n",
    "\n",
    "Later on when we construct an endpoint which processes a submitted review we will need to make use of the `word_dict` which we have created. As such, we will save it to a file now for future use."
   ]
  },
  {
   "cell_type": "code",
   "execution_count": 16,
   "metadata": {},
   "outputs": [],
   "source": [
    "data_dir = '../data/pytorch' # The folder we will use for storing data\n",
    "if not os.path.exists(data_dir): # Make sure that the folder exists\n",
    "    os.makedirs(data_dir)"
   ]
  },
  {
   "cell_type": "code",
   "execution_count": 17,
   "metadata": {},
   "outputs": [],
   "source": [
    "with open(os.path.join(data_dir, 'word_dict.pkl'), \"wb\") as f:\n",
    "    pickle.dump(word_dict, f)"
   ]
  },
  {
   "cell_type": "markdown",
   "metadata": {},
   "source": [
    "### Transform the reviews\n",
    "\n",
    "Now that we have our word dictionary which allows us to transform the words appearing in the reviews into integers, it is time to make use of it and convert our reviews to their integer sequence representation, making sure to pad or truncate to a fixed length, which in our case is `500`."
   ]
  },
  {
   "cell_type": "code",
   "execution_count": 18,
   "metadata": {},
   "outputs": [],
   "source": [
    "def convert_and_pad(word_dict, sentence, pad=500):\n",
    "    NOWORD = 0 # We will use 0 to represent the 'no word' category\n",
    "    INFREQ = 1 # and we use 1 to represent the infrequent words, i.e., words not appearing in word_dict\n",
    "    \n",
    "    working_sentence = [NOWORD] * pad\n",
    "    \n",
    "    for word_index, word in enumerate(sentence[:pad]):\n",
    "        if word in word_dict:\n",
    "            working_sentence[word_index] = word_dict[word]\n",
    "        else:\n",
    "            working_sentence[word_index] = INFREQ\n",
    "            \n",
    "    return working_sentence, min(len(sentence), pad)\n",
    "\n",
    "def convert_and_pad_data(word_dict, data, pad=500):\n",
    "    result = []\n",
    "    lengths = []\n",
    "    \n",
    "    for sentence in data:\n",
    "        converted, leng = convert_and_pad(word_dict, sentence, pad)\n",
    "        result.append(converted)\n",
    "        lengths.append(leng)\n",
    "        \n",
    "    return np.array(result), np.array(lengths)"
   ]
  },
  {
   "cell_type": "code",
   "execution_count": 19,
   "metadata": {},
   "outputs": [],
   "source": [
    "train_X, train_X_len = convert_and_pad_data(word_dict, train_X)\n",
    "test_X, test_X_len = convert_and_pad_data(word_dict, test_X)"
   ]
  },
  {
   "cell_type": "markdown",
   "metadata": {},
   "source": [
    "As a quick check to make sure that things are working as intended, check to see what one of the reviews in the training set looks like after having been processeed. Does this look reasonable? What is the length of a review in the training set?"
   ]
  },
  {
   "cell_type": "code",
   "execution_count": 20,
   "metadata": {},
   "outputs": [
    {
     "data": {
      "text/plain": [
       "array([ 295, 2055,    2, 2089,  507,   38,   29,    2,   84,  626,   17,\n",
       "         97,  164, 1738,  295,   67,    8,    7,    4,   12,  323,    4,\n",
       "        452,   83,    0,    0,    0,    0,    0,    0,    0,    0,    0,\n",
       "          0,    0,    0,    0,    0,    0,    0,    0,    0,    0,    0,\n",
       "          0,    0,    0,    0,    0,    0,    0,    0,    0,    0,    0,\n",
       "          0,    0,    0,    0,    0,    0,    0,    0,    0,    0,    0,\n",
       "          0,    0,    0,    0,    0,    0,    0,    0,    0,    0,    0,\n",
       "          0,    0,    0,    0,    0,    0,    0,    0,    0,    0,    0,\n",
       "          0,    0,    0,    0,    0,    0,    0,    0,    0,    0,    0,\n",
       "          0,    0,    0,    0,    0,    0,    0,    0,    0,    0,    0,\n",
       "          0,    0,    0,    0,    0,    0,    0,    0,    0,    0,    0,\n",
       "          0,    0,    0,    0,    0,    0,    0,    0,    0,    0,    0,\n",
       "          0,    0,    0,    0,    0,    0,    0,    0,    0,    0,    0,\n",
       "          0,    0,    0,    0,    0,    0,    0,    0,    0,    0,    0,\n",
       "          0,    0,    0,    0,    0,    0,    0,    0,    0,    0,    0,\n",
       "          0,    0,    0,    0,    0,    0,    0,    0,    0,    0,    0,\n",
       "          0,    0,    0,    0,    0,    0,    0,    0,    0,    0,    0,\n",
       "          0,    0,    0,    0,    0,    0,    0,    0,    0,    0,    0,\n",
       "          0,    0,    0,    0,    0,    0,    0,    0,    0,    0,    0,\n",
       "          0,    0,    0,    0,    0,    0,    0,    0,    0,    0,    0,\n",
       "          0,    0,    0,    0,    0,    0,    0,    0,    0,    0,    0,\n",
       "          0,    0,    0,    0,    0,    0,    0,    0,    0,    0,    0,\n",
       "          0,    0,    0,    0,    0,    0,    0,    0,    0,    0,    0,\n",
       "          0,    0,    0,    0,    0,    0,    0,    0,    0,    0,    0,\n",
       "          0,    0,    0,    0,    0,    0,    0,    0,    0,    0,    0,\n",
       "          0,    0,    0,    0,    0,    0,    0,    0,    0,    0,    0,\n",
       "          0,    0,    0,    0,    0,    0,    0,    0,    0,    0,    0,\n",
       "          0,    0,    0,    0,    0,    0,    0,    0,    0,    0,    0,\n",
       "          0,    0,    0,    0,    0,    0,    0,    0,    0,    0,    0,\n",
       "          0,    0,    0,    0,    0,    0,    0,    0,    0,    0,    0,\n",
       "          0,    0,    0,    0,    0,    0,    0,    0,    0,    0,    0,\n",
       "          0,    0,    0,    0,    0,    0,    0,    0,    0,    0,    0,\n",
       "          0,    0,    0,    0,    0,    0,    0,    0,    0,    0,    0,\n",
       "          0,    0,    0,    0,    0,    0,    0,    0,    0,    0,    0,\n",
       "          0,    0,    0,    0,    0,    0,    0,    0,    0,    0,    0,\n",
       "          0,    0,    0,    0,    0,    0,    0,    0,    0,    0,    0,\n",
       "          0,    0,    0,    0,    0,    0,    0,    0,    0,    0,    0,\n",
       "          0,    0,    0,    0,    0,    0,    0,    0,    0,    0,    0,\n",
       "          0,    0,    0,    0,    0,    0,    0,    0,    0,    0,    0,\n",
       "          0,    0,    0,    0,    0,    0,    0,    0,    0,    0,    0,\n",
       "          0,    0,    0,    0,    0,    0,    0,    0,    0,    0,    0,\n",
       "          0,    0,    0,    0,    0,    0,    0,    0,    0,    0,    0,\n",
       "          0,    0,    0,    0,    0,    0,    0,    0,    0,    0,    0,\n",
       "          0,    0,    0,    0,    0,    0,    0,    0,    0,    0,    0,\n",
       "          0,    0,    0,    0,    0,    0,    0,    0,    0,    0,    0,\n",
       "          0,    0,    0,    0,    0])"
      ]
     },
     "execution_count": 20,
     "metadata": {},
     "output_type": "execute_result"
    }
   ],
   "source": [
    "# Use this cell to examine one of the processed reviews to make sure everything is working as intended.\n",
    "train_X[100]"
   ]
  },
  {
   "cell_type": "markdown",
   "metadata": {},
   "source": [
    "**Question:** In the cells above we use the `preprocess_data` and `convert_and_pad_data` methods to process both the training and testing set. Why or why not might this be a problem?"
   ]
  },
  {
   "cell_type": "markdown",
   "metadata": {},
   "source": [
    "**Answer:** There is nothing wrong with this method because the data is clearly separated between train and test data. Both sets of data are clearly labeled too."
   ]
  },
  {
   "cell_type": "markdown",
   "metadata": {},
   "source": [
    "## Step 3: Upload the data to S3\n",
    "\n",
    "As in the XGBoost notebook, we will need to upload the training dataset to S3 in order for our training code to access it. For now we will save it locally and we will upload to S3 later on.\n",
    "\n",
    "### Save the processed training dataset locally\n",
    "\n",
    "It is important to note the format of the data that we are saving as we will need to know it when we write the training code. In our case, each row of the dataset has the form `label`, `length`, `review[500]` where `review[500]` is a sequence of `500` integers representing the words in the review."
   ]
  },
  {
   "cell_type": "code",
   "execution_count": 21,
   "metadata": {},
   "outputs": [],
   "source": [
    "import pandas as pd\n",
    "    \n",
    "pd.concat([pd.DataFrame(train_y), pd.DataFrame(train_X_len), pd.DataFrame(train_X)], axis=1) \\\n",
    "        .to_csv(os.path.join(data_dir, 'train.csv'), header=False, index=False)"
   ]
  },
  {
   "cell_type": "markdown",
   "metadata": {},
   "source": [
    "### Uploading the training data\n",
    "\n",
    "\n",
    "Next, we need to upload the training data to the SageMaker default S3 bucket so that we can provide access to it while training our model."
   ]
  },
  {
   "cell_type": "code",
   "execution_count": 22,
   "metadata": {},
   "outputs": [],
   "source": [
    "import sagemaker\n",
    "\n",
    "sagemaker_session = sagemaker.Session()\n",
    "\n",
    "bucket = sagemaker_session.default_bucket()\n",
    "prefix = 'sagemaker/sentiment_rnn'\n",
    "\n",
    "role = sagemaker.get_execution_role()"
   ]
  },
  {
   "cell_type": "code",
   "execution_count": 23,
   "metadata": {},
   "outputs": [],
   "source": [
    "input_data = sagemaker_session.upload_data(path=data_dir, bucket=bucket, key_prefix=prefix)"
   ]
  },
  {
   "cell_type": "markdown",
   "metadata": {},
   "source": [
    "**NOTE:** The cell above uploads the entire contents of our data directory. This includes the `word_dict.pkl` file. This is fortunate as we will need this later on when we create an endpoint that accepts an arbitrary review. For now, we will just take note of the fact that it resides in the data directory (and so also in the S3 training bucket) and that we will need to make sure it gets saved in the model directory."
   ]
  },
  {
   "cell_type": "markdown",
   "metadata": {},
   "source": [
    "## Step 4: Build and Train the PyTorch Model\n",
    "\n",
    "In the XGBoost notebook we discussed what a model is in the SageMaker framework. In particular, a model comprises three objects\n",
    "\n",
    " - Model Artifacts,\n",
    " - Training Code, and\n",
    " - Inference Code,\n",
    " \n",
    "each of which interact with one another. In the XGBoost example we used training and inference code that was provided by Amazon. Here we will still be using containers provided by Amazon with the added benefit of being able to include our own custom code.\n",
    "\n",
    "We will start by implementing our own neural network in PyTorch along with a training script. For the purposes of this project we have provided the necessary model object in the `model.py` file, inside of the `train` folder. You can see the provided implementation by running the cell below."
   ]
  },
  {
   "cell_type": "code",
   "execution_count": 24,
   "metadata": {},
   "outputs": [
    {
     "name": "stdout",
     "output_type": "stream",
     "text": [
      "\u001b[34mimport\u001b[39;49;00m \u001b[04m\u001b[36mtorch.nn\u001b[39;49;00m \u001b[34mas\u001b[39;49;00m \u001b[04m\u001b[36mnn\u001b[39;49;00m\r\n",
      "\r\n",
      "\u001b[34mclass\u001b[39;49;00m \u001b[04m\u001b[32mLSTMClassifier\u001b[39;49;00m(nn.Module):\r\n",
      "    \u001b[33m\"\"\"\u001b[39;49;00m\r\n",
      "\u001b[33m    This is the simple RNN model we will be using to perform Sentiment Analysis.\u001b[39;49;00m\r\n",
      "\u001b[33m    \"\"\"\u001b[39;49;00m\r\n",
      "\r\n",
      "    \u001b[34mdef\u001b[39;49;00m \u001b[32m__init__\u001b[39;49;00m(\u001b[36mself\u001b[39;49;00m, embedding_dim, hidden_dim, vocab_size):\r\n",
      "        \u001b[33m\"\"\"\u001b[39;49;00m\r\n",
      "\u001b[33m        Initialize the model by settingg up the various layers.\u001b[39;49;00m\r\n",
      "\u001b[33m        \"\"\"\u001b[39;49;00m\r\n",
      "        \u001b[36msuper\u001b[39;49;00m(LSTMClassifier, \u001b[36mself\u001b[39;49;00m).\u001b[32m__init__\u001b[39;49;00m()\r\n",
      "\r\n",
      "        \u001b[36mself\u001b[39;49;00m.embedding = nn.Embedding(vocab_size, embedding_dim, padding_idx=\u001b[34m0\u001b[39;49;00m)\r\n",
      "        \u001b[36mself\u001b[39;49;00m.lstm = nn.LSTM(embedding_dim, hidden_dim)\r\n",
      "        \u001b[36mself\u001b[39;49;00m.dense = nn.Linear(in_features=hidden_dim, out_features=\u001b[34m1\u001b[39;49;00m)\r\n",
      "        \u001b[36mself\u001b[39;49;00m.sig = nn.Sigmoid()\r\n",
      "        \r\n",
      "        \u001b[36mself\u001b[39;49;00m.word_dict = \u001b[36mNone\u001b[39;49;00m\r\n",
      "\r\n",
      "    \u001b[34mdef\u001b[39;49;00m \u001b[32mforward\u001b[39;49;00m(\u001b[36mself\u001b[39;49;00m, x):\r\n",
      "        \u001b[33m\"\"\"\u001b[39;49;00m\r\n",
      "\u001b[33m        Perform a forward pass of our model on some input.\u001b[39;49;00m\r\n",
      "\u001b[33m        \"\"\"\u001b[39;49;00m\r\n",
      "        x = x.t()\r\n",
      "        lengths = x[\u001b[34m0\u001b[39;49;00m,:]\r\n",
      "        reviews = x[\u001b[34m1\u001b[39;49;00m:,:]\r\n",
      "        embeds = \u001b[36mself\u001b[39;49;00m.embedding(reviews)\r\n",
      "        lstm_out, _ = \u001b[36mself\u001b[39;49;00m.lstm(embeds)\r\n",
      "        out = \u001b[36mself\u001b[39;49;00m.dense(lstm_out)\r\n",
      "        out = out[lengths - \u001b[34m1\u001b[39;49;00m, \u001b[36mrange\u001b[39;49;00m(\u001b[36mlen\u001b[39;49;00m(lengths))]\r\n",
      "        \u001b[34mreturn\u001b[39;49;00m \u001b[36mself\u001b[39;49;00m.sig(out.squeeze())\r\n"
     ]
    }
   ],
   "source": [
    "!pygmentize train/model.py"
   ]
  },
  {
   "cell_type": "markdown",
   "metadata": {},
   "source": [
    "The important takeaway from the implementation provided is that there are three parameters that we may wish to tweak to improve the performance of our model. These are the embedding dimension, the hidden dimension and the size of the vocabulary. We will likely want to make these parameters configurable in the training script so that if we wish to modify them we do not need to modify the script itself. We will see how to do this later on. To start we will write some of the training code in the notebook so that we can more easily diagnose any issues that arise.\n",
    "\n",
    "First we will load a small portion of the training data set to use as a sample. It would be very time consuming to try and train the model completely in the notebook as we do not have access to a gpu and the compute instance that we are using is not particularly powerful. However, we can work on a small bit of the data to get a feel for how our training script is behaving."
   ]
  },
  {
   "cell_type": "code",
   "execution_count": 25,
   "metadata": {},
   "outputs": [],
   "source": [
    "import torch\n",
    "import torch.utils.data\n",
    "\n",
    "# Read in only the first 250 rows\n",
    "train_sample = pd.read_csv(os.path.join(data_dir, 'train.csv'), header=None, names=None, nrows=250)\n",
    "\n",
    "# Turn the input pandas dataframe into tensors\n",
    "train_sample_y = torch.from_numpy(train_sample[[0]].values).float().squeeze()\n",
    "train_sample_X = torch.from_numpy(train_sample.drop([0], axis=1).values).long()\n",
    "\n",
    "# Build the dataset\n",
    "train_sample_ds = torch.utils.data.TensorDataset(train_sample_X, train_sample_y)\n",
    "# Build the dataloader\n",
    "train_sample_dl = torch.utils.data.DataLoader(train_sample_ds, batch_size=50)"
   ]
  },
  {
   "cell_type": "markdown",
   "metadata": {},
   "source": [
    "### (TODO) Writing the training method\n",
    "\n",
    "Next we need to write the training code itself. This should be very similar to training methods that you have written before to train PyTorch models. We will leave any difficult aspects such as model saving / loading and parameter loading until a little later."
   ]
  },
  {
   "cell_type": "code",
   "execution_count": 26,
   "metadata": {},
   "outputs": [],
   "source": [
    "def train(model, train_loader, epochs, optimizer, loss_fn, device):\n",
    "    counter = 0\n",
    "    \n",
    "    for epoch in range(1, epochs + 1):\n",
    "        model.train()\n",
    "        total_loss = 0\n",
    "        #h = model.init(batch_size)\n",
    "        for batch in train_loader:         \n",
    "            batch_X, batch_y = batch\n",
    "            \n",
    "            batch_X = batch_X.to(device)\n",
    "            batch_y = batch_y.to(device)\n",
    "            \n",
    "            # TODO: Complete this train method to train the model provided.\n",
    "            \n",
    "            # zero accumulated gradients\n",
    "            model.zero_grad()\n",
    "\n",
    "            # get the output from the model\n",
    "            output = model(batch_X)\n",
    "\n",
    "            # calculate the loss and perform backprop\n",
    "            loss = loss_fn(output, batch_y)\n",
    "            loss.backward()\n",
    "            \n",
    "            # `clip_grad_norm` helps prevent the exploding gradient problem in RNNs / LSTMs.\n",
    "            optimizer.step()\n",
    "            \n",
    "            \n",
    "            total_loss += loss.data.item()\n",
    "        print(\"Epoch: {}, BCELoss: {}\".format(epoch, total_loss / len(train_loader)))"
   ]
  },
  {
   "cell_type": "markdown",
   "metadata": {},
   "source": [
    "Supposing we have the training method above, we will test that it is working by writing a bit of code in the notebook that executes our training method on the small sample training set that we loaded earlier. The reason for doing this in the notebook is so that we have an opportunity to fix any errors that arise early when they are easier to diagnose."
   ]
  },
  {
   "cell_type": "code",
   "execution_count": 27,
   "metadata": {},
   "outputs": [
    {
     "name": "stdout",
     "output_type": "stream",
     "text": [
      "Epoch: 1, BCELoss: 0.694438099861145\n",
      "Epoch: 2, BCELoss: 0.6863825678825378\n",
      "Epoch: 3, BCELoss: 0.6794750571250916\n",
      "Epoch: 4, BCELoss: 0.6717406272888183\n",
      "Epoch: 5, BCELoss: 0.6621142745018005\n"
     ]
    }
   ],
   "source": [
    "import torch.optim as optim\n",
    "from train.model import LSTMClassifier\n",
    "\n",
    "device = torch.device(\"cuda\" if torch.cuda.is_available() else \"cpu\")\n",
    "model = LSTMClassifier(32, 100, 5000).to(device)\n",
    "optimizer = optim.Adam(model.parameters())\n",
    "loss_fn = torch.nn.BCELoss()\n",
    "\n",
    "train(model, train_sample_dl, 5, optimizer, loss_fn, device)"
   ]
  },
  {
   "cell_type": "markdown",
   "metadata": {},
   "source": [
    "In order to construct a PyTorch model using SageMaker we must provide SageMaker with a training script. We may optionally include a directory which will be copied to the container and from which our training code will be run. When the training container is executed it will check the uploaded directory (if there is one) for a `requirements.txt` file and install any required Python libraries, after which the training script will be run."
   ]
  },
  {
   "cell_type": "markdown",
   "metadata": {},
   "source": [
    "### (TODO) Training the model\n",
    "\n",
    "When a PyTorch model is constructed in SageMaker, an entry point must be specified. This is the Python file which will be executed when the model is trained. Inside of the `train` directory is a file called `train.py` which has been provided and which contains most of the necessary code to train our model. The only thing that is missing is the implementation of the `train()` method which you wrote earlier in this notebook.\n",
    "\n",
    "**TODO**: Copy the `train()` method written above and paste it into the `train/train.py` file where required.\n",
    "\n",
    "The way that SageMaker passes hyperparameters to the training script is by way of arguments. These arguments can then be parsed and used in the training script. To see how this is done take a look at the provided `train/train.py` file."
   ]
  },
  {
   "cell_type": "code",
   "execution_count": 28,
   "metadata": {},
   "outputs": [],
   "source": [
    "from sagemaker.pytorch import PyTorch\n",
    "\n",
    "estimator = PyTorch(entry_point=\"train.py\",\n",
    "                    source_dir=\"train\",\n",
    "                    role=role,\n",
    "                    framework_version='0.4.0',\n",
    "                    train_instance_count=1,\n",
    "                    train_instance_type='ml.p2.xlarge',\n",
    "                    hyperparameters={\n",
    "                        'epochs': 10,\n",
    "                        'hidden_dim': 200,\n",
    "                    })"
   ]
  },
  {
   "cell_type": "code",
   "execution_count": 29,
   "metadata": {},
   "outputs": [
    {
     "name": "stderr",
     "output_type": "stream",
     "text": [
      "INFO:sagemaker:Creating training-job with name: sagemaker-pytorch-2019-03-22-02-04-08-516\n"
     ]
    },
    {
     "name": "stdout",
     "output_type": "stream",
     "text": [
      "2019-03-22 02:04:09 Starting - Starting the training job...\n",
      "2019-03-22 02:04:10 Starting - Launching requested ML instances......\n",
      "2019-03-22 02:05:13 Starting - Preparing the instances for training......\n",
      "2019-03-22 02:06:23 Downloading - Downloading input data\n",
      "2019-03-22 02:06:23 Training - Downloading the training image.....\n",
      "\u001b[31mbash: cannot set terminal process group (-1): Inappropriate ioctl for device\u001b[0m\n",
      "\u001b[31mbash: no job control in this shell\u001b[0m\n",
      "\u001b[31m2019-03-22 02:07:24,534 sagemaker-containers INFO     Imported framework sagemaker_pytorch_container.training\u001b[0m\n",
      "\u001b[31m2019-03-22 02:07:24,567 sagemaker_pytorch_container.training INFO     Block until all host DNS lookups succeed.\u001b[0m\n",
      "\u001b[31m2019-03-22 02:07:24,774 sagemaker_pytorch_container.training INFO     Invoking user training script.\u001b[0m\n",
      "\u001b[31m2019-03-22 02:07:25,037 sagemaker-containers INFO     Module train does not provide a setup.py. \u001b[0m\n",
      "\u001b[31mGenerating setup.py\u001b[0m\n",
      "\u001b[31m2019-03-22 02:07:25,037 sagemaker-containers INFO     Generating setup.cfg\u001b[0m\n",
      "\u001b[31m2019-03-22 02:07:25,037 sagemaker-containers INFO     Generating MANIFEST.in\u001b[0m\n",
      "\u001b[31m2019-03-22 02:07:25,037 sagemaker-containers INFO     Installing module with the following command:\u001b[0m\n",
      "\u001b[31m/usr/bin/python -m pip install -U . -r requirements.txt\u001b[0m\n",
      "\u001b[31mProcessing /opt/ml/code\u001b[0m\n",
      "\u001b[31mCollecting pandas (from -r requirements.txt (line 1))\n",
      "  Downloading https://files.pythonhosted.org/packages/74/24/0cdbf8907e1e3bc5a8da03345c23cbed7044330bb8f73bb12e711a640a00/pandas-0.24.2-cp35-cp35m-manylinux1_x86_64.whl (10.0MB)\u001b[0m\n",
      "\u001b[31mCollecting numpy (from -r requirements.txt (line 2))\n",
      "  Downloading https://files.pythonhosted.org/packages/e3/18/4f013c3c3051f4e0ffbaa4bf247050d6d5e527fe9cb1907f5975b172f23f/numpy-1.16.2-cp35-cp35m-manylinux1_x86_64.whl (17.2MB)\u001b[0m\n",
      "\n",
      "2019-03-22 02:07:23 Training - Training image download completed. Training in progress.\u001b[31mCollecting nltk (from -r requirements.txt (line 3))\n",
      "  Downloading https://files.pythonhosted.org/packages/6f/ed/9c755d357d33bc1931e157f537721efb5b88d2c583fe593cc09603076cc3/nltk-3.4.zip (1.4MB)\u001b[0m\n",
      "\u001b[31mCollecting beautifulsoup4 (from -r requirements.txt (line 4))\n",
      "  Downloading https://files.pythonhosted.org/packages/1d/5d/3260694a59df0ec52f8b4883f5d23b130bc237602a1411fa670eae12351e/beautifulsoup4-4.7.1-py3-none-any.whl (94kB)\u001b[0m\n",
      "\u001b[31mCollecting html5lib (from -r requirements.txt (line 5))\n",
      "  Downloading https://files.pythonhosted.org/packages/a5/62/bbd2be0e7943ec8504b517e62bab011b4946e1258842bc159e5dfde15b96/html5lib-1.0.1-py2.py3-none-any.whl (117kB)\u001b[0m\n",
      "\u001b[31mCollecting pytz>=2011k (from pandas->-r requirements.txt (line 1))\n",
      "  Downloading https://files.pythonhosted.org/packages/61/28/1d3920e4d1d50b19bc5d24398a7cd85cc7b9a75a490570d5a30c57622d34/pytz-2018.9-py2.py3-none-any.whl (510kB)\u001b[0m\n",
      "\u001b[31mRequirement already satisfied, skipping upgrade: python-dateutil>=2.5.0 in /usr/local/lib/python3.5/dist-packages (from pandas->-r requirements.txt (line 1)) (2.7.5)\u001b[0m\n",
      "\u001b[31mRequirement already satisfied, skipping upgrade: six in /usr/local/lib/python3.5/dist-packages (from nltk->-r requirements.txt (line 3)) (1.11.0)\u001b[0m\n",
      "\u001b[31mCollecting singledispatch (from nltk->-r requirements.txt (line 3))\n",
      "  Downloading https://files.pythonhosted.org/packages/c5/10/369f50bcd4621b263927b0a1519987a04383d4a98fb10438042ad410cf88/singledispatch-3.4.0.3-py2.py3-none-any.whl\u001b[0m\n",
      "\u001b[31mCollecting soupsieve>=1.2 (from beautifulsoup4->-r requirements.txt (line 4))\n",
      "  Downloading https://files.pythonhosted.org/packages/77/78/bca00cc9fa70bba1226ee70a42bf375c4e048fe69066a0d9b5e69bc2a79a/soupsieve-1.8-py2.py3-none-any.whl (88kB)\u001b[0m\n",
      "\u001b[31mCollecting webencodings (from html5lib->-r requirements.txt (line 5))\n",
      "  Downloading https://files.pythonhosted.org/packages/f4/24/2a3e3df732393fed8b3ebf2ec078f05546de641fe1b667ee316ec1dcf3b7/webencodings-0.5.1-py2.py3-none-any.whl\u001b[0m\n",
      "\u001b[31mBuilding wheels for collected packages: nltk, train\n",
      "  Running setup.py bdist_wheel for nltk: started\u001b[0m\n",
      "\u001b[31m  Running setup.py bdist_wheel for nltk: finished with status 'done'\n",
      "  Stored in directory: /root/.cache/pip/wheels/4b/c8/24/b2343664bcceb7147efeb21c0b23703a05b23fcfeaceaa2a1e\n",
      "  Running setup.py bdist_wheel for train: started\n",
      "  Running setup.py bdist_wheel for train: finished with status 'done'\n",
      "  Stored in directory: /tmp/pip-ephem-wheel-cache-ayw26yri/wheels/35/24/16/37574d11bf9bde50616c67372a334f94fa8356bc7164af8ca3\u001b[0m\n",
      "\u001b[31mSuccessfully built nltk train\u001b[0m\n",
      "\u001b[31mInstalling collected packages: pytz, numpy, pandas, singledispatch, nltk, soupsieve, beautifulsoup4, webencodings, html5lib, train\n",
      "  Found existing installation: numpy 1.15.4\u001b[0m\n",
      "\u001b[31m    Uninstalling numpy-1.15.4:\n",
      "      Successfully uninstalled numpy-1.15.4\u001b[0m\n",
      "\u001b[31mSuccessfully installed beautifulsoup4-4.7.1 html5lib-1.0.1 nltk-3.4 numpy-1.16.2 pandas-0.24.2 pytz-2018.9 singledispatch-3.4.0.3 soupsieve-1.8 train-1.0.0 webencodings-0.5.1\u001b[0m\n",
      "\u001b[31mYou are using pip version 18.1, however version 19.0.3 is available.\u001b[0m\n",
      "\u001b[31mYou should consider upgrading via the 'pip install --upgrade pip' command.\u001b[0m\n",
      "\u001b[31m2019-03-22 02:07:36,734 sagemaker-containers INFO     Invoking user script\n",
      "\u001b[0m\n",
      "\u001b[31mTraining Env:\n",
      "\u001b[0m\n",
      "\u001b[31m{\n",
      "    \"log_level\": 20,\n",
      "    \"hosts\": [\n",
      "        \"algo-1\"\n",
      "    ],\n",
      "    \"current_host\": \"algo-1\",\n",
      "    \"framework_module\": \"sagemaker_pytorch_container.training:main\",\n",
      "    \"channel_input_dirs\": {\n",
      "        \"training\": \"/opt/ml/input/data/training\"\n",
      "    },\n",
      "    \"module_name\": \"train\",\n",
      "    \"output_dir\": \"/opt/ml/output\",\n",
      "    \"input_config_dir\": \"/opt/ml/input/config\",\n",
      "    \"output_intermediate_dir\": \"/opt/ml/output/intermediate\",\n",
      "    \"input_dir\": \"/opt/ml/input\",\n",
      "    \"user_entry_point\": \"train.py\",\n",
      "    \"num_cpus\": 4,\n",
      "    \"job_name\": \"sagemaker-pytorch-2019-03-22-02-04-08-516\",\n",
      "    \"module_dir\": \"s3://sagemaker-us-east-2-858554198733/sagemaker-pytorch-2019-03-22-02-04-08-516/source/sourcedir.tar.gz\",\n",
      "    \"num_gpus\": 1,\n",
      "    \"output_data_dir\": \"/opt/ml/output/data\",\n",
      "    \"additional_framework_parameters\": {},\n",
      "    \"input_data_config\": {\n",
      "        \"training\": {\n",
      "            \"S3DistributionType\": \"FullyReplicated\",\n",
      "            \"RecordWrapperType\": \"None\",\n",
      "            \"TrainingInputMode\": \"File\"\n",
      "        }\n",
      "    },\n",
      "    \"network_interface_name\": \"ethwe\",\n",
      "    \"hyperparameters\": {\n",
      "        \"hidden_dim\": 200,\n",
      "        \"epochs\": 10\n",
      "    },\n",
      "    \"model_dir\": \"/opt/ml/model\",\n",
      "    \"resource_config\": {\n",
      "        \"hosts\": [\n",
      "            \"algo-1\"\n",
      "        ],\n",
      "        \"network_interface_name\": \"ethwe\",\n",
      "        \"current_host\": \"algo-1\"\n",
      "    }\u001b[0m\n",
      "\u001b[31m}\n",
      "\u001b[0m\n",
      "\u001b[31mEnvironment variables:\n",
      "\u001b[0m\n",
      "\u001b[31mSM_MODULE_NAME=train\u001b[0m\n",
      "\u001b[31mSM_LOG_LEVEL=20\u001b[0m\n",
      "\u001b[31mSM_CHANNELS=[\"training\"]\u001b[0m\n",
      "\u001b[31mSM_TRAINING_ENV={\"additional_framework_parameters\":{},\"channel_input_dirs\":{\"training\":\"/opt/ml/input/data/training\"},\"current_host\":\"algo-1\",\"framework_module\":\"sagemaker_pytorch_container.training:main\",\"hosts\":[\"algo-1\"],\"hyperparameters\":{\"epochs\":10,\"hidden_dim\":200},\"input_config_dir\":\"/opt/ml/input/config\",\"input_data_config\":{\"training\":{\"RecordWrapperType\":\"None\",\"S3DistributionType\":\"FullyReplicated\",\"TrainingInputMode\":\"File\"}},\"input_dir\":\"/opt/ml/input\",\"job_name\":\"sagemaker-pytorch-2019-03-22-02-04-08-516\",\"log_level\":20,\"model_dir\":\"/opt/ml/model\",\"module_dir\":\"s3://sagemaker-us-east-2-858554198733/sagemaker-pytorch-2019-03-22-02-04-08-516/source/sourcedir.tar.gz\",\"module_name\":\"train\",\"network_interface_name\":\"ethwe\",\"num_cpus\":4,\"num_gpus\":1,\"output_data_dir\":\"/opt/ml/output/data\",\"output_dir\":\"/opt/ml/output\",\"output_intermediate_dir\":\"/opt/ml/output/intermediate\",\"resource_config\":{\"current_host\":\"algo-1\",\"hosts\":[\"algo-1\"],\"network_interface_name\":\"ethwe\"},\"user_entry_point\":\"train.py\"}\u001b[0m\n",
      "\u001b[31mSM_OUTPUT_DIR=/opt/ml/output\u001b[0m\n",
      "\u001b[31mSM_NUM_GPUS=1\u001b[0m\n",
      "\u001b[31mSM_HOSTS=[\"algo-1\"]\u001b[0m\n",
      "\u001b[31mSM_OUTPUT_INTERMEDIATE_DIR=/opt/ml/output/intermediate\u001b[0m\n",
      "\u001b[31mSM_NETWORK_INTERFACE_NAME=ethwe\u001b[0m\n",
      "\u001b[31mSM_INPUT_CONFIG_DIR=/opt/ml/input/config\u001b[0m\n",
      "\u001b[31mSM_OUTPUT_DATA_DIR=/opt/ml/output/data\u001b[0m\n",
      "\u001b[31mSM_USER_ENTRY_POINT=train.py\u001b[0m\n",
      "\u001b[31mSM_USER_ARGS=[\"--epochs\",\"10\",\"--hidden_dim\",\"200\"]\u001b[0m\n",
      "\u001b[31mSM_MODEL_DIR=/opt/ml/model\u001b[0m\n",
      "\u001b[31mSM_HP_EPOCHS=10\u001b[0m\n",
      "\u001b[31mSM_FRAMEWORK_PARAMS={}\u001b[0m\n",
      "\u001b[31mSM_CURRENT_HOST=algo-1\u001b[0m\n",
      "\u001b[31mSM_NUM_CPUS=4\u001b[0m\n",
      "\u001b[31mSM_HPS={\"epochs\":10,\"hidden_dim\":200}\u001b[0m\n",
      "\u001b[31mSM_FRAMEWORK_MODULE=sagemaker_pytorch_container.training:main\u001b[0m\n",
      "\u001b[31mSM_INPUT_DIR=/opt/ml/input\u001b[0m\n",
      "\u001b[31mSM_CHANNEL_TRAINING=/opt/ml/input/data/training\u001b[0m\n",
      "\u001b[31mPYTHONPATH=/usr/local/bin:/usr/lib/python35.zip:/usr/lib/python3.5:/usr/lib/python3.5/plat-x86_64-linux-gnu:/usr/lib/python3.5/lib-dynload:/usr/local/lib/python3.5/dist-packages:/usr/lib/python3/dist-packages\u001b[0m\n",
      "\u001b[31mSM_INPUT_DATA_CONFIG={\"training\":{\"RecordWrapperType\":\"None\",\"S3DistributionType\":\"FullyReplicated\",\"TrainingInputMode\":\"File\"}}\u001b[0m\n",
      "\u001b[31mSM_MODULE_DIR=s3://sagemaker-us-east-2-858554198733/sagemaker-pytorch-2019-03-22-02-04-08-516/source/sourcedir.tar.gz\u001b[0m\n",
      "\u001b[31mSM_RESOURCE_CONFIG={\"current_host\":\"algo-1\",\"hosts\":[\"algo-1\"],\"network_interface_name\":\"ethwe\"}\u001b[0m\n",
      "\u001b[31mSM_HP_HIDDEN_DIM=200\n",
      "\u001b[0m\n",
      "\u001b[31mInvoking script with the following command:\n",
      "\u001b[0m\n",
      "\u001b[31m/usr/bin/python -m train --epochs 10 --hidden_dim 200\n",
      "\n",
      "\u001b[0m\n",
      "\u001b[31mUsing device cuda.\u001b[0m\n",
      "\u001b[31mGet train data loader.\u001b[0m\n",
      "\u001b[31mModel loaded with embedding_dim 32, hidden_dim 200, vocab_size 5000.\u001b[0m\n"
     ]
    },
    {
     "name": "stdout",
     "output_type": "stream",
     "text": [
      "\u001b[31mEpoch: 1, BCELoss: 0.6745633653232029\u001b[0m\n",
      "\u001b[31mEpoch: 2, BCELoss: 0.5928686480132901\u001b[0m\n",
      "\u001b[31mEpoch: 3, BCELoss: 0.4945943379888729\u001b[0m\n",
      "\u001b[31mEpoch: 4, BCELoss: 0.4278667125166679\u001b[0m\n",
      "\u001b[31mEpoch: 5, BCELoss: 0.3753360850470407\u001b[0m\n",
      "\u001b[31mEpoch: 6, BCELoss: 0.3392988650166259\u001b[0m\n",
      "\u001b[31mEpoch: 7, BCELoss: 0.32256136196000235\u001b[0m\n",
      "\u001b[31mEpoch: 8, BCELoss: 0.31842547715926656\u001b[0m\n",
      "\u001b[31mEpoch: 9, BCELoss: 0.29787414019205133\u001b[0m\n",
      "\n",
      "2019-03-22 02:10:36 Uploading - Uploading generated training model\n",
      "2019-03-22 02:10:36 Completed - Training job completed\n",
      "\u001b[31mEpoch: 10, BCELoss: 0.27104462804842966\u001b[0m\n",
      "\u001b[31m2019-03-22 02:10:30,333 sagemaker-containers INFO     Reporting training SUCCESS\u001b[0m\n",
      "Billable seconds: 261\n"
     ]
    }
   ],
   "source": [
    "estimator.fit({'training': input_data})"
   ]
  },
  {
   "cell_type": "markdown",
   "metadata": {},
   "source": [
    "## Step 5: Testing the model\n",
    "\n",
    "As mentioned at the top of this notebook, we will be testing this model by first deploying it and then sending the testing data to the deployed endpoint. We will do this so that we can make sure that the deployed model is working correctly.\n",
    "\n",
    "## Step 6: Deploy the model for testing\n",
    "\n",
    "Now that we have trained our model, we would like to test it to see how it performs. Currently our model takes input of the form `review_length, review[500]` where `review[500]` is a sequence of `500` integers which describe the words present in the review, encoded using `word_dict`. Fortunately for us, SageMaker provides built-in inference code for models with simple inputs such as this.\n",
    "\n",
    "There is one thing that we need to provide, however, and that is a function which loads the saved model. This function must be called `model_fn()` and takes as its only parameter a path to the directory where the model artifacts are stored. This function must also be present in the python file which we specified as the entry point. In our case the model loading function has been provided and so no changes need to be made.\n",
    "\n",
    "**NOTE**: When the built-in inference code is run it must import the `model_fn()` method from the `train.py` file. This is why the training code is wrapped in a main guard ( ie, `if __name__ == '__main__':` )\n",
    "\n",
    "Since we don't need to change anything in the code that was uploaded during training, we can simply deploy the current model as-is.\n",
    "\n",
    "**NOTE:** When deploying a model you are asking SageMaker to launch an compute instance that will wait for data to be sent to it. As a result, this compute instance will continue to run until *you* shut it down. This is important to know since the cost of a deployed endpoint depends on how long it has been running for.\n",
    "\n",
    "In other words **If you are no longer using a deployed endpoint, shut it down!**\n",
    "\n",
    "**TODO:** Deploy the trained model."
   ]
  },
  {
   "cell_type": "code",
   "execution_count": 30,
   "metadata": {},
   "outputs": [
    {
     "name": "stderr",
     "output_type": "stream",
     "text": [
      "INFO:sagemaker:Creating model with name: sagemaker-pytorch-2019-03-22-02-04-08-516\n",
      "INFO:sagemaker:Creating endpoint with name sagemaker-pytorch-2019-03-22-02-04-08-516\n"
     ]
    },
    {
     "name": "stdout",
     "output_type": "stream",
     "text": [
      "---------------------------------------------------------------------------------------!"
     ]
    }
   ],
   "source": [
    "# TODO: Deploy the trained model\n",
    "predictor = estimator.deploy(initial_instance_count = 1, instance_type = 'ml.p2.xlarge')"
   ]
  },
  {
   "cell_type": "markdown",
   "metadata": {},
   "source": [
    "## Step 7 - Use the model for testing\n",
    "\n",
    "Once deployed, we can read in the test data and send it off to our deployed model to get some results. Once we collect all of the results we can determine how accurate our model is."
   ]
  },
  {
   "cell_type": "code",
   "execution_count": 31,
   "metadata": {},
   "outputs": [],
   "source": [
    "test_X = pd.concat([pd.DataFrame(test_X_len), pd.DataFrame(test_X)], axis=1)"
   ]
  },
  {
   "cell_type": "code",
   "execution_count": 32,
   "metadata": {},
   "outputs": [],
   "source": [
    "# We split the data into chunks and send each chunk seperately, accumulating the results.\n",
    "\n",
    "def predict(data, rows=512):\n",
    "    split_array = np.array_split(data, int(data.shape[0] / float(rows) + 1))\n",
    "    predictions = np.array([])\n",
    "    for array in split_array:\n",
    "        predictions = np.append(predictions, predictor.predict(array))\n",
    "    \n",
    "    return predictions"
   ]
  },
  {
   "cell_type": "code",
   "execution_count": 33,
   "metadata": {},
   "outputs": [],
   "source": [
    "predictions = predict(test_X.values)\n",
    "predictions = [round(num) for num in predictions]"
   ]
  },
  {
   "cell_type": "code",
   "execution_count": 34,
   "metadata": {},
   "outputs": [
    {
     "data": {
      "text/plain": [
       "0.84968"
      ]
     },
     "execution_count": 34,
     "metadata": {},
     "output_type": "execute_result"
    }
   ],
   "source": [
    "from sklearn.metrics import accuracy_score\n",
    "accuracy_score(test_y, predictions)"
   ]
  },
  {
   "cell_type": "markdown",
   "metadata": {},
   "source": [
    "**Question:** How does this model compare to the XGBoost model you created earlier? Why might these two models perform differently on this dataset? Which do *you* think is better for sentiment analysis?"
   ]
  },
  {
   "cell_type": "markdown",
   "metadata": {},
   "source": [
    "**Answer:** XGBoost has a lower BCELoss than LSTM. The models perform differently on the same dataset because XGBoost is an optimized distributed gradient boosting library and LSTM uses recurrent neural networks. For sentiment analysis I think is better LSTM because to determine if a review is good or bad you have to look to all the previous words."
   ]
  },
  {
   "cell_type": "markdown",
   "metadata": {},
   "source": [
    "### (TODO) More testing\n",
    "\n",
    "We now have a trained model which has been deployed and which we can send processed reviews to and which returns the predicted sentiment. However, ultimately we would like to be able to send our model an unprocessed review. That is, we would like to send the review itself as a string. For example, suppose we wish to send the following review to our model."
   ]
  },
  {
   "cell_type": "code",
   "execution_count": 35,
   "metadata": {},
   "outputs": [],
   "source": [
    "test_review = 'The simplest pleasures in life are the best, and this film is one of them. Combining a rather basic storyline of love and adventure this movie transcends the usual weekend fair with wit and unmitigated charm.'"
   ]
  },
  {
   "cell_type": "markdown",
   "metadata": {},
   "source": [
    "The question we now need to answer is, how do we send this review to our model?\n",
    "\n",
    "Recall in the first section of this notebook we did a bunch of data processing to the IMDb dataset. In particular, we did two specific things to the provided reviews.\n",
    " - Removed any html tags and stemmed the input\n",
    " - Encoded the review as a sequence of integers using `word_dict`\n",
    " \n",
    "In order process the review we will need to repeat these two steps.\n",
    "\n",
    "**TODO**: Using the `review_to_words` and `convert_and_pad` methods from section one, convert `test_review` into a numpy array `test_data` suitable to send to our model. Remember that our model expects input of the form `review_length, review[500]`."
   ]
  },
  {
   "cell_type": "code",
   "execution_count": 36,
   "metadata": {},
   "outputs": [],
   "source": [
    "# TODO: Convert test_review into a form usable by the model and save the results in test_data\n",
    "input_words = review_to_words(test_review)\n",
    "sentence, length = convert_and_pad(word_dict, input_words)\n",
    "#test_data = sentence\n",
    "#data_X = length\n",
    "test_data = np.expand_dims(np.array([length]+sentence), axis=0)"
   ]
  },
  {
   "cell_type": "markdown",
   "metadata": {},
   "source": [
    "Now that we have processed the review, we can send the resulting array to our model to predict the sentiment of the review."
   ]
  },
  {
   "cell_type": "code",
   "execution_count": 37,
   "metadata": {},
   "outputs": [
    {
     "data": {
      "text/plain": [
       "array(0.85601884, dtype=float32)"
      ]
     },
     "execution_count": 37,
     "metadata": {},
     "output_type": "execute_result"
    }
   ],
   "source": [
    "predictor.predict(test_data)"
   ]
  },
  {
   "cell_type": "markdown",
   "metadata": {},
   "source": [
    "Since the return value of our model is close to `1`, we can be certain that the review we submitted is positive."
   ]
  },
  {
   "cell_type": "markdown",
   "metadata": {},
   "source": [
    "### Delete the endpoint\n",
    "\n",
    "Of course, just like in the XGBoost notebook, once we've deployed an endpoint it continues to run until we tell it to shut down. Since we are done using our endpoint for now, we can delete it."
   ]
  },
  {
   "cell_type": "code",
   "execution_count": 38,
   "metadata": {},
   "outputs": [
    {
     "name": "stderr",
     "output_type": "stream",
     "text": [
      "INFO:sagemaker:Deleting endpoint with name: sagemaker-pytorch-2019-03-22-02-04-08-516\n"
     ]
    }
   ],
   "source": [
    "estimator.delete_endpoint()"
   ]
  },
  {
   "cell_type": "markdown",
   "metadata": {},
   "source": [
    "## Step 6 (again) - Deploy the model for the web app\n",
    "\n",
    "Now that we know that our model is working, it's time to create some custom inference code so that we can send the model a review which has not been processed and have it determine the sentiment of the review.\n",
    "\n",
    "As we saw above, by default the estimator which we created, when deployed, will use the entry script and directory which we provided when creating the model. However, since we now wish to accept a string as input and our model expects a processed review, we need to write some custom inference code.\n",
    "\n",
    "We will store the code that we write in the `serve` directory. Provided in this directory is the `model.py` file that we used to construct our model, a `utils.py` file which contains the `review_to_words` and `convert_and_pad` pre-processing functions which we used during the initial data processing, and `predict.py`, the file which will contain our custom inference code. Note also that `requirements.txt` is present which will tell SageMaker what Python libraries are required by our custom inference code.\n",
    "\n",
    "When deploying a PyTorch model in SageMaker, you are expected to provide four functions which the SageMaker inference container will use.\n",
    " - `model_fn`: This function is the same function that we used in the training script and it tells SageMaker how to load our model.\n",
    " - `input_fn`: This function receives the raw serialized input that has been sent to the model's endpoint and its job is to de-serialize and make the input available for the inference code.\n",
    " - `output_fn`: This function takes the output of the inference code and its job is to serialize this output and return it to the caller of the model's endpoint.\n",
    " - `predict_fn`: The heart of the inference script, this is where the actual prediction is done and is the function which you will need to complete.\n",
    "\n",
    "For the simple website that we are constructing during this project, the `input_fn` and `output_fn` methods are relatively straightforward. We only require being able to accept a string as input and we expect to return a single value as output. You might imagine though that in a more complex application the input or output may be image data or some other binary data which would require some effort to serialize.\n",
    "\n",
    "### (TODO) Writing inference code\n",
    "\n",
    "Before writing our custom inference code, we will begin by taking a look at the code which has been provided."
   ]
  },
  {
   "cell_type": "code",
   "execution_count": 39,
   "metadata": {},
   "outputs": [
    {
     "name": "stdout",
     "output_type": "stream",
     "text": [
      "\u001b[34mimport\u001b[39;49;00m \u001b[04m\u001b[36margparse\u001b[39;49;00m\r\n",
      "\u001b[34mimport\u001b[39;49;00m \u001b[04m\u001b[36mjson\u001b[39;49;00m\r\n",
      "\u001b[34mimport\u001b[39;49;00m \u001b[04m\u001b[36mos\u001b[39;49;00m\r\n",
      "\u001b[34mimport\u001b[39;49;00m \u001b[04m\u001b[36mpickle\u001b[39;49;00m\r\n",
      "\u001b[34mimport\u001b[39;49;00m \u001b[04m\u001b[36msys\u001b[39;49;00m\r\n",
      "\u001b[34mimport\u001b[39;49;00m \u001b[04m\u001b[36msagemaker_containers\u001b[39;49;00m\r\n",
      "\u001b[34mimport\u001b[39;49;00m \u001b[04m\u001b[36mpandas\u001b[39;49;00m \u001b[34mas\u001b[39;49;00m \u001b[04m\u001b[36mpd\u001b[39;49;00m\r\n",
      "\u001b[34mimport\u001b[39;49;00m \u001b[04m\u001b[36mnumpy\u001b[39;49;00m \u001b[34mas\u001b[39;49;00m \u001b[04m\u001b[36mnp\u001b[39;49;00m\r\n",
      "\u001b[34mimport\u001b[39;49;00m \u001b[04m\u001b[36mtorch\u001b[39;49;00m\r\n",
      "\u001b[34mimport\u001b[39;49;00m \u001b[04m\u001b[36mtorch.nn\u001b[39;49;00m \u001b[34mas\u001b[39;49;00m \u001b[04m\u001b[36mnn\u001b[39;49;00m\r\n",
      "\u001b[34mimport\u001b[39;49;00m \u001b[04m\u001b[36mtorch.optim\u001b[39;49;00m \u001b[34mas\u001b[39;49;00m \u001b[04m\u001b[36moptim\u001b[39;49;00m\r\n",
      "\u001b[34mimport\u001b[39;49;00m \u001b[04m\u001b[36mtorch.utils.data\u001b[39;49;00m\r\n",
      "\r\n",
      "\u001b[34mfrom\u001b[39;49;00m \u001b[04m\u001b[36mmodel\u001b[39;49;00m \u001b[34mimport\u001b[39;49;00m LSTMClassifier\r\n",
      "\r\n",
      "\u001b[34mfrom\u001b[39;49;00m \u001b[04m\u001b[36mutils\u001b[39;49;00m \u001b[34mimport\u001b[39;49;00m review_to_words, convert_and_pad\r\n",
      "\r\n",
      "\u001b[34mdef\u001b[39;49;00m \u001b[32mmodel_fn\u001b[39;49;00m(model_dir):\r\n",
      "    \u001b[33m\"\"\"Load the PyTorch model from the `model_dir` directory.\"\"\"\u001b[39;49;00m\r\n",
      "    \u001b[34mprint\u001b[39;49;00m(\u001b[33m\"\u001b[39;49;00m\u001b[33mLoading model.\u001b[39;49;00m\u001b[33m\"\u001b[39;49;00m)\r\n",
      "\r\n",
      "    \u001b[37m# First, load the parameters used to create the model.\u001b[39;49;00m\r\n",
      "    model_info = {}\r\n",
      "    model_info_path = os.path.join(model_dir, \u001b[33m'\u001b[39;49;00m\u001b[33mmodel_info.pth\u001b[39;49;00m\u001b[33m'\u001b[39;49;00m)\r\n",
      "    \u001b[34mwith\u001b[39;49;00m \u001b[36mopen\u001b[39;49;00m(model_info_path, \u001b[33m'\u001b[39;49;00m\u001b[33mrb\u001b[39;49;00m\u001b[33m'\u001b[39;49;00m) \u001b[34mas\u001b[39;49;00m f:\r\n",
      "        model_info = torch.load(f)\r\n",
      "\r\n",
      "    \u001b[34mprint\u001b[39;49;00m(\u001b[33m\"\u001b[39;49;00m\u001b[33mmodel_info: {}\u001b[39;49;00m\u001b[33m\"\u001b[39;49;00m.format(model_info))\r\n",
      "\r\n",
      "    \u001b[37m# Determine the device and construct the model.\u001b[39;49;00m\r\n",
      "    device = torch.device(\u001b[33m\"\u001b[39;49;00m\u001b[33mcuda\u001b[39;49;00m\u001b[33m\"\u001b[39;49;00m \u001b[34mif\u001b[39;49;00m torch.cuda.is_available() \u001b[34melse\u001b[39;49;00m \u001b[33m\"\u001b[39;49;00m\u001b[33mcpu\u001b[39;49;00m\u001b[33m\"\u001b[39;49;00m)\r\n",
      "    model = LSTMClassifier(model_info[\u001b[33m'\u001b[39;49;00m\u001b[33membedding_dim\u001b[39;49;00m\u001b[33m'\u001b[39;49;00m], model_info[\u001b[33m'\u001b[39;49;00m\u001b[33mhidden_dim\u001b[39;49;00m\u001b[33m'\u001b[39;49;00m], model_info[\u001b[33m'\u001b[39;49;00m\u001b[33mvocab_size\u001b[39;49;00m\u001b[33m'\u001b[39;49;00m])\r\n",
      "\r\n",
      "    \u001b[37m# Load the store model parameters.\u001b[39;49;00m\r\n",
      "    model_path = os.path.join(model_dir, \u001b[33m'\u001b[39;49;00m\u001b[33mmodel.pth\u001b[39;49;00m\u001b[33m'\u001b[39;49;00m)\r\n",
      "    \u001b[34mwith\u001b[39;49;00m \u001b[36mopen\u001b[39;49;00m(model_path, \u001b[33m'\u001b[39;49;00m\u001b[33mrb\u001b[39;49;00m\u001b[33m'\u001b[39;49;00m) \u001b[34mas\u001b[39;49;00m f:\r\n",
      "        model.load_state_dict(torch.load(f))\r\n",
      "\r\n",
      "    \u001b[37m# Load the saved word_dict.\u001b[39;49;00m\r\n",
      "    word_dict_path = os.path.join(model_dir, \u001b[33m'\u001b[39;49;00m\u001b[33mword_dict.pkl\u001b[39;49;00m\u001b[33m'\u001b[39;49;00m)\r\n",
      "    \u001b[34mwith\u001b[39;49;00m \u001b[36mopen\u001b[39;49;00m(word_dict_path, \u001b[33m'\u001b[39;49;00m\u001b[33mrb\u001b[39;49;00m\u001b[33m'\u001b[39;49;00m) \u001b[34mas\u001b[39;49;00m f:\r\n",
      "        model.word_dict = pickle.load(f)\r\n",
      "\r\n",
      "    model.to(device).eval()\r\n",
      "\r\n",
      "    \u001b[34mprint\u001b[39;49;00m(\u001b[33m\"\u001b[39;49;00m\u001b[33mDone loading model.\u001b[39;49;00m\u001b[33m\"\u001b[39;49;00m)\r\n",
      "    \u001b[34mreturn\u001b[39;49;00m model\r\n",
      "\r\n",
      "\u001b[34mdef\u001b[39;49;00m \u001b[32minput_fn\u001b[39;49;00m(serialized_input_data, content_type):\r\n",
      "    \u001b[34mprint\u001b[39;49;00m(\u001b[33m'\u001b[39;49;00m\u001b[33mDeserializing the input data.\u001b[39;49;00m\u001b[33m'\u001b[39;49;00m)\r\n",
      "    \u001b[34mif\u001b[39;49;00m content_type == \u001b[33m'\u001b[39;49;00m\u001b[33mtext/plain\u001b[39;49;00m\u001b[33m'\u001b[39;49;00m:\r\n",
      "        data = serialized_input_data.decode(\u001b[33m'\u001b[39;49;00m\u001b[33mutf-8\u001b[39;49;00m\u001b[33m'\u001b[39;49;00m)\r\n",
      "        \u001b[34mreturn\u001b[39;49;00m data\r\n",
      "    \u001b[34mraise\u001b[39;49;00m \u001b[36mException\u001b[39;49;00m(\u001b[33m'\u001b[39;49;00m\u001b[33mRequested unsupported ContentType in content_type: \u001b[39;49;00m\u001b[33m'\u001b[39;49;00m + content_type)\r\n",
      "\r\n",
      "\u001b[34mdef\u001b[39;49;00m \u001b[32moutput_fn\u001b[39;49;00m(prediction_output, accept):\r\n",
      "    \u001b[34mprint\u001b[39;49;00m(\u001b[33m'\u001b[39;49;00m\u001b[33mSerializing the generated output.\u001b[39;49;00m\u001b[33m'\u001b[39;49;00m)\r\n",
      "    \u001b[34mreturn\u001b[39;49;00m \u001b[36mstr\u001b[39;49;00m(prediction_output)\r\n",
      "\r\n",
      "\u001b[34mdef\u001b[39;49;00m \u001b[32mpredict_fn\u001b[39;49;00m(input_data, model):\r\n",
      "    \u001b[34mprint\u001b[39;49;00m(\u001b[33m'\u001b[39;49;00m\u001b[33mInferring sentiment of input data.\u001b[39;49;00m\u001b[33m'\u001b[39;49;00m)\r\n",
      "\r\n",
      "    device = torch.device(\u001b[33m\"\u001b[39;49;00m\u001b[33mcuda\u001b[39;49;00m\u001b[33m\"\u001b[39;49;00m \u001b[34mif\u001b[39;49;00m torch.cuda.is_available() \u001b[34melse\u001b[39;49;00m \u001b[33m\"\u001b[39;49;00m\u001b[33mcpu\u001b[39;49;00m\u001b[33m\"\u001b[39;49;00m)\r\n",
      "    \r\n",
      "    \u001b[34mif\u001b[39;49;00m model.word_dict \u001b[35mis\u001b[39;49;00m \u001b[36mNone\u001b[39;49;00m:\r\n",
      "        \u001b[34mraise\u001b[39;49;00m \u001b[36mException\u001b[39;49;00m(\u001b[33m'\u001b[39;49;00m\u001b[33mModel has not been loaded properly, no word_dict.\u001b[39;49;00m\u001b[33m'\u001b[39;49;00m)\r\n",
      "    \r\n",
      "    \u001b[37m# TODO: Process input_data so that it is ready to be sent to our model.\u001b[39;49;00m\r\n",
      "    \u001b[37m#       You should produce two variables:\u001b[39;49;00m\r\n",
      "    \u001b[37m#         data_X   - A sequence of length 500 which represents the converted review\u001b[39;49;00m\r\n",
      "    \u001b[37m#         data_len - The length of the review\u001b[39;49;00m\r\n",
      "\r\n",
      "    input_words = review_to_words(input_data)\r\n",
      "    sentence, length = convert_and_pad(model.word_dict, input_words)\r\n",
      "    data_X = sentence\r\n",
      "    data_len = length\r\n",
      "    \r\n",
      "\r\n",
      "    \u001b[37m# Using data_X and data_len we construct an appropriate input tensor. Remember\u001b[39;49;00m\r\n",
      "    \u001b[37m# that our model expects input data of the form 'len, review[500]'.\u001b[39;49;00m\r\n",
      "    data_pack = np.hstack((data_len, data_X))\r\n",
      "    data_pack = data_pack.reshape(\u001b[34m1\u001b[39;49;00m, -\u001b[34m1\u001b[39;49;00m)\r\n",
      "    \r\n",
      "    data = torch.from_numpy(data_pack)\r\n",
      "    data = data.to(device)\r\n",
      "\r\n",
      "    \u001b[37m# Make sure to put the model into evaluation mode\u001b[39;49;00m\r\n",
      "    model.eval()\r\n",
      "\r\n",
      "    \u001b[37m# TODO: Compute the result of applying the model to the input data. The variable `result` should\u001b[39;49;00m\r\n",
      "    \u001b[37m#       be a numpy array which contains a single integer which is either 1 or 0\u001b[39;49;00m\r\n",
      "\r\n",
      "    result = (model(data).data).cpu().numpy().round()\r\n",
      "\r\n",
      "    \u001b[34mreturn\u001b[39;49;00m result\r\n"
     ]
    }
   ],
   "source": [
    "!pygmentize serve/predict.py"
   ]
  },
  {
   "cell_type": "markdown",
   "metadata": {},
   "source": [
    "As mentioned earlier, the `model_fn` method is the same as the one provided in the training code and the `input_fn` and `output_fn` methods are very simple and your task will be to complete the `predict_fn` method. Make sure that you save the completed file as `predict.py` in the `serve` directory.\n",
    "\n",
    "**TODO**: Complete the `predict_fn()` method in the `serve/predict.py` file."
   ]
  },
  {
   "cell_type": "markdown",
   "metadata": {},
   "source": [
    "### Deploying the model\n",
    "\n",
    "Now that the custom inference code has been written, we will create and deploy our model. To begin with, we need to construct a new PyTorchModel object which points to the model artifacts created during training and also points to the inference code that we wish to use. Then we can call the deploy method to launch the deployment container.\n",
    "\n",
    "**NOTE**: The default behaviour for a deployed PyTorch model is to assume that any input passed to the predictor is a `numpy` array. In our case we want to send a string so we need to construct a simple wrapper around the `RealTimePredictor` class to accomodate simple strings. In a more complicated situation you may want to provide a serialization object, for example if you wanted to sent image data."
   ]
  },
  {
   "cell_type": "code",
   "execution_count": 40,
   "metadata": {},
   "outputs": [
    {
     "name": "stderr",
     "output_type": "stream",
     "text": [
      "INFO:sagemaker:Creating model with name: sagemaker-pytorch-2019-03-22-02-18-24-603\n",
      "INFO:sagemaker:Creating endpoint with name sagemaker-pytorch-2019-03-22-02-18-24-603\n"
     ]
    },
    {
     "name": "stdout",
     "output_type": "stream",
     "text": [
      "------------------------------------------------------------------------------------------!"
     ]
    }
   ],
   "source": [
    "from sagemaker.predictor import RealTimePredictor\n",
    "from sagemaker.pytorch import PyTorchModel\n",
    "\n",
    "class StringPredictor(RealTimePredictor):\n",
    "    def __init__(self, endpoint_name, sagemaker_session):\n",
    "        super(StringPredictor, self).__init__(endpoint_name, sagemaker_session, content_type='text/plain')\n",
    "\n",
    "model = PyTorchModel(model_data=estimator.model_data,\n",
    "                     role = role,\n",
    "                     framework_version='0.4.0',\n",
    "                     entry_point='predict.py',\n",
    "                     source_dir='serve',\n",
    "                     predictor_cls=StringPredictor)\n",
    "predictor = model.deploy(initial_instance_count=1, instance_type='ml.p2.xlarge')"
   ]
  },
  {
   "cell_type": "markdown",
   "metadata": {},
   "source": [
    "### Testing the model\n",
    "\n",
    "Now that we have deployed our model with the custom inference code, we should test to see if everything is working. Here we test our model by loading the first `250` positive and negative reviews and send them to the endpoint, then collect the results. The reason for only sending some of the data is that the amount of time it takes for our model to process the input and then perform inference is quite long and so testing the entire data set would be prohibitive."
   ]
  },
  {
   "cell_type": "code",
   "execution_count": 41,
   "metadata": {},
   "outputs": [],
   "source": [
    "import glob\n",
    "\n",
    "def test_reviews(data_dir='../data/aclImdb', stop=250):\n",
    "    \n",
    "    results = []\n",
    "    ground = []\n",
    "    \n",
    "    # We make sure to test both positive and negative reviews    \n",
    "    for sentiment in ['pos', 'neg']:\n",
    "        \n",
    "        path = os.path.join(data_dir, 'test', sentiment, '*.txt')\n",
    "        files = glob.glob(path)\n",
    "        \n",
    "        files_read = 0\n",
    "        \n",
    "        print('Starting ', sentiment, ' files')\n",
    "        \n",
    "        # Iterate through the files and send them to the predictor\n",
    "        for f in files:\n",
    "            with open(f) as review:\n",
    "                # First, we store the ground truth (was the review positive or negative)\n",
    "                if sentiment == 'pos':\n",
    "                    ground.append(1)\n",
    "                else:\n",
    "                    ground.append(0)\n",
    "                # Read in the review and convert to 'utf-8' for transmission via HTTP\n",
    "                review_input = review.read().encode('utf-8')\n",
    "                # Send the review to the predictor and store the results\n",
    "                results.append(int(float(predictor.predict(review_input))))\n",
    "                \n",
    "            # Sending reviews to our endpoint one at a time takes a while so we\n",
    "            # only send a small number of reviews\n",
    "            files_read += 1\n",
    "            if files_read == stop:\n",
    "                break\n",
    "            \n",
    "    return ground, results"
   ]
  },
  {
   "cell_type": "code",
   "execution_count": 42,
   "metadata": {},
   "outputs": [
    {
     "name": "stdout",
     "output_type": "stream",
     "text": [
      "Starting  pos  files\n",
      "Starting  neg  files\n"
     ]
    }
   ],
   "source": [
    "ground, results = test_reviews()"
   ]
  },
  {
   "cell_type": "code",
   "execution_count": 43,
   "metadata": {},
   "outputs": [
    {
     "data": {
      "text/plain": [
       "0.844"
      ]
     },
     "execution_count": 43,
     "metadata": {},
     "output_type": "execute_result"
    }
   ],
   "source": [
    "from sklearn.metrics import accuracy_score\n",
    "accuracy_score(ground, results)"
   ]
  },
  {
   "cell_type": "markdown",
   "metadata": {},
   "source": [
    "As an additional test, we can try sending the `test_review` that we looked at earlier."
   ]
  },
  {
   "cell_type": "code",
   "execution_count": 44,
   "metadata": {},
   "outputs": [
    {
     "data": {
      "text/plain": [
       "b'1.0'"
      ]
     },
     "execution_count": 44,
     "metadata": {},
     "output_type": "execute_result"
    }
   ],
   "source": [
    "predictor.predict(test_review)"
   ]
  },
  {
   "cell_type": "code",
   "execution_count": 45,
   "metadata": {},
   "outputs": [
    {
     "name": "stdout",
     "output_type": "stream",
     "text": [
      "[1, 1, 1, 1, 1, 1, 1, 1, 1, 1, 0, 1, 1, 1, 1, 1, 1, 1, 1, 1, 1, 1, 1, 1, 1, 0, 1, 0, 1, 1, 1, 1, 1, 1, 1, 1, 1, 1, 1, 1, 0, 1, 1, 0, 1, 1, 1, 1, 1, 1, 1, 1, 1, 1, 1, 1, 1, 1, 1, 0, 1, 1, 0, 1, 1, 1, 1, 1, 1, 1, 1, 1, 1, 0, 1, 1, 1, 1, 1, 1, 1, 1, 1, 1, 1, 0, 1, 1, 1, 1, 1, 1, 0, 0, 1, 1, 0, 1, 1, 1, 1, 1, 0, 1, 1, 1, 0, 0, 0, 1, 0, 1, 1, 1, 1, 1, 0, 1, 1, 1, 1, 1, 1, 1, 1, 0, 1, 1, 1, 1, 1, 0, 1, 1, 1, 0, 1, 1, 1, 1, 1, 1, 1, 1, 1, 1, 1, 1, 1, 0, 1, 1, 1, 1, 1, 1, 0, 1, 1, 0, 1, 1, 0, 0, 1, 1, 1, 1, 1, 1, 1, 1, 1, 0, 1, 1, 1, 0, 1, 1, 1, 1, 1, 1, 1, 1, 0, 1, 1, 1, 1, 1, 0, 1, 1, 1, 1, 1, 1, 1, 1, 1, 0, 0, 1, 1, 1, 1, 1, 1, 1, 1, 1, 1, 1, 1, 1, 1, 0, 1, 1, 1, 1, 1, 1, 0, 1, 1, 1, 1, 0, 0, 1, 1, 1, 1, 1, 0, 1, 1, 0, 1, 1, 1, 1, 1, 1, 1, 0, 1, 0, 0, 0, 0, 0, 0, 0, 0, 0, 0, 0, 0, 0, 0, 0, 1, 0, 0, 0, 0, 0, 0, 0, 0, 1, 0, 0, 0, 0, 0, 0, 0, 0, 0, 1, 0, 1, 0, 0, 0, 0, 0, 0, 0, 0, 0, 0, 1, 0, 0, 1, 0, 0, 0, 0, 0, 0, 1, 0, 0, 0, 0, 0, 0, 0, 0, 0, 0, 1, 0, 0, 0, 0, 0, 0, 0, 0, 0, 0, 0, 0, 0, 0, 0, 0, 0, 0, 0, 1, 0, 1, 1, 0, 0, 0, 0, 0, 0, 0, 0, 0, 1, 1, 0, 0, 0, 0, 0, 0, 0, 0, 0, 0, 0, 0, 1, 1, 0, 0, 0, 0, 0, 0, 0, 0, 1, 0, 0, 0, 0, 1, 0, 1, 0, 0, 0, 0, 0, 0, 1, 0, 0, 0, 0, 0, 1, 0, 0, 0, 0, 0, 1, 1, 1, 0, 1, 0, 1, 0, 0, 0, 0, 0, 0, 1, 0, 0, 0, 0, 0, 0, 0, 0, 0, 0, 0, 1, 0, 0, 1, 0, 0, 1, 0, 0, 0, 0, 0, 0, 0, 0, 1, 0, 0, 0, 0, 0, 0, 0, 0, 0, 0, 0, 0, 0, 0, 1, 0, 1, 0, 0, 0, 0, 1, 0, 0, 1, 0, 0, 0, 1, 0, 1, 0, 0, 1, 0, 0, 0, 0, 1, 0, 0, 0, 0, 0, 0, 0, 0, 0, 0, 0, 0, 0, 0, 0, 0, 0, 1, 0]\n"
     ]
    }
   ],
   "source": [
    "print(results)"
   ]
  },
  {
   "cell_type": "markdown",
   "metadata": {},
   "source": [
    "Now that we know our endpoint is working as expected, we can set up the web page that will interact with it. If you don't have time to finish the project now, make sure to skip down to the end of this notebook and shut down your endpoint. You can deploy it again when you come back."
   ]
  },
  {
   "cell_type": "markdown",
   "metadata": {},
   "source": [
    "## Step 7 (again): Use the model for the web app\n",
    "\n",
    "> **TODO:** This entire section and the next contain tasks for you to complete, mostly using the AWS console.\n",
    "\n",
    "So far we have been accessing our model endpoint by constructing a predictor object which uses the endpoint and then just using the predictor object to perform inference. What if we wanted to create a web app which accessed our model? The way things are set up currently makes that not possible since in order to access a SageMaker endpoint the app would first have to authenticate with AWS using an IAM role which included access to SageMaker endpoints. However, there is an easier way! We just need to use some additional AWS services.\n",
    "\n",
    "<img src=\"Web App Diagram.svg\">\n",
    "\n",
    "The diagram above gives an overview of how the various services will work together. On the far right is the model which we trained above and which is deployed using SageMaker. On the far left is our web app that collects a user's movie review, sends it off and expects a positive or negative sentiment in return.\n",
    "\n",
    "In the middle is where some of the magic happens. We will construct a Lambda function, which you can think of as a straightforward Python function that can be executed whenever a specified event occurs. We will give this function permission to send and recieve data from a SageMaker endpoint.\n",
    "\n",
    "Lastly, the method we will use to execute the Lambda function is a new endpoint that we will create using API Gateway. This endpoint will be a url that listens for data to be sent to it. Once it gets some data it will pass that data on to the Lambda function and then return whatever the Lambda function returns. Essentially it will act as an interface that lets our web app communicate with the Lambda function.\n",
    "\n",
    "### Setting up a Lambda function\n",
    "\n",
    "The first thing we are going to do is set up a Lambda function. This Lambda function will be executed whenever our public API has data sent to it. When it is executed it will receive the data, perform any sort of processing that is required, send the data (the review) to the SageMaker endpoint we've created and then return the result.\n",
    "\n",
    "#### Part A: Create an IAM Role for the Lambda function\n",
    "\n",
    "Since we want the Lambda function to call a SageMaker endpoint, we need to make sure that it has permission to do so. To do this, we will construct a role that we can later give the Lambda function.\n",
    "\n",
    "Using the AWS Console, navigate to the **IAM** page and click on **Roles**. Then, click on **Create role**. Make sure that the **AWS service** is the type of trusted entity selected and choose **Lambda** as the service that will use this role, then click **Next: Permissions**.\n",
    "\n",
    "In the search box type `sagemaker` and select the check box next to the **AmazonSageMakerFullAccess** policy. Then, click on **Next: Review**.\n",
    "\n",
    "Lastly, give this role a name. Make sure you use a name that you will remember later on, for example `LambdaSageMakerRole`. Then, click on **Create role**.\n",
    "\n",
    "#### Part B: Create a Lambda function\n",
    "\n",
    "Now it is time to actually create the Lambda function.\n",
    "\n",
    "Using the AWS Console, navigate to the AWS Lambda page and click on **Create a function**. When you get to the next page, make sure that **Author from scratch** is selected. Now, name your Lambda function, using a name that you will remember later on, for example `sentiment_analysis_func`. Make sure that the **Python 3.6** runtime is selected and then choose the role that you created in the previous part. Then, click on **Create Function**.\n",
    "\n",
    "On the next page you will see some information about the Lambda function you've just created. If you scroll down you should see an editor in which you can write the code that will be executed when your Lambda function is triggered. In our example, we will use the code below. \n",
    "\n",
    "```python\n",
    "# We need to use the low-level library to interact with SageMaker since the SageMaker API\n",
    "# is not available natively through Lambda.\n",
    "import boto3\n",
    "\n",
    "def lambda_handler(event, context):\n",
    "\n",
    "    # The SageMaker runtime is what allows us to invoke the endpoint that we've created.\n",
    "    runtime = boto3.Session().client('sagemaker-runtime')\n",
    "\n",
    "    # Now we use the SageMaker runtime to invoke our endpoint, sending the review we were given\n",
    "    response = runtime.invoke_endpoint(EndpointName = '**ENDPOINT NAME HERE**',    # The name of the endpoint we created\n",
    "                                       ContentType = 'text/plain',                 # The data format that is expected\n",
    "                                       Body = event['body'])                       # The actual review\n",
    "\n",
    "    # The response is an HTTP response whose body contains the result of our inference\n",
    "    result = response['Body'].read().decode('utf-8')\n",
    "\n",
    "    return {\n",
    "        'statusCode' : 200,\n",
    "        'headers' : { 'Content-Type' : 'text/plain', 'Access-Control-Allow-Origin' : '*' },\n",
    "        'body' : result\n",
    "    }\n",
    "```\n",
    "\n",
    "Once you have copy and pasted the code above into the Lambda code editor, replace the `**ENDPOINT NAME HERE**` portion with the name of the endpoint that we deployed earlier. You can determine the name of the endpoint using the code cell below."
   ]
  },
  {
   "cell_type": "code",
   "execution_count": 46,
   "metadata": {},
   "outputs": [
    {
     "data": {
      "text/plain": [
       "'sagemaker-pytorch-2019-03-22-02-18-24-603'"
      ]
     },
     "execution_count": 46,
     "metadata": {},
     "output_type": "execute_result"
    }
   ],
   "source": [
    "predictor.endpoint"
   ]
  },
  {
   "cell_type": "markdown",
   "metadata": {},
   "source": [
    "Once you have added the endpoint name to the Lambda function, click on **Save**. Your Lambda function is now up and running. Next we need to create a way for our web app to execute the Lambda function.\n",
    "\n",
    "### Setting up API Gateway\n",
    "\n",
    "Now that our Lambda function is set up, it is time to create a new API using API Gateway that will trigger the Lambda function we have just created.\n",
    "\n",
    "Using AWS Console, navigate to **Amazon API Gateway** and then click on **Get started**.\n",
    "\n",
    "On the next page, make sure that **New API** is selected and give the new api a name, for example, `sentiment_analysis_api`. Then, click on **Create API**.\n",
    "\n",
    "Now we have created an API, however it doesn't currently do anything. What we want it to do is to trigger the Lambda function that we created earlier.\n",
    "\n",
    "Select the **Actions** dropdown menu and click **Create Method**. A new blank method will be created, select its dropdown menu and select **POST**, then click on the check mark beside it.\n",
    "\n",
    "For the integration point, make sure that **Lambda Function** is selected and click on the **Use Lambda Proxy integration**. This option makes sure that the data that is sent to the API is then sent directly to the Lambda function with no processing. It also means that the return value must be a proper response object as it will also not be processed by API Gateway.\n",
    "\n",
    "Type the name of the Lambda function you created earlier into the **Lambda Function** text entry box and then click on **Save**. Click on **OK** in the pop-up box that then appears, giving permission to API Gateway to invoke the Lambda function you created.\n",
    "\n",
    "The last step in creating the API Gateway is to select the **Actions** dropdown and click on **Deploy API**. You will need to create a new Deployment stage and name it anything you like, for example `prod`.\n",
    "\n",
    "You have now successfully set up a public API to access your SageMaker model. Make sure to copy or write down the URL provided to invoke your newly created public API as this will be needed in the next step. This URL can be found at the top of the page, highlighted in blue next to the text **Invoke URL**."
   ]
  },
  {
   "cell_type": "markdown",
   "metadata": {},
   "source": [
    "## Step 4: Deploying our web app\n",
    "\n",
    "Now that we have a publicly available API, we can start using it in a web app. For our purposes, we have provided a simple static html file which can make use of the public api you created earlier.\n",
    "\n",
    "In the `website` folder there should be a file called `index.html`. Download the file to your computer and open that file up in a text editor of your choice. There should be a line which contains **\\*\\*REPLACE WITH PUBLIC API URL\\*\\***. Replace this string with the url that you wrote down in the last step and then save the file.\n",
    "\n",
    "Now, if you open `index.html` on your local computer, your browser will behave as a local web server and you can use the provided site to interact with your SageMaker model.\n",
    "\n",
    "If you'd like to go further, you can host this html file anywhere you'd like, for example using github or hosting a static site on Amazon's S3. Once you have done this you can share the link with anyone you'd like and have them play with it too!\n",
    "\n",
    "> **Important Note** In order for the web app to communicate with the SageMaker endpoint, the endpoint has to actually be deployed and running. This means that you are paying for it. Make sure that the endpoint is running when you want to use the web app but that you shut it down when you don't need it, otherwise you will end up with a surprisingly large AWS bill.\n",
    "\n",
    "**TODO:** Make sure that you include the edited `index.html` file in your project submission."
   ]
  },
  {
   "cell_type": "markdown",
   "metadata": {},
   "source": [
    "Now that your web app is working, trying playing around with it and see how well it works.\n",
    "\n",
    "**Question**: Give an example of a review that you entered into your web app. What was the predicted sentiment of your example review?"
   ]
  },
  {
   "cell_type": "markdown",
   "metadata": {},
   "source": [
    "**Answer:** Great movie although the end was predictable. Your review was POSITIVE!\n",
    "Terrible movie but the actors did a good job. Your review was NEGATIVE!"
   ]
  },
  {
   "cell_type": "markdown",
   "metadata": {},
   "source": [
    "### Delete the endpoint\n",
    "\n",
    "Remember to always shut down your endpoint if you are no longer using it. You are charged for the length of time that the endpoint is running so if you forget and leave it on you could end up with an unexpectedly large bill."
   ]
  },
  {
   "cell_type": "code",
   "execution_count": 47,
   "metadata": {},
   "outputs": [],
   "source": [
    "#predictor.delete_endpoint()"
   ]
  }
 ],
 "metadata": {
  "kernelspec": {
   "display_name": "conda_pytorch_p36",
   "language": "python",
   "name": "conda_pytorch_p36"
  },
  "language_info": {
   "codemirror_mode": {
    "name": "ipython",
    "version": 3
   },
   "file_extension": ".py",
   "mimetype": "text/x-python",
   "name": "python",
   "nbconvert_exporter": "python",
   "pygments_lexer": "ipython3",
   "version": "3.6.5"
  }
 },
 "nbformat": 4,
 "nbformat_minor": 2
}
